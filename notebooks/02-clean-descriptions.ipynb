{
 "cells": [
  {
   "cell_type": "markdown",
   "metadata": {},
   "source": [
    "# Clean Item Descriptions and Features"
   ]
  },
  {
   "cell_type": "code",
   "execution_count": null,
   "metadata": {},
   "outputs": [],
   "source": [
    "# CATEGORY = \"Baby_Products\"\n",
    "CATEGORY = \"Video_Games\"\n",
    "\n",
    "# Define sequence lengths\n",
    "MIN_SEQUENCE_LENGTH = 3\n",
    "MAX_SEQUENCE_LENGTH = 100  # Adjust as needed"
   ]
  },
  {
   "cell_type": "code",
   "execution_count": null,
   "metadata": {},
   "outputs": [],
   "source": [
    "import sys\n",
    "from pathlib import Path\n",
    "\n",
    "NOTEBOOK_DIR = Path.cwd()\n",
    "PROJECT_ROOT = NOTEBOOK_DIR.parent\n",
    "sys.path.append(str(PROJECT_ROOT))\n",
    "\n",
    "# Data directory\n",
    "DATA_DIR = Path(PROJECT_ROOT, \"data\")\n",
    "DATA_DIR.mkdir(exist_ok=True)"
   ]
  },
  {
   "cell_type": "code",
   "execution_count": null,
   "metadata": {},
   "outputs": [],
   "source": [
    "import csv\n",
    "import json\n",
    "import logging\n",
    "import os\n",
    "import threading\n",
    "import time\n",
    "from concurrent.futures import ThreadPoolExecutor, as_completed\n",
    "from typing import Dict\n",
    "\n",
    "import matplotlib.pyplot as plt\n",
    "import numpy as np\n",
    "import polars as pl\n",
    "from dotenv import load_dotenv\n",
    "from google import genai\n",
    "from IPython.display import display\n",
    "from polars.exceptions import NoDataError\n",
    "from tqdm.notebook import tqdm\n",
    "\n",
    "from src.logger import setup_logger\n",
    "\n",
    "# Set environment variables to reduce Google API verbosity\n",
    "os.environ[\"GRPC_VERBOSITY\"] = \"ERROR\"\n",
    "os.environ[\"GLOG_minloglevel\"] = \"2\"\n",
    "\n",
    "logger = setup_logger(\"clean-items\")\n",
    "logging.getLogger(\"httpcore\").setLevel(logging.WARNING)\n",
    "logging.getLogger(\"httpx\").setLevel(logging.WARNING)\n",
    "logging.getLogger(\"google_genai\").setLevel(logging.WARNING)"
   ]
  },
  {
   "cell_type": "code",
   "execution_count": null,
   "metadata": {},
   "outputs": [
    {
     "data": {
      "text/plain": [
       "True"
      ]
     },
     "execution_count": 4,
     "metadata": {},
     "output_type": "execute_result"
    }
   ],
   "source": [
    "load_dotenv()"
   ]
  },
  {
   "cell_type": "code",
   "execution_count": null,
   "metadata": {},
   "outputs": [],
   "source": [
    "# API settings\n",
    "MODEL = \"gemini-2.5-flash-lite\"\n",
    "MAX_RETRIES: int = 5\n",
    "RETRY_DELAY: float = 1.0  # Seconds\n",
    "RATE_LIMIT_DELAY: float = 0.2  # Seconds between API calls\n",
    "MAX_THREADS: int = 10\n",
    "\n",
    "# Text processing settings\n",
    "MAX_DESCRIPTION_LENGTH: int = 2000  # Truncate before sending to API\n",
    "MAX_FEATURES_LENGTH: int = 1500\n",
    "MIN_DESCRIPTION_LENGTH: int = 50  # Minimgemini_model: str = \"gemini-2.0-flash-exp\"um length to consider valid\n",
    "MIN_FEATURES_LENGTH: int = 20"
   ]
  },
  {
   "cell_type": "markdown",
   "metadata": {},
   "source": [
    "## 2. Load Data and Initial Analysis"
   ]
  },
  {
   "cell_type": "code",
   "execution_count": null,
   "metadata": {},
   "outputs": [
    {
     "name": "stdout",
     "output_type": "stream",
     "text": [
      "12:32:13 - Loaded 66,133 items from /Users/eugeneyan/projects/semantic-id/data/output/Video_Games_items.parquet\n",
      "Total items: 66,133\n",
      "Columns: ['parent_asin', 'title', 'description_text', 'features_text', 'main_category', 'categories_text', 'store', 'average_rating', 'rating_number', 'price', 'item_context']\n"
     ]
    },
    {
     "data": {
      "text/html": [
       "<div><style>\n",
       ".dataframe > thead > tr,\n",
       ".dataframe > tbody > tr {\n",
       "  text-align: right;\n",
       "  white-space: pre-wrap;\n",
       "}\n",
       "</style>\n",
       "<small>shape: (3, 4)</small><table border=\"1\" class=\"dataframe\"><thead><tr><th>parent_asin</th><th>title</th><th>description_text</th><th>features_text</th></tr><tr><td>str</td><td>str</td><td>str</td><td>str</td></tr></thead><tbody><tr><td>&quot;B000FH0MHO&quot;</td><td>&quot;Dash 8-300 Professional Add-On&quot;</td><td>&quot;The Dash 8-300 Professional Ad…</td><td>&quot;Features Dash 8-300 and 8-Q300…</td></tr><tr><td>&quot;B00Z9TLVK0&quot;</td><td>&quot;NBA 2K17 - Early Tip Off Editi…</td><td>&quot;Following the record-breaking …</td><td>&quot;The #1 rated NBA video game si…</td></tr><tr><td>&quot;B002WH4ZJG&quot;</td><td>&quot;Thrustmaster Elite Fitness Pac…</td><td>&quot;The Thrustmaster Motion Plus E…</td><td>&quot;Includes (9) Total Accessories…</td></tr></tbody></table></div>"
      ],
      "text/plain": [
       "shape: (3, 4)\n",
       "┌─────────────┬────────────────────────────┬───────────────────────────┬───────────────────────────┐\n",
       "│ parent_asin ┆ title                      ┆ description_text          ┆ features_text             │\n",
       "│ ---         ┆ ---                        ┆ ---                       ┆ ---                       │\n",
       "│ str         ┆ str                        ┆ str                       ┆ str                       │\n",
       "╞═════════════╪════════════════════════════╪═══════════════════════════╪═══════════════════════════╡\n",
       "│ B000FH0MHO  ┆ Dash 8-300 Professional    ┆ The Dash 8-300            ┆ Features Dash 8-300 and   │\n",
       "│             ┆ Add-On                     ┆ Professional Ad…          ┆ 8-Q300…                   │\n",
       "│ B00Z9TLVK0  ┆ NBA 2K17 - Early Tip Off   ┆ Following the             ┆ The #1 rated NBA video    │\n",
       "│             ┆ Editi…                     ┆ record-breaking …         ┆ game si…                  │\n",
       "│ B002WH4ZJG  ┆ Thrustmaster Elite Fitness ┆ The Thrustmaster Motion   ┆ Includes (9) Total        │\n",
       "│             ┆ Pac…                       ┆ Plus E…                   ┆ Accessories…              │\n",
       "└─────────────┴────────────────────────────┴───────────────────────────┴───────────────────────────┘"
      ]
     },
     "metadata": {},
     "output_type": "display_data"
    }
   ],
   "source": [
    "# Load the data\n",
    "df = pl.read_parquet(DATA_DIR / \"output\" / f\"{CATEGORY}_items.parquet\")\n",
    "logger.info(f\"Loaded {len(df):,} items from {DATA_DIR / 'output' / f'{CATEGORY}_items.parquet'}\")\n",
    "\n",
    "# Display basic information\n",
    "print(f\"Total items: {len(df):,}\")\n",
    "print(f\"Columns: {df.columns}\")\n",
    "display(df.head(3).select([\"parent_asin\", \"title\", \"description_text\", \"features_text\"]))"
   ]
  },
  {
   "cell_type": "code",
   "execution_count": null,
   "metadata": {},
   "outputs": [
    {
     "name": "stdout",
     "output_type": "stream",
     "text": [
      "12:32:13 - Initial Text Quality Analysis:\n",
      "12:32:13 - {\n",
      "  \"description\": {\n",
      "    \"min_length\": 101,\n",
      "    \"max_length\": 93558,\n",
      "    \"mean_length\": 1039.0346120696172,\n",
      "    \"median_length\": 643.0,\n",
      "    \"empty_count\": 0,\n",
      "    \"truncated_count\": 166\n",
      "  },\n",
      "  \"features\": {\n",
      "    \"min_length\": 0,\n",
      "    \"max_length\": 5478,\n",
      "    \"mean_length\": 442.33393313474363,\n",
      "    \"median_length\": 335.0,\n",
      "    \"empty_count\": 7829\n",
      "  },\n",
      "  \"issues\": {\n",
      "    \"html_entities\": 14,\n",
      "    \"excessive_whitespace\": 2673,\n",
      "    \"no_punctuation_features\": 19736\n",
      "  }\n",
      "}\n"
     ]
    }
   ],
   "source": [
    "# Analyze text quality issues\n",
    "def analyze_text_quality(df: pl.DataFrame) -> Dict:\n",
    "    \"\"\"Analyze text quality issues in the dataset.\"\"\"\n",
    "    stats = {}\n",
    "\n",
    "    # Length statistics\n",
    "    desc_lengths = df[\"description_text\"].str.len_chars()\n",
    "    feat_lengths = df[\"features_text\"].str.len_chars()\n",
    "\n",
    "    stats[\"description\"] = {\n",
    "        \"min_length\": desc_lengths.min(),\n",
    "        \"max_length\": desc_lengths.max(),\n",
    "        \"mean_length\": desc_lengths.mean(),\n",
    "        \"median_length\": desc_lengths.median(),\n",
    "        \"empty_count\": (desc_lengths == 0).sum(),\n",
    "        \"truncated_count\": df[\"description_text\"].str.ends_with(\"...\").sum(),\n",
    "    }\n",
    "\n",
    "    stats[\"features\"] = {\n",
    "        \"min_length\": feat_lengths.min(),\n",
    "        \"max_length\": feat_lengths.max(),\n",
    "        \"mean_length\": feat_lengths.mean(),\n",
    "        \"median_length\": feat_lengths.median(),\n",
    "        \"empty_count\": (feat_lengths == 0).sum(),\n",
    "    }\n",
    "\n",
    "    # Check for common issues\n",
    "    stats[\"issues\"] = {\n",
    "        \"html_entities\": df.filter(pl.col(\"description_text\").str.contains(\"&amp;|&lt;|&gt;|&nbsp;\")).shape[0],\n",
    "        \"excessive_whitespace\": df.filter(pl.col(\"description_text\").str.contains(r\"\\s{3,}\")).shape[0],\n",
    "        \"no_punctuation_features\": df.filter(\n",
    "            (pl.col(\"features_text\").str.len_chars() > 0) & (~pl.col(\"features_text\").str.contains(r\"[.!?]\"))\n",
    "        ).shape[0],\n",
    "    }\n",
    "\n",
    "    return stats\n",
    "\n",
    "\n",
    "initial_stats = analyze_text_quality(df)\n",
    "logger.info(\"Initial Text Quality Analysis:\")\n",
    "logger.info(json.dumps(initial_stats, indent=2, default=str))"
   ]
  },
  {
   "cell_type": "code",
   "execution_count": null,
   "metadata": {},
   "outputs": [
    {
     "data": {
      "image/png": "[encoded data removed]",
      "text/plain": [
       "<Figure size 1400x500 with 2 Axes>"
      ]
     },
     "metadata": {},
     "output_type": "display_data"
    }
   ],
   "source": [
    "# Visualize text length distributions\n",
    "fig, axes = plt.subplots(1, 2, figsize=(14, 5))\n",
    "\n",
    "# Description lengths\n",
    "desc_lengths = df[\"description_text\"].str.len_chars().to_list()\n",
    "axes[0].hist(desc_lengths, bins=100, edgecolor=\"black\", alpha=0.7, cumulative=True, density=True)\n",
    "axes[0].axvline(np.median(desc_lengths), color=\"red\", linestyle=\"--\", label=f\"Median: {np.median(desc_lengths):.0f}\")\n",
    "axes[0].set_xlabel(\"Character Count\")\n",
    "axes[0].set_ylabel(\"Number of Items\")\n",
    "axes[0].set_title(\"Description Text Length Distribution\")\n",
    "axes[0].legend()\n",
    "axes[0].set_xlim(0, min(10000, max(desc_lengths)))\n",
    "\n",
    "# Features lengths\n",
    "feat_lengths = df[\"features_text\"].str.len_chars().to_list()\n",
    "feat_lengths_nonzero = [l for l in feat_lengths if l > 0]\n",
    "axes[1].hist(feat_lengths_nonzero, bins=50, edgecolor=\"black\", alpha=0.7, cumulative=True, density=True)\n",
    "axes[1].axvline(\n",
    "    np.median(feat_lengths_nonzero), color=\"red\", linestyle=\"--\", label=f\"Median: {np.median(feat_lengths_nonzero):.0f}\"\n",
    ")\n",
    "axes[1].set_xlabel(\"Character Count\")\n",
    "axes[1].set_ylabel(\"Number of Items\")\n",
    "axes[1].set_title(\"Features Text Length Distribution (non-empty)\")\n",
    "axes[1].legend()\n",
    "axes[1].set_xlim(0, min(3000, max(feat_lengths_nonzero)))\n",
    "\n",
    "plt.tight_layout()\n",
    "plt.show()"
   ]
  },
  {
   "cell_type": "markdown",
   "metadata": {},
   "source": [
    "# Initialize Gemini client"
   ]
  },
  {
   "cell_type": "code",
   "execution_count": null,
   "metadata": {},
   "outputs": [
    {
     "name": "stdout",
     "output_type": "stream",
     "text": [
      "12:32:13 - Gemini client initialized successfully\n"
     ]
    }
   ],
   "source": [
    "client = genai.Client()\n",
    "logger.info(\"Gemini client initialized successfully\")"
   ]
  },
  {
   "cell_type": "code",
   "execution_count": null,
   "metadata": {},
   "outputs": [
    {
     "name": "stdout",
     "output_type": "stream",
     "text": [
      "12:32:14 - API Test: API connection successful\n"
     ]
    }
   ],
   "source": [
    "try:\n",
    "    test_response = client.models.generate_content(\n",
    "        model=MODEL, contents=\"Say 'API connection successful' if you can read this.\"\n",
    "    )\n",
    "    logger.info(f\"API Test: {test_response.text}\")\n",
    "except Exception as e:\n",
    "    logger.error(f\"Failed to initialize Gemini client: {e}\")\n",
    "    logger.error(\"Please ensure GEMINI_API_KEY environment variable is set\")\n",
    "    raise"
   ]
  },
  {
   "cell_type": "markdown",
   "metadata": {},
   "source": [
    "## 4. Define Cleaning Functions"
   ]
  },
  {
   "cell_type": "code",
   "execution_count": null,
   "metadata": {},
   "outputs": [],
   "source": [
    "PROMPT = \"\"\"Gemini, you are a data cleaning expert who rewrites product descriptions to be clear, concise, and well-formatted.\n",
    "\n",
    "Rewrite the following product description to be clear, concise, and well-formatted.\n",
    "\n",
    "Instructions:\n",
    "1. Fix grammar, spelling, and punctuation errors\n",
    "2. Remove HTML entities (like &amp;, &lt;, &gt;)\n",
    "3. Fix truncated sentences (ending with ...)\n",
    "4. Remove excessive whitespace and formatting artifacts\n",
    "5. Keep all important product information\n",
    "6. Maintain a professional, informative tone\n",
    "7. If the description seems cut off, complete it naturally\n",
    "8. Convert bullet-point lists into coherent, readable text\n",
    "9. Group related features together logically\n",
    "10. Remove redundant information\n",
    "\n",
    "IMPORTANT: Keep the cleaned description under 200 words.\n",
    "\n",
    "For each item, return ONLY the cleaned description within <clean_description> tags.\n",
    "\n",
    "Product description to clean:\n",
    "<description>\n",
    "{description}\n",
    "<description>\n",
    "\n",
    "Cleaned description:\n",
    "<clean_description>\n",
    "\"\"\".strip()"
   ]
  },
  {
   "cell_type": "code",
   "execution_count": null,
   "metadata": {},
   "outputs": [
    {
     "name": "stdout",
     "output_type": "stream",
     "text": [
      "12:32:15 - Original: The Dash 8-300 Professional Add-On lets you pilot a real commuter special. Fly two versions of the popular Dash 8-300 in a total of 17 different liveries. The Dash 8-300 is one of the most popular short-haul aircraft available and this superbly modelled version from acclaimed aircraft developers PSS is modelled in two versions with a total of 17 different liveries. The package also includes scenery for three European airports, tutorials, tutorial flights and utilities together in one fantastic package.\n",
      "12:32:15 - Cleaned: Pilot a true commuter aircraft with the Dash 8-300 Professional Add-On. This package features two versions of the popular Dash 8-300, rendered in 17 distinct liveries. Known for its efficiency in short-haul operations, this superbly modeled aircraft from PSS brings the authentic Dash 8-300 experience to your simulator. The comprehensive add-on also includes scenery for three European airports, along with helpful tutorials, tutorial flights, and utilities, all bundled into one exceptional package.\n"
     ]
    }
   ],
   "source": [
    "# CLEAN DESCRIPTION\n",
    "def clean_description(prompt: str, description: str, model: str = MODEL) -> str:\n",
    "    \"\"\"\n",
    "    Send a prompt and description to Gemini API for cleaning.\n",
    "\n",
    "    Args:\n",
    "        prompt: The cleaning instructions prompt\n",
    "        description: The text description to clean\n",
    "        model: The Gemini model to use (defaults to MODEL constant)\n",
    "\n",
    "    Returns:\n",
    "        Cleaned description text from Gemini\n",
    "    \"\"\"\n",
    "    attempt = 0\n",
    "    while attempt < MAX_RETRIES:\n",
    "        try:\n",
    "            # Format the full prompt with the description\n",
    "            full_prompt = prompt.format(description=description)\n",
    "\n",
    "            # Generate content using Gemini with suppressed output\n",
    "\n",
    "            response = client.models.generate_content(model=model, contents=full_prompt)\n",
    "\n",
    "            # Extract the cleaned text from response\n",
    "            cleaned_text = f\"{response.text.strip()}\"\n",
    "\n",
    "            # Extract content between tags if present\n",
    "            if \"<clean_description>\" in cleaned_text and \"</clean_description>\" in cleaned_text:\n",
    "                start = cleaned_text.find(\"<clean_description>\") + len(\"<clean_description>\")\n",
    "                end = cleaned_text.find(\"</clean_description>\")\n",
    "                cleaned_text = cleaned_text[start:end].strip()\n",
    "                return cleaned_text\n",
    "            else:\n",
    "                # If tags not found, increment attempt and retry\n",
    "                attempt += 1\n",
    "                if attempt < MAX_RETRIES:\n",
    "                    logger.warning(f\"Tags not found in response, retrying... (attempt {attempt}/{MAX_RETRIES})\")\n",
    "                    time.sleep(RETRY_DELAY)\n",
    "                continue\n",
    "\n",
    "        except Exception as e:\n",
    "            attempt += 1\n",
    "            if attempt < MAX_RETRIES:\n",
    "                logger.warning(f\"Error cleaning with Gemini: {e}, retrying... (attempt {attempt}/{MAX_RETRIES})\")\n",
    "                time.sleep(RETRY_DELAY)\n",
    "            else:\n",
    "                logger.error(f\"Failed after {MAX_RETRIES} attempts: {e}\")\n",
    "\n",
    "    # Return original description if all attempts fail\n",
    "    logger.warning(f\"🚨 Returning 'NA' after {MAX_RETRIES} failed attempts\")\n",
    "    return \"NA\"\n",
    "\n",
    "\n",
    "# Test the function with a sample description\n",
    "test_description = df.head(1).select(\"description_text\").item()\n",
    "cleaned = clean_description(PROMPT, test_description)\n",
    "logger.info(f\"Original: {test_description}\")\n",
    "logger.info(f\"Cleaned: {cleaned}\")"
   ]
  },
  {
   "cell_type": "markdown",
   "metadata": {},
   "source": [
    "## 5. Parallel Processing with Checkpointing"
   ]
  },
  {
   "cell_type": "code",
   "execution_count": null,
   "metadata": {},
   "outputs": [
    {
     "name": "stdout",
     "output_type": "stream",
     "text": [
      "12:32:15 - Found 66,124 already processed items in checkpoint file\n",
      "12:32:15 - Items to process: 9 out of 66,133 total items\n",
      "12:32:15 - Starting parallel processing with 10 workers...\n"
     ]
    },
    {
     "data": {
      "application/vnd.jupyter.widget-view+json": {
       "model_id": "84b293e9edbf4bdc9465a9259a3dcbde",
       "version_major": 2,
       "version_minor": 0
      },
      "text/plain": [
       "Processing items:   0%|          | 0/9 [00:00<?, ?it/s]"
      ]
     },
     "metadata": {},
     "output_type": "display_data"
    },
    {
     "name": "stdout",
     "output_type": "stream",
     "text": [
      "12:32:15 - Error cleaning with Gemini: 'NoneType' object has no attribute 'strip', retrying... (attempt 1/5)\n",
      "12:32:16 - Tags not found in response, retrying... (attempt 1/5)\n",
      "12:32:16 - Tags not found in response, retrying... (attempt 1/5)\n",
      "12:32:16 - Tags not found in response, retrying... (attempt 1/5)\n",
      "12:32:16 - Tags not found in response, retrying... (attempt 1/5)\n",
      "12:32:16 - Tags not found in response, retrying... (attempt 1/5)\n",
      "12:32:16 - Error cleaning with Gemini: 'NoneType' object has no attribute 'strip', retrying... (attempt 2/5)\n",
      "12:32:16 - Tags not found in response, retrying... (attempt 1/5)\n",
      "12:32:16 - Tags not found in response, retrying... (attempt 1/5)\n",
      "12:32:16 - Tags not found in response, retrying... (attempt 1/5)\n",
      "12:32:17 - Error cleaning with Gemini: 'NoneType' object has no attribute 'strip', retrying... (attempt 3/5)\n",
      "12:32:17 - Tags not found in response, retrying... (attempt 2/5)\n",
      "12:32:18 - Tags not found in response, retrying... (attempt 2/5)\n",
      "12:32:18 - Tags not found in response, retrying... (attempt 2/5)\n",
      "12:32:18 - Tags not found in response, retrying... (attempt 2/5)\n",
      "12:32:18 - Tags not found in response, retrying... (attempt 2/5)\n",
      "12:32:18 - Error cleaning with Gemini: 'NoneType' object has no attribute 'strip', retrying... (attempt 4/5)\n",
      "12:32:18 - Tags not found in response, retrying... (attempt 2/5)\n",
      "12:32:19 - Tags not found in response, retrying... (attempt 2/5)\n",
      "12:32:20 - Failed after 5 attempts: 'NoneType' object has no attribute 'strip'\n",
      "12:32:20 - 🚨 Returning 'NA' after 5 failed attempts\n",
      "12:32:20 - Tags not found in response, retrying... (attempt 3/5)\n",
      "12:32:20 - Tags not found in response, retrying... (attempt 3/5)\n",
      "12:32:20 - Tags not found in response, retrying... (attempt 3/5)\n",
      "12:32:20 - Tags not found in response, retrying... (attempt 3/5)\n",
      "12:32:20 - Tags not found in response, retrying... (attempt 3/5)\n",
      "12:32:21 - Tags not found in response, retrying... (attempt 3/5)\n",
      "12:32:22 - Tags not found in response, retrying... (attempt 3/5)\n",
      "12:32:22 - Tags not found in response, retrying... (attempt 4/5)\n",
      "12:32:22 - Tags not found in response, retrying... (attempt 4/5)\n",
      "12:32:22 - Tags not found in response, retrying... (attempt 4/5)\n",
      "12:32:23 - Tags not found in response, retrying... (attempt 4/5)\n",
      "12:32:23 - Tags not found in response, retrying... (attempt 4/5)\n",
      "12:32:24 - 🚨 Returning 'NA' after 5 failed attempts\n",
      "12:32:24 - 🚨 Returning 'NA' after 5 failed attempts\n",
      "12:32:24 - Tags not found in response, retrying... (attempt 4/5)\n",
      "12:32:24 - 🚨 Returning 'NA' after 5 failed attempts\n",
      "12:32:25 - 🚨 Returning 'NA' after 5 failed attempts\n",
      "12:32:25 - 🚨 Returning 'NA' after 5 failed attempts\n",
      "12:32:27 - Processing complete! Successful: 9, Failed: 0\n"
     ]
    }
   ],
   "source": [
    "# Setup checkpoint file\n",
    "checkpoint_file = DATA_DIR / \"output\" / f\"{CATEGORY}_descriptions_clean.csv\"\n",
    "\n",
    "# Load existing processed ASINs if checkpoint exists\n",
    "processed_asins = set()\n",
    "if checkpoint_file.exists():\n",
    "    try:\n",
    "        existing_df = pl.read_csv(checkpoint_file)\n",
    "        existing_df = existing_df.filter(pl.col(\"clean_description\") != \"NA\")\n",
    "        processed_asins = set(existing_df[\"parent_asin\"])\n",
    "        logger.info(f\"Found {len(processed_asins):,} already processed items in checkpoint file\")\n",
    "    except NoDataError as e:\n",
    "        logger.error(f\"CSV is empty: {e}\")\n",
    "        processed_asins = set()\n",
    "else:\n",
    "    # Create new CSV with headers\n",
    "    with open(checkpoint_file, \"w\", newline=\"\") as f:\n",
    "        writer = csv.writer(f)\n",
    "        writer.writerow([\"parent_asin\", \"clean_description\"])\n",
    "    logger.info(f\"Created new checkpoint file: {checkpoint_file}\")\n",
    "\n",
    "# Filter to only unprocessed items\n",
    "items_to_process = df.filter(~pl.col(\"parent_asin\").is_in(processed_asins))\n",
    "logger.info(f\"Items to process: {len(items_to_process):,} out of {len(df):,} total items\")\n",
    "\n",
    "# Thread-safe CSV writing lock\n",
    "csv_lock = threading.Lock()\n",
    "\n",
    "\n",
    "def process_single_item(item_data):\n",
    "    \"\"\"Process a single item and save to CSV.\"\"\"\n",
    "    asin, description = item_data\n",
    "\n",
    "    try:\n",
    "        # Truncate description if too long\n",
    "        if len(description) > MAX_DESCRIPTION_LENGTH:\n",
    "            description = description[:MAX_DESCRIPTION_LENGTH]\n",
    "\n",
    "        # Clean the description\n",
    "        cleaned = clean_description(PROMPT, description)\n",
    "\n",
    "        # Write immediately to CSV with lock\n",
    "        with csv_lock:\n",
    "            with open(checkpoint_file, \"a\", newline=\"\", encoding=\"utf-8\") as f:\n",
    "                writer = csv.writer(f)\n",
    "                writer.writerow([asin, cleaned])\n",
    "\n",
    "        # Rate limiting\n",
    "        time.sleep(RATE_LIMIT_DELAY)\n",
    "\n",
    "        return asin, cleaned, True\n",
    "\n",
    "    except Exception as e:\n",
    "        logger.error(f\"Failed to process {asin}: {e}\")\n",
    "        return asin, description, False\n",
    "\n",
    "\n",
    "# Prepare items for processing\n",
    "items = [(row[\"parent_asin\"], row[\"description_text\"]) for row in items_to_process.iter_rows(named=True)]\n",
    "\n",
    "if len(items) > 0:\n",
    "    logger.info(f\"Starting parallel processing with {10} workers...\")\n",
    "\n",
    "    # Process with ThreadPoolExecutor\n",
    "    successful = 0\n",
    "    failed = 0\n",
    "\n",
    "    with ThreadPoolExecutor(max_workers=MAX_THREADS) as executor:\n",
    "        # Submit all tasks\n",
    "        futures = {executor.submit(process_single_item, item): item for item in items}\n",
    "\n",
    "        # Process completions with progress bar\n",
    "        with tqdm(total=len(futures), desc=\"Processing items\") as pbar:\n",
    "            for future in as_completed(futures):\n",
    "                try:\n",
    "                    asin, result, success = future.result()\n",
    "                    if success:\n",
    "                        successful += 1\n",
    "                    else:\n",
    "                        failed += 1\n",
    "                    pbar.update(1)\n",
    "                    pbar.set_postfix({\"success\": successful, \"failed\": failed})\n",
    "\n",
    "                except Exception as e:\n",
    "                    failed += 1\n",
    "                    pbar.update(1)\n",
    "                    pbar.set_postfix({\"success\": successful, \"failed\": failed})\n",
    "                    logger.error(f\"Future failed: {e}\")\n",
    "\n",
    "    logger.info(f\"Processing complete! Successful: {successful:,}, Failed: {failed:,}\")\n",
    "\n",
    "else:\n",
    "    logger.info(\"No items to process - all items already in checkpoint file!\")"
   ]
  },
  {
   "cell_type": "markdown",
   "metadata": {},
   "source": [
    "## 6. Verify and Load Results"
   ]
  },
  {
   "cell_type": "code",
   "execution_count": null,
   "metadata": {},
   "outputs": [
    {
     "name": "stdout",
     "output_type": "stream",
     "text": [
      "12:32:27 - Loaded 66,176 cleaned descriptions from /Users/eugeneyan/projects/semantic-id/data/output/Video_Games_descriptions_clean.csv\n",
      "12:32:27 - Sample of cleaned descriptions:\n"
     ]
    },
    {
     "data": {
      "text/html": [
       "<div><style>\n",
       ".dataframe > thead > tr,\n",
       ".dataframe > tbody > tr {\n",
       "  text-align: right;\n",
       "  white-space: pre-wrap;\n",
       "}\n",
       "</style>\n",
       "<small>shape: (3, 2)</small><table border=\"1\" class=\"dataframe\"><thead><tr><th>parent_asin</th><th>clean_description</th></tr><tr><td>str</td><td>str</td></tr></thead><tbody><tr><td>&quot;B000FH0MHO&quot;</td><td>&quot;Pilot a realistic commuter air…</td></tr><tr><td>&quot;B00006969T&quot;</td><td>&quot;Relive the golden age of gamin…</td></tr><tr><td>&quot;B00Z9TLVK0&quot;</td><td>&quot;NBA 2K17 builds on the success…</td></tr></tbody></table></div>"
      ],
      "text/plain": [
       "shape: (3, 2)\n",
       "┌─────────────┬─────────────────────────────────┐\n",
       "│ parent_asin ┆ clean_description               │\n",
       "│ ---         ┆ ---                             │\n",
       "│ str         ┆ str                             │\n",
       "╞═════════════╪═════════════════════════════════╡\n",
       "│ B000FH0MHO  ┆ Pilot a realistic commuter air… │\n",
       "│ B00006969T  ┆ Relive the golden age of gamin… │\n",
       "│ B00Z9TLVK0  ┆ NBA 2K17 builds on the success… │\n",
       "└─────────────┴─────────────────────────────────┘"
      ]
     },
     "metadata": {},
     "output_type": "display_data"
    }
   ],
   "source": [
    "# Load and verify the cleaned descriptions\n",
    "if checkpoint_file.exists():\n",
    "    cleaned_df = pl.read_csv(checkpoint_file)\n",
    "    logger.info(f\"Loaded {len(cleaned_df):,} cleaned descriptions from {checkpoint_file}\")\n",
    "\n",
    "    # Display sample of cleaned data\n",
    "    logger.info(\"Sample of cleaned descriptions:\")\n",
    "    display(cleaned_df.head(3))\n",
    "\n",
    "else:\n",
    "    logger.warning(\"No checkpoint file found. Run the processing cell first.\")"
   ]
  },
  {
   "cell_type": "code",
   "execution_count": null,
   "metadata": {},
   "outputs": [],
   "source": []
  }
 ],
 "metadata": {
  "kernelspec": {
   "display_name": ".venv",
   "language": "python",
   "name": "python3"
  },
  "language_info": {
   "codemirror_mode": {
    "name": "ipython",
    "version": 3
   },
   "file_extension": ".py",
   "mimetype": "text/x-python",
   "name": "python",
   "nbconvert_exporter": "python",
   "pygments_lexer": "ipython3",
   "version": "3.12.7"
  }
 },
 "nbformat": 4,
 "nbformat_minor": 4
}
