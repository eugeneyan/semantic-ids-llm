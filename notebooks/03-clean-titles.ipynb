{
 "cells": [
  {
   "cell_type": "markdown",
   "metadata": {},
   "source": [
    "# Clean Product Titles"
   ]
  },
  {
   "cell_type": "code",
   "execution_count": 1,
   "metadata": {},
   "outputs": [],
   "source": [
    "# CATEGORY = \"Baby_Products\"\n",
    "CATEGORY = \"Video_Games\"\n",
    "\n",
    "# Define sequence lengths\n",
    "MIN_SEQUENCE_LENGTH = 3\n",
    "MAX_SEQUENCE_LENGTH = 100  # Adjust as needed"
   ]
  },
  {
   "cell_type": "code",
   "execution_count": 2,
   "metadata": {},
   "outputs": [],
   "source": [
    "import sys\n",
    "from pathlib import Path\n",
    "\n",
    "NOTEBOOK_DIR = Path.cwd()\n",
    "PROJECT_ROOT = NOTEBOOK_DIR.parent\n",
    "sys.path.append(str(PROJECT_ROOT))\n",
    "\n",
    "# Data directory\n",
    "DATA_DIR = Path(PROJECT_ROOT, \"data\")\n",
    "DATA_DIR.mkdir(exist_ok=True)"
   ]
  },
  {
   "cell_type": "code",
   "execution_count": null,
   "metadata": {},
   "outputs": [],
   "source": [
    "import csv\n",
    "import json\n",
    "import logging\n",
    "import os\n",
    "import threading\n",
    "import time\n",
    "from concurrent.futures import ThreadPoolExecutor, as_completed\n",
    "from typing import Dict\n",
    "\n",
    "import matplotlib.pyplot as plt\n",
    "import numpy as np\n",
    "import polars as pl\n",
    "from dotenv import load_dotenv\n",
    "from google import genai\n",
    "from IPython.display import display\n",
    "from polars.exceptions import NoDataError\n",
    "from tqdm.notebook import tqdm\n",
    "\n",
    "from src.logger import setup_logger\n",
    "\n",
    "# Set environment variables to reduce Google API verbosity\n",
    "os.environ[\"GRPC_VERBOSITY\"] = \"ERROR\"\n",
    "os.environ[\"GLOG_minloglevel\"] = \"2\"\n",
    "\n",
    "logger = setup_logger(\"clean-items\")\n",
    "logging.getLogger(\"httpcore\").setLevel(logging.WARNING)\n",
    "logging.getLogger(\"httpx\").setLevel(logging.WARNING)\n",
    "logging.getLogger(\"google_genai\").setLevel(logging.WARNING)"
   ]
  },
  {
   "cell_type": "code",
   "execution_count": 4,
   "metadata": {},
   "outputs": [
    {
     "data": {
      "text/plain": [
       "True"
      ]
     },
     "execution_count": 4,
     "metadata": {},
     "output_type": "execute_result"
    }
   ],
   "source": [
    "load_dotenv()"
   ]
  },
  {
   "cell_type": "code",
   "execution_count": 5,
   "metadata": {},
   "outputs": [],
   "source": [
    "# API settings\n",
    "MODEL = \"gemini-2.5-flash-lite\"\n",
    "BATCH_SIZE: int = 10  # Items per API call (can process more titles at once)\n",
    "MAX_RETRIES: int = 5\n",
    "RETRY_DELAY: float = 1.0  # Seconds\n",
    "RATE_LIMIT_DELAY: float = 0.1  # Seconds between API calls (faster for shorter text)\n",
    "MAX_THREADS: int = 15  # Can use more threads for shorter text\n",
    "\n",
    "# Text processing settings for titles\n",
    "MAX_TITLE_LENGTH: int = 200  # Truncate titles before sending to API\n",
    "MIN_TITLE_LENGTH: int = 10  # Minimum length to consider valid"
   ]
  },
  {
   "cell_type": "markdown",
   "metadata": {},
   "source": [
    "## 2. Load Data and Analyze Titles"
   ]
  },
  {
   "cell_type": "code",
   "execution_count": 6,
   "metadata": {},
   "outputs": [
    {
     "name": "stdout",
     "output_type": "stream",
     "text": [
      "13:39:03 - Loaded 66,133 items from /Users/eugeneyan/projects/semantic-id/data/output/Video_Games_items.parquet\n",
      "Total items: 66,133\n",
      "Columns: ['parent_asin', 'title', 'description_text', 'features_text', 'main_category', 'categories_text', 'store', 'average_rating', 'rating_number', 'price', 'item_context']\n"
     ]
    },
    {
     "data": {
      "text/html": [
       "<div><style>\n",
       ".dataframe > thead > tr,\n",
       ".dataframe > tbody > tr {\n",
       "  text-align: right;\n",
       "  white-space: pre-wrap;\n",
       "}\n",
       "</style>\n",
       "<small>shape: (5, 2)</small><table border=\"1\" class=\"dataframe\"><thead><tr><th>parent_asin</th><th>title</th></tr><tr><td>str</td><td>str</td></tr></thead><tbody><tr><td>&quot;B000FH0MHO&quot;</td><td>&quot;Dash 8-300 Professional Add-On&quot;</td></tr><tr><td>&quot;B00Z9TLVK0&quot;</td><td>&quot;NBA 2K17 - Early Tip Off Editi…</td></tr><tr><td>&quot;B002WH4ZJG&quot;</td><td>&quot;Thrustmaster Elite Fitness Pac…</td></tr><tr><td>&quot;B0001ZNU56&quot;</td><td>&quot;Spongebob Squarepants, Vol. 1&quot;</td></tr><tr><td>&quot;B009C9E8JY&quot;</td><td>&quot;Set of 4 Bullet Buttons Nickel…</td></tr></tbody></table></div>"
      ],
      "text/plain": [
       "shape: (5, 2)\n",
       "┌─────────────┬─────────────────────────────────┐\n",
       "│ parent_asin ┆ title                           │\n",
       "│ ---         ┆ ---                             │\n",
       "│ str         ┆ str                             │\n",
       "╞═════════════╪═════════════════════════════════╡\n",
       "│ B000FH0MHO  ┆ Dash 8-300 Professional Add-On  │\n",
       "│ B00Z9TLVK0  ┆ NBA 2K17 - Early Tip Off Editi… │\n",
       "│ B002WH4ZJG  ┆ Thrustmaster Elite Fitness Pac… │\n",
       "│ B0001ZNU56  ┆ Spongebob Squarepants, Vol. 1   │\n",
       "│ B009C9E8JY  ┆ Set of 4 Bullet Buttons Nickel… │\n",
       "└─────────────┴─────────────────────────────────┘"
      ]
     },
     "metadata": {},
     "output_type": "display_data"
    }
   ],
   "source": [
    "# Load the data\n",
    "df = pl.read_parquet(DATA_DIR / \"output\" / f\"{CATEGORY}_items.parquet\")\n",
    "logger.info(f\"Loaded {len(df):,} items from {DATA_DIR / 'output' / f'{CATEGORY}_items.parquet'}\")\n",
    "\n",
    "# Display basic information\n",
    "print(f\"Total items: {len(df):,}\")\n",
    "print(f\"Columns: {df.columns}\")\n",
    "display(df.head(5).select([\"parent_asin\", \"title\"]))"
   ]
  },
  {
   "cell_type": "code",
   "execution_count": 8,
   "metadata": {},
   "outputs": [
    {
     "name": "stdout",
     "output_type": "stream",
     "text": [
      "13:39:04 - Initial Title Quality Analysis:\n",
      "13:39:04 - {\n",
      "  \"title_lengths\": {\n",
      "    \"min_length\": 21,\n",
      "    \"max_length\": 620,\n",
      "    \"mean_length\": 75.7560673188877,\n",
      "    \"median_length\": 55.0,\n",
      "    \"empty_count\": 0,\n",
      "    \"too_long_count\": 8470,\n",
      "    \"too_short_count\": 0\n",
      "  },\n",
      "  \"issues\": {\n",
      "    \"all_caps\": 285,\n",
      "    \"excessive_punctuation\": 67,\n",
      "    \"promotional_text\": 1365,\n",
      "    \"special_chars\": 572,\n",
      "    \"parentheses_overuse\": 90,\n",
      "    \"has_platform_keywords\": 40997\n",
      "  }\n",
      "}\n"
     ]
    }
   ],
   "source": [
    "# Analyze title quality issues\n",
    "def analyze_title_quality(df: pl.DataFrame) -> Dict:\n",
    "    \"\"\"Analyze title quality issues in the dataset.\"\"\"\n",
    "    stats = {}\n",
    "\n",
    "    # Length statistics\n",
    "    title_lengths = df[\"title\"].str.len_chars()\n",
    "\n",
    "    stats[\"title_lengths\"] = {\n",
    "        \"min_length\": title_lengths.min(),\n",
    "        \"max_length\": title_lengths.max(),\n",
    "        \"mean_length\": title_lengths.mean(),\n",
    "        \"median_length\": title_lengths.median(),\n",
    "        \"empty_count\": (title_lengths == 0).sum(),\n",
    "        \"too_long_count\": (title_lengths > 150).sum(),\n",
    "        \"too_short_count\": (title_lengths < 10).sum(),\n",
    "    }\n",
    "\n",
    "    # Check for common issues\n",
    "    stats[\"issues\"] = {\n",
    "        \"all_caps\": df.filter(pl.col(\"title\") == pl.col(\"title\").str.to_uppercase()).shape[0],\n",
    "        \"excessive_punctuation\": df.filter(pl.col(\"title\").str.contains(r\"[!]{2,}|[?]{2,}|[.]{3,}\")).shape[0],\n",
    "        \"promotional_text\": df.filter(\n",
    "            pl.col(\"title\").str.to_uppercase().str.contains(r\"NEW!|SALE|LIMITED|EXCLUSIVE|SPECIAL\")\n",
    "        ).shape[0],\n",
    "        \"special_chars\": df.filter(pl.col(\"title\").str.contains(r\"[★☆♥♦♠♣©®™]\")).shape[0],\n",
    "        \"parentheses_overuse\": df.filter(pl.col(\"title\").str.count_matches(r\"\\(\").ge(3)).shape[0],\n",
    "        # Simplified check for platform mentions (removed backreference)\n",
    "        \"has_platform_keywords\": df.filter(\n",
    "            pl.col(\"title\").str.to_lowercase().str.contains(r\"playstation|xbox|nintendo|switch|ps[0-9]|pc\")\n",
    "        ).shape[0],\n",
    "    }\n",
    "\n",
    "    return stats\n",
    "\n",
    "\n",
    "initial_stats = analyze_title_quality(df)\n",
    "logger.info(\"Initial Title Quality Analysis:\")\n",
    "logger.info(json.dumps(initial_stats, indent=2, default=str))"
   ]
  },
  {
   "cell_type": "code",
   "execution_count": 9,
   "metadata": {},
   "outputs": [
    {
     "data": {
      "image/png": "[encoded data removed]",
      "text/plain": [
       "<Figure size 1000x600 with 1 Axes>"
      ]
     },
     "metadata": {},
     "output_type": "display_data"
    },
    {
     "name": "stdout",
     "output_type": "stream",
     "text": [
      "\n",
      "Example titles by length:\n",
      "\n",
      "Short titles (< 30 chars):\n",
      "  - Spongebob Squarepants, Vol. 1 (29 chars)\n",
      "  - Tiger Heli - Nintendo NES (25 chars)\n",
      "  - MX vs ATV Reflex [Download] (27 chars)\n",
      "\n",
      "Long titles (> 150 chars):\n",
      "  - TXEsign Wall Mount Holder for Nintendo Switch Dock Station Adhesive Small Wall Shelf Floating Wall M... (153 chars)\n",
      "  - Deep Tissue Percussion Muscle Cellulite Massager,Handheld Electric Full Body Therapy Massage Gun for... (193 chars)\n",
      "  - 10FT Long PS4 Charger Cord for Xbox One Controller,PS4 Charging Cable,Micro USB Cable for Xbox One S... (187 chars)\n"
     ]
    }
   ],
   "source": [
    "# Visualize title length distribution\n",
    "fig, ax = plt.subplots(1, 1, figsize=(10, 6))\n",
    "\n",
    "# Title lengths\n",
    "title_lengths = df[\"title\"].str.len_chars().to_list()\n",
    "ax.hist(title_lengths, bins=50, edgecolor=\"black\", alpha=0.7, cumulative=False)\n",
    "ax.axvline(np.median(title_lengths), color=\"red\", linestyle=\"--\", label=f\"Median: {np.median(title_lengths):.0f}\")\n",
    "ax.axvline(100, color=\"green\", linestyle=\"--\", label=\"Target Max: 100\")\n",
    "ax.set_xlabel(\"Character Count\")\n",
    "ax.set_ylabel(\"Number of Items\")\n",
    "ax.set_title(\"Product Title Length Distribution\")\n",
    "ax.legend()\n",
    "ax.set_xlim(0, min(300, max(title_lengths)))\n",
    "\n",
    "plt.tight_layout()\n",
    "plt.show()\n",
    "\n",
    "# Show some example titles of different lengths\n",
    "print(\"\\nExample titles by length:\")\n",
    "print(\"\\nShort titles (< 30 chars):\")\n",
    "short_titles = df.filter(pl.col(\"title\").str.len_chars() < 30).head(3)\n",
    "for row in short_titles.iter_rows(named=True):\n",
    "    print(f\"  - {row['title']} ({len(row['title'])} chars)\")\n",
    "\n",
    "print(\"\\nLong titles (> 150 chars):\")\n",
    "long_titles = df.filter(pl.col(\"title\").str.len_chars() > 150).head(3)\n",
    "for row in long_titles.iter_rows(named=True):\n",
    "    print(f\"  - {row['title'][:100]}... ({len(row['title'])} chars)\")"
   ]
  },
  {
   "cell_type": "markdown",
   "metadata": {},
   "source": [
    "# Initialize Gemini client"
   ]
  },
  {
   "cell_type": "code",
   "execution_count": 10,
   "metadata": {},
   "outputs": [
    {
     "name": "stdout",
     "output_type": "stream",
     "text": [
      "13:39:06 - Gemini client initialized successfully\n"
     ]
    }
   ],
   "source": [
    "client = genai.Client()\n",
    "logger.info(\"Gemini client initialized successfully\")"
   ]
  },
  {
   "cell_type": "code",
   "execution_count": 11,
   "metadata": {},
   "outputs": [
    {
     "name": "stdout",
     "output_type": "stream",
     "text": [
      "13:39:07 - API Test: API connection successful\n"
     ]
    }
   ],
   "source": [
    "try:\n",
    "    test_response = client.models.generate_content(\n",
    "        model=MODEL, contents=\"Say 'API connection successful' if you can read this.\"\n",
    "    )\n",
    "    logger.info(f\"API Test: {test_response.text}\")\n",
    "except Exception as e:\n",
    "    logger.error(f\"Failed to initialize Gemini client: {e}\")\n",
    "    logger.error(\"Please ensure GEMINI_API_KEY environment variable is set\")\n",
    "    raise"
   ]
  },
  {
   "cell_type": "markdown",
   "metadata": {},
   "source": [
    "## 4. Define Title Cleaning Functions"
   ]
  },
  {
   "cell_type": "code",
   "execution_count": 12,
   "metadata": {},
   "outputs": [],
   "source": [
    "PROMPT = \"\"\"Gemini, you are a data cleaning expert who rewrites product titles to be clear, concise, and well-formatted.\n",
    "\n",
    "Rewrite the following product title to be clear, concise, and well-formatted.\n",
    "\n",
    "Instructions:\n",
    "1. Remove promotional text (NEW!, SALE!, LIMITED!, etc.)\n",
    "2. Fix capitalization - use proper title case\n",
    "3. Remove excessive punctuation and special characters (keep only necessary ones)\n",
    "4. Remove duplicate or redundant information\n",
    "5. Keep important details: brand names, model numbers, key specifications\n",
    "6. Remove seller/store information\n",
    "7. Fix spelling and grammar errors\n",
    "8. Standardize abbreviations (e.g., \"Ed.\" → \"Edition\", \"w/\" → \"with\")\n",
    "9. Remove platform redundancy if already clear from context\n",
    "10. Keep the title under 200 characters while preserving all key information\n",
    "\n",
    "IMPORTANT: The cleaned title should be search-friendly and professional.\n",
    "\n",
    "Product title to clean:\n",
    "<title>\n",
    "{title}\n",
    "</title>\n",
    "\n",
    "Return ONLY the cleaned title within <clean_title> tags.\n",
    "\n",
    "Cleaned title: \n",
    "\"\"\".strip()"
   ]
  },
  {
   "cell_type": "code",
   "execution_count": 13,
   "metadata": {},
   "outputs": [
    {
     "name": "stdout",
     "output_type": "stream",
     "text": [
      "13:39:09 - Original: Dash 8-300 Professional Add-On\n",
      "13:39:09 - Cleaned: Dash 8-300 Professional Add-On\n"
     ]
    }
   ],
   "source": [
    "# CLEAN TITLE\n",
    "def clean_title(prompt: str, title: str, model: str = MODEL) -> str:\n",
    "    \"\"\"\n",
    "    Send a prompt and title to Gemini API for cleaning.\n",
    "\n",
    "    Args:\n",
    "        prompt: The cleaning instructions prompt\n",
    "        title: The product title to clean\n",
    "        model: The Gemini model to use (defaults to MODEL constant)\n",
    "\n",
    "    Returns:\n",
    "        Cleaned title text from Gemini\n",
    "    \"\"\"\n",
    "    attempt = 0\n",
    "    while attempt < MAX_RETRIES:\n",
    "        try:\n",
    "            # Format the full prompt with the title\n",
    "            full_prompt = prompt.format(title=title)\n",
    "\n",
    "            # Generate content using Gemini\n",
    "            response = client.models.generate_content(model=model, contents=full_prompt)\n",
    "\n",
    "            # Extract the cleaned text from response\n",
    "            cleaned_text = f\"{response.text.strip()}\"\n",
    "\n",
    "            # Extract content between tags if present\n",
    "            if \"<clean_title>\" in cleaned_text and \"</clean_title>\" in cleaned_text:\n",
    "                start = cleaned_text.find(\"<clean_title>\") + len(\"<clean_title>\")\n",
    "                end = cleaned_text.find(\"</clean_title>\")\n",
    "                cleaned_text = cleaned_text[start:end].strip()\n",
    "\n",
    "                # Validate the cleaned title\n",
    "                if len(cleaned_text) > 0 and len(cleaned_text) <= MAX_TITLE_LENGTH:\n",
    "                    return cleaned_text\n",
    "                else:\n",
    "                    # If title is empty or too long, retry\n",
    "                    attempt += 1\n",
    "                    if attempt < MAX_RETRIES:\n",
    "                        logger.warning(\n",
    "                            f\"Invalid title length ({len(cleaned_text)}), retrying... (attempt {attempt}/{MAX_RETRIES})\"\n",
    "                        )\n",
    "                        time.sleep(RETRY_DELAY)\n",
    "                    continue\n",
    "            else:\n",
    "                # If tags not found, increment attempt and retry\n",
    "                attempt += 1\n",
    "                if attempt < MAX_RETRIES:\n",
    "                    logger.warning(f\"Tags not found in response, retrying... (attempt {attempt}/{MAX_RETRIES})\")\n",
    "                    time.sleep(RETRY_DELAY)\n",
    "                continue\n",
    "\n",
    "        except Exception as e:\n",
    "            attempt += 1\n",
    "            if attempt < MAX_RETRIES:\n",
    "                logger.warning(f\"Error cleaning with Gemini: {e}, retrying... (attempt {attempt}/{MAX_RETRIES})\")\n",
    "                time.sleep(RETRY_DELAY)\n",
    "            else:\n",
    "                logger.error(f\"Failed after {MAX_RETRIES} attempts: {e}\")\n",
    "\n",
    "    # Return original title if all attempts fail\n",
    "    logger.warning(f\"🚨 Returning 'NA' after {MAX_RETRIES} failed attempts\")\n",
    "    return \"NA\"\n",
    "\n",
    "\n",
    "# Test the function with a sample title\n",
    "test_title = df.head(1).select(\"title\").item()\n",
    "cleaned = clean_title(PROMPT, test_title)\n",
    "logger.info(f\"Original: {test_title}\")\n",
    "logger.info(f\"Cleaned: {cleaned}\")"
   ]
  },
  {
   "cell_type": "markdown",
   "metadata": {},
   "source": [
    "## 5. Parallel Title Processing with Checkpointing"
   ]
  },
  {
   "cell_type": "code",
   "execution_count": 14,
   "metadata": {},
   "outputs": [
    {
     "name": "stdout",
     "output_type": "stream",
     "text": [
      "13:39:15 - Found 741 already processed items in checkpoint file\n",
      "13:39:15 - Items to process: 65,392 out of 66,133 total items\n",
      "13:39:15 - Starting parallel processing with 15 workers...\n"
     ]
    },
    {
     "data": {
      "application/vnd.jupyter.widget-view+json": {
       "model_id": "d2db1f1eacdc48c7970dd01dfba84828",
       "version_major": 2,
       "version_minor": 0
      },
      "text/plain": [
       "Processing titles:   0%|          | 0/65392 [00:00<?, ?it/s]"
      ]
     },
     "metadata": {},
     "output_type": "display_data"
    },
    {
     "name": "stdout",
     "output_type": "stream",
     "text": [
      "13:41:49 - Invalid title length (207), retrying... (attempt 1/5)\n",
      "13:45:31 - Error cleaning with Gemini: 'NoneType' object has no attribute 'strip', retrying... (attempt 1/5)\n",
      "13:45:33 - Error cleaning with Gemini: 'NoneType' object has no attribute 'strip', retrying... (attempt 2/5)\n",
      "13:45:34 - Error cleaning with Gemini: 'NoneType' object has no attribute 'strip', retrying... (attempt 3/5)\n",
      "13:45:36 - Error cleaning with Gemini: 'NoneType' object has no attribute 'strip', retrying... (attempt 4/5)\n",
      "13:47:58 - Invalid title length (205), retrying... (attempt 1/5)\n",
      "13:48:41 - Error cleaning with Gemini: 'NoneType' object has no attribute 'strip', retrying... (attempt 1/5)\n",
      "13:48:43 - Error cleaning with Gemini: 'NoneType' object has no attribute 'strip', retrying... (attempt 2/5)\n",
      "13:48:44 - Error cleaning with Gemini: 'NoneType' object has no attribute 'strip', retrying... (attempt 3/5)\n",
      "13:48:46 - Error cleaning with Gemini: 'NoneType' object has no attribute 'strip', retrying... (attempt 4/5)\n",
      "13:48:48 - Failed after 5 attempts: 'NoneType' object has no attribute 'strip'\n",
      "13:48:48 - 🚨 Returning 'NA' after 5 failed attempts\n",
      "13:53:15 - Invalid title length (206), retrying... (attempt 1/5)\n",
      "14:13:30 - Error cleaning with Gemini: 'NoneType' object has no attribute 'strip', retrying... (attempt 1/5)\n",
      "14:13:32 - Error cleaning with Gemini: 'NoneType' object has no attribute 'strip', retrying... (attempt 2/5)\n",
      "14:13:34 - Error cleaning with Gemini: 'NoneType' object has no attribute 'strip', retrying... (attempt 3/5)\n",
      "14:13:34 - Error cleaning with Gemini: 'NoneType' object has no attribute 'strip', retrying... (attempt 1/5)\n",
      "14:13:36 - Error cleaning with Gemini: 'NoneType' object has no attribute 'strip', retrying... (attempt 2/5)\n",
      "14:13:38 - Error cleaning with Gemini: 'NoneType' object has no attribute 'strip', retrying... (attempt 3/5)\n",
      "14:13:39 - Error cleaning with Gemini: 'NoneType' object has no attribute 'strip', retrying... (attempt 4/5)\n",
      "14:13:41 - Failed after 5 attempts: 'NoneType' object has no attribute 'strip'\n",
      "14:13:41 - 🚨 Returning 'NA' after 5 failed attempts\n",
      "14:15:34 - Invalid title length (0), retrying... (attempt 1/5)\n",
      "14:28:10 - Processing complete! Successful: 65,392, Failed: 0\n"
     ]
    }
   ],
   "source": [
    "# Setup checkpoint file\n",
    "checkpoint_file = DATA_DIR / \"output\" / f\"{CATEGORY}_titles_clean.csv\"\n",
    "\n",
    "# Load existing processed ASINs if checkpoint exists\n",
    "processed_asins = set()\n",
    "if checkpoint_file.exists():\n",
    "    try:\n",
    "        existing_df = pl.read_csv(checkpoint_file)\n",
    "        existing_df = existing_df.filter(pl.col(\"clean_title\") != \"NA\")\n",
    "        processed_asins = set(existing_df[\"parent_asin\"])\n",
    "        logger.info(f\"Found {len(processed_asins):,} already processed items in checkpoint file\")\n",
    "    except NoDataError as e:\n",
    "        logger.error(f\"CSV is empty: {e}\")\n",
    "        processed_asins = set()\n",
    "else:\n",
    "    # Create new CSV with headers\n",
    "    with open(checkpoint_file, \"w\", newline=\"\") as f:\n",
    "        writer = csv.writer(f)\n",
    "        writer.writerow([\"parent_asin\", \"clean_title\"])\n",
    "    logger.info(f\"Created new checkpoint file: {checkpoint_file}\")\n",
    "\n",
    "# Filter to only unprocessed items\n",
    "items_to_process = df.filter(~pl.col(\"parent_asin\").is_in(processed_asins))\n",
    "logger.info(f\"Items to process: {len(items_to_process):,} out of {len(df):,} total items\")\n",
    "\n",
    "# Thread-safe CSV writing lock\n",
    "csv_lock = threading.Lock()\n",
    "\n",
    "\n",
    "def process_single_title(item_data):\n",
    "    \"\"\"Process a single title and save to CSV.\"\"\"\n",
    "    asin, title = item_data\n",
    "\n",
    "    try:\n",
    "        # Truncate title if too long\n",
    "        if len(title) > MAX_TITLE_LENGTH:\n",
    "            title = title[:MAX_TITLE_LENGTH]\n",
    "\n",
    "        # Clean the title\n",
    "        cleaned = clean_title(PROMPT, title)\n",
    "\n",
    "        # Write immediately to CSV with lock\n",
    "        with csv_lock:\n",
    "            with open(checkpoint_file, \"a\", newline=\"\", encoding=\"utf-8\") as f:\n",
    "                writer = csv.writer(f)\n",
    "                writer.writerow([asin, cleaned])\n",
    "\n",
    "        # Rate limiting\n",
    "        time.sleep(RATE_LIMIT_DELAY)\n",
    "\n",
    "        return asin, cleaned, True\n",
    "\n",
    "    except Exception as e:\n",
    "        logger.error(f\"Failed to process {asin}: {e}\")\n",
    "        # Save the original title if processing fails\n",
    "        with csv_lock:\n",
    "            with open(checkpoint_file, \"a\", newline=\"\", encoding=\"utf-8\") as f:\n",
    "                writer = csv.writer(f)\n",
    "                writer.writerow([asin, title])\n",
    "        return asin, title, False\n",
    "\n",
    "\n",
    "# Prepare items for processing\n",
    "items = [(row[\"parent_asin\"], row[\"title\"]) for row in items_to_process.iter_rows(named=True)]\n",
    "\n",
    "if len(items) > 0:\n",
    "    logger.info(f\"Starting parallel processing with {MAX_THREADS} workers...\")\n",
    "\n",
    "    # Process with ThreadPoolExecutor\n",
    "    successful = 0\n",
    "    failed = 0\n",
    "\n",
    "    with ThreadPoolExecutor(max_workers=MAX_THREADS) as executor:\n",
    "        # Submit all tasks\n",
    "        futures = {executor.submit(process_single_title, item): item for item in items}\n",
    "\n",
    "        # Process completions with progress bar\n",
    "        with tqdm(total=len(futures), desc=\"Processing titles\") as pbar:\n",
    "            for future in as_completed(futures):\n",
    "                try:\n",
    "                    asin, result, success = future.result()\n",
    "                    if success:\n",
    "                        successful += 1\n",
    "                    else:\n",
    "                        failed += 1\n",
    "                    pbar.update(1)\n",
    "                    pbar.set_postfix({\"success\": successful, \"failed\": failed})\n",
    "\n",
    "                except Exception as e:\n",
    "                    failed += 1\n",
    "                    pbar.update(1)\n",
    "                    pbar.set_postfix({\"success\": successful, \"failed\": failed})\n",
    "                    logger.error(f\"Future failed: {e}\")\n",
    "\n",
    "    logger.info(f\"Processing complete! Successful: {successful:,}, Failed: {failed:,}\")\n",
    "\n",
    "else:\n",
    "    logger.info(\"No items to process - all items already in checkpoint file!\")"
   ]
  },
  {
   "cell_type": "markdown",
   "metadata": {},
   "source": [
    "## 6. Verify and Analyze Cleaned Titles"
   ]
  },
  {
   "cell_type": "code",
   "execution_count": 15,
   "metadata": {},
   "outputs": [
    {
     "name": "stdout",
     "output_type": "stream",
     "text": [
      "14:28:13 - Loaded 66,133 cleaned titles from /Users/eugeneyan/projects/semantic-id/data/output/Video_Games_titles_clean.csv\n",
      "14:28:13 - Sample of cleaned titles:\n"
     ]
    },
    {
     "data": {
      "text/html": [
       "<div><style>\n",
       ".dataframe > thead > tr,\n",
       ".dataframe > tbody > tr {\n",
       "  text-align: right;\n",
       "  white-space: pre-wrap;\n",
       "}\n",
       "</style>\n",
       "<small>shape: (3, 2)</small><table border=\"1\" class=\"dataframe\"><thead><tr><th>parent_asin</th><th>clean_title</th></tr><tr><td>str</td><td>str</td></tr></thead><tbody><tr><td>&quot;B000FH0MHO&quot;</td><td>&quot;&lt;clean_title&gt;\n",
       "Dash 8-300 Profe…</td></tr><tr><td>&quot;B00004SVXD&quot;</td><td>&quot;&lt;clean_title&gt;Tiger Heli - Nint…</td></tr><tr><td>&quot;B0001ZNU56&quot;</td><td>&quot;&lt;clean_title&gt;SpongeBob SquareP…</td></tr></tbody></table></div>"
      ],
      "text/plain": [
       "shape: (3, 2)\n",
       "┌─────────────┬─────────────────────────────────┐\n",
       "│ parent_asin ┆ clean_title                     │\n",
       "│ ---         ┆ ---                             │\n",
       "│ str         ┆ str                             │\n",
       "╞═════════════╪═════════════════════════════════╡\n",
       "│ B000FH0MHO  ┆ <clean_title>                   │\n",
       "│             ┆ Dash 8-300 Profe…               │\n",
       "│ B00004SVXD  ┆ <clean_title>Tiger Heli - Nint… │\n",
       "│ B0001ZNU56  ┆ <clean_title>SpongeBob SquareP… │\n",
       "└─────────────┴─────────────────────────────────┘"
      ]
     },
     "metadata": {},
     "output_type": "display_data"
    }
   ],
   "source": [
    "# Load and verify the cleaned titles\n",
    "if checkpoint_file.exists():\n",
    "    cleaned_df = pl.read_csv(checkpoint_file)\n",
    "    logger.info(f\"Loaded {len(cleaned_df):,} cleaned titles from {checkpoint_file}\")\n",
    "\n",
    "    # Display sample of cleaned data\n",
    "    logger.info(\"Sample of cleaned titles:\")\n",
    "    display(cleaned_df.head(3))\n",
    "\n",
    "else:\n",
    "    logger.warning(\"No checkpoint file found. Run the processing cell first.\")"
   ]
  },
  {
   "cell_type": "code",
   "execution_count": 21,
   "metadata": {},
   "outputs": [
    {
     "data": {
      "text/html": [
       "<div><style>\n",
       ".dataframe > thead > tr,\n",
       ".dataframe > tbody > tr {\n",
       "  text-align: right;\n",
       "  white-space: pre-wrap;\n",
       "}\n",
       "</style>\n",
       "<small>shape: (10, 1)</small><table border=\"1\" class=\"dataframe\"><thead><tr><th>clean_title</th></tr><tr><td>str</td></tr></thead><tbody><tr><td>&quot;&lt;clean_title&gt;CTA Digital Auto Cooler Console Stand &amp; USB Hub for Xbox 360 Slim &amp; E&quot;</td></tr><tr><td>&quot;&lt;clean_title&gt;Nintendo Switch Fitness Boxing Grips (2-Pack, Blue &amp; Red)&quot;</td></tr><tr><td>&quot;&lt;clean_title&gt;Shin Megami Tensei V: Steelbook Launch Edition - Nintendo Switch&quot;</td></tr><tr><td>&quot;&lt;clean_title&gt;Lost Secrets: Caribbean Explorer with Lost Secrets: Bermuda Triangle&quot;</td></tr><tr><td>&quot;&lt;clean_title&gt;uDraw Studio: Instant Artist&quot;</td></tr><tr><td>&quot;&lt;clean_title&gt;The Hip Hop Dance Experience - Xbox 360&quot;</td></tr><tr><td>&quot;&lt;clean_title&gt;ModFreakz Full Button Set for Xbox One Model 1537 Controllers - Solid Red&quot;</td></tr><tr><td>&quot;&lt;clean_title&gt;Xbox 360 Grand Theft Auto IV Faceplate&quot;</td></tr><tr><td>&quot;&lt;clean_title&gt;SteelSeries Kana Optical Gaming Mouse - White&quot;</td></tr><tr><td>&quot;TWICE The 3rd Album: Formula of Love: O+T=&lt;3 (Result File Ver.) Photobook, CD-R, Photocard, Twind Photo, Folded Poster&quot;</td></tr></tbody></table></div>"
      ],
      "text/plain": [
       "shape: (10, 1)\n",
       "┌─────────────────────────────────────────────────────────────────────────────────────────────┐\n",
       "│ clean_title                                                                                 │\n",
       "│ ---                                                                                         │\n",
       "│ str                                                                                         │\n",
       "╞═════════════════════════════════════════════════════════════════════════════════════════════╡\n",
       "│ <clean_title>CTA Digital Auto Cooler Console Stand & USB Hub for Xbox 360 Slim & E          │\n",
       "│ <clean_title>Nintendo Switch Fitness Boxing Grips (2-Pack, Blue & Red)                      │\n",
       "│ <clean_title>Shin Megami Tensei V: Steelbook Launch Edition - Nintendo Switch               │\n",
       "│ <clean_title>Lost Secrets: Caribbean Explorer with Lost Secrets: Bermuda Triangle           │\n",
       "│ <clean_title>uDraw Studio: Instant Artist                                                   │\n",
       "│ <clean_title>The Hip Hop Dance Experience - Xbox 360                                        │\n",
       "│ <clean_title>ModFreakz Full Button Set for Xbox One Model 1537 Controllers - Solid Red      │\n",
       "│ <clean_title>Xbox 360 Grand Theft Auto IV Faceplate                                         │\n",
       "│ <clean_title>SteelSeries Kana Optical Gaming Mouse - White                                  │\n",
       "│ TWICE The 3rd Album: Formula of Love: O+T=<3 (Result File Ver.) Photobook, CD-R, Photocard, │\n",
       "│ Twind Photo, Folded Poster                                                                  │\n",
       "└─────────────────────────────────────────────────────────────────────────────────────────────┘"
      ]
     },
     "execution_count": 21,
     "metadata": {},
     "output_type": "execute_result"
    }
   ],
   "source": [
    "pl.Config.set_fmt_str_lengths(2000)\n",
    "cleaned_df.filter(pl.col(\"clean_title\").str.contains(\"<\")).select([\"clean_title\"]).tail(10)"
   ]
  },
  {
   "cell_type": "code",
   "execution_count": null,
   "metadata": {},
   "outputs": [],
   "source": []
  }
 ],
 "metadata": {
  "kernelspec": {
   "display_name": ".venv",
   "language": "python",
   "name": "python3"
  },
  "language_info": {
   "codemirror_mode": {
    "name": "ipython",
    "version": 3
   },
   "file_extension": ".py",
   "mimetype": "text/x-python",
   "name": "python",
   "nbconvert_exporter": "python",
   "pygments_lexer": "ipython3",
   "version": "3.12.7"
  }
 },
 "nbformat": 4,
 "nbformat_minor": 4
}
