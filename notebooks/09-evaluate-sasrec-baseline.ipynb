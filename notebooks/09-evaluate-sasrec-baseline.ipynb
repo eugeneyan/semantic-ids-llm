{
 "cells": [
  {
   "cell_type": "markdown",
   "metadata": {},
   "source": [
    "# Evaluate SASRec Baseline"
   ]
  },
  {
   "cell_type": "code",
   "execution_count": 1,
   "metadata": {},
   "outputs": [
    {
     "name": "stdout",
     "output_type": "stream",
     "text": [
      "20:23:41 - Using device: mps\n"
     ]
    }
   ],
   "source": [
    "import shutil\n",
    "import sys\n",
    "from dataclasses import dataclass, field\n",
    "from pathlib import Path\n",
    "from typing import Dict, List, Tuple\n",
    "\n",
    "import matplotlib.pyplot as plt\n",
    "import numpy as np\n",
    "import polars as pl\n",
    "import torch\n",
    "from tqdm.auto import tqdm\n",
    "\n",
    "import wandb\n",
    "\n",
    "# Add parent directory to path for imports\n",
    "sys.path.append(str(Path.cwd().parent))\n",
    "\n",
    "from src.device_manager import DeviceManager\n",
    "from src.logger import setup_logger\n",
    "\n",
    "# Import model classes from training script\n",
    "from src.train_sasrec import SASRec, SASRecConfig\n",
    "\n",
    "# Setup\n",
    "logger = setup_logger(\"evaluate-sasrec\", log_to_file=False)\n",
    "device_manager = DeviceManager(logger)\n",
    "device = device_manager.device"
   ]
  },
  {
   "cell_type": "markdown",
   "metadata": {},
   "source": [
    "## Configuration"
   ]
  },
  {
   "cell_type": "code",
   "execution_count": 2,
   "metadata": {},
   "outputs": [
    {
     "name": "stdout",
     "output_type": "stream",
     "text": [
      "20:23:41 - Configuration: EvalConfig(dataset='Video_Games', data_dir=PosixPath('../data'), sequences_path=PosixPath('../data/output/Video_Games_sequences_with_semantic_ids_val.parquet'), models_dir=PosixPath('../models/sasrec'), artifact_path='eugeneyan/sasrec-experiments/sasrec-best-Video_Games:v85', val_fraction=1, batch_size=256, num_negative_samples=1000, max_seq_length=50, seed=42)\n"
     ]
    }
   ],
   "source": [
    "@dataclass\n",
    "class EvalConfig:\n",
    "    \"\"\"Configuration for evaluation.\"\"\"\n",
    "\n",
    "    # Data\n",
    "    dataset: str = \"Video_Games\"\n",
    "    data_dir: Path = field(default_factory=lambda: Path(\"../data\"))\n",
    "    sequences_path: Path = field(\n",
    "        default_factory=lambda: Path(\"../data/output/Video_Games_sequences_with_semantic_ids_val.parquet\")\n",
    "    )\n",
    "\n",
    "    # Model\n",
    "    models_dir: Path = field(default_factory=lambda: Path(\"../models/sasrec\"))\n",
    "    artifact_path: str = \"eugeneyan/sasrec-experiments/sasrec-best-Video_Games:v85\"\n",
    "\n",
    "    # Evaluation\n",
    "    val_fraction: float = 1  # Fraction of data to use for validation\n",
    "    batch_size: int = 256\n",
    "    num_negative_samples: int = 1000  # Number of negative samples for evaluation\n",
    "    max_seq_length: int = 50\n",
    "    seed: int = 42\n",
    "\n",
    "    def __post_init__(self):\n",
    "        \"\"\"Create directories if needed.\"\"\"\n",
    "        self.models_dir.mkdir(parents=True, exist_ok=True)\n",
    "\n",
    "\n",
    "config = EvalConfig()\n",
    "logger.info(f\"Configuration: {config}\")"
   ]
  },
  {
   "cell_type": "markdown",
   "metadata": {},
   "source": [
    "## Download Model from W&B"
   ]
  },
  {
   "cell_type": "code",
   "execution_count": 3,
   "metadata": {},
   "outputs": [
    {
     "name": "stdout",
     "output_type": "stream",
     "text": [
      "20:23:41 - Downloading model from W&B: eugeneyan/sasrec-experiments/sasrec-best-Video_Games:v85\n"
     ]
    },
    {
     "name": "stderr",
     "output_type": "stream",
     "text": [
      "\u001b[34m\u001b[1mwandb\u001b[0m: Currently logged in as: \u001b[33meugeneyan\u001b[0m to \u001b[32mhttps://api.wandb.ai\u001b[0m. Use \u001b[1m`wandb login --relogin`\u001b[0m to force relogin\n"
     ]
    },
    {
     "data": {
      "text/html": [
       "Tracking run with wandb version 0.21.1"
      ],
      "text/plain": [
       "<IPython.core.display.HTML object>"
      ]
     },
     "metadata": {},
     "output_type": "display_data"
    },
    {
     "data": {
      "text/html": [
       "Run data is saved locally in <code>/Users/eugeneya/local/semantic-ids/notebooks/wandb/run-20250909_202342-f89x9ui6</code>"
      ],
      "text/plain": [
       "<IPython.core.display.HTML object>"
      ]
     },
     "metadata": {},
     "output_type": "display_data"
    },
    {
     "data": {
      "text/html": [
       "Syncing run <strong><a href='https://wandb.ai/eugeneyan/sasrec-evaluation/runs/f89x9ui6' target=\"_blank\">eval-sasrec-v85</a></strong> to <a href='https://wandb.ai/eugeneyan/sasrec-evaluation' target=\"_blank\">Weights & Biases</a> (<a href='https://wandb.me/developer-guide' target=\"_blank\">docs</a>)<br>"
      ],
      "text/plain": [
       "<IPython.core.display.HTML object>"
      ]
     },
     "metadata": {},
     "output_type": "display_data"
    },
    {
     "data": {
      "text/html": [
       " View project at <a href='https://wandb.ai/eugeneyan/sasrec-evaluation' target=\"_blank\">https://wandb.ai/eugeneyan/sasrec-evaluation</a>"
      ],
      "text/plain": [
       "<IPython.core.display.HTML object>"
      ]
     },
     "metadata": {},
     "output_type": "display_data"
    },
    {
     "data": {
      "text/html": [
       " View run at <a href='https://wandb.ai/eugeneyan/sasrec-evaluation/runs/f89x9ui6' target=\"_blank\">https://wandb.ai/eugeneyan/sasrec-evaluation/runs/f89x9ui6</a>"
      ],
      "text/plain": [
       "<IPython.core.display.HTML object>"
      ]
     },
     "metadata": {},
     "output_type": "display_data"
    },
    {
     "name": "stderr",
     "output_type": "stream",
     "text": [
      "\u001b[34m\u001b[1mwandb\u001b[0m:   1 of 1 files downloaded.  \n"
     ]
    },
    {
     "name": "stdout",
     "output_type": "stream",
     "text": [
      "20:23:45 - Model downloaded to ../models/sasrec/sasrec_video_games_v85.pth\n"
     ]
    },
    {
     "data": {
      "text/html": [],
      "text/plain": [
       "<IPython.core.display.HTML object>"
      ]
     },
     "metadata": {},
     "output_type": "display_data"
    },
    {
     "data": {
      "text/html": [
       " View run <strong style=\"color:#cdcd00\">eval-sasrec-v85</strong> at: <a href='https://wandb.ai/eugeneyan/sasrec-evaluation/runs/f89x9ui6' target=\"_blank\">https://wandb.ai/eugeneyan/sasrec-evaluation/runs/f89x9ui6</a><br> View project at: <a href='https://wandb.ai/eugeneyan/sasrec-evaluation' target=\"_blank\">https://wandb.ai/eugeneyan/sasrec-evaluation</a><br>Synced 5 W&B file(s), 0 media file(s), 0 artifact file(s) and 0 other file(s)"
      ],
      "text/plain": [
       "<IPython.core.display.HTML object>"
      ]
     },
     "metadata": {},
     "output_type": "display_data"
    },
    {
     "data": {
      "text/html": [
       "Find logs at: <code>./wandb/run-20250909_202342-f89x9ui6/logs</code>"
      ],
      "text/plain": [
       "<IPython.core.display.HTML object>"
      ]
     },
     "metadata": {},
     "output_type": "display_data"
    }
   ],
   "source": [
    "# Download model from W&B\n",
    "logger.info(f\"Downloading model from W&B: {config.artifact_path}\")\n",
    "\n",
    "version = config.artifact_path.split(\":\")[-1]\n",
    "run = wandb.init(project=\"sasrec-evaluation\", name=f\"eval-sasrec-{version}\")\n",
    "artifact = run.use_artifact(config.artifact_path, type=\"model\")\n",
    "artifact_dir = artifact.download(config.models_dir)\n",
    "\n",
    "# Find and rename the downloaded model file\n",
    "downloaded_files = list(Path(artifact_dir).glob(\"*.pth\"))\n",
    "if downloaded_files:\n",
    "    old_path = downloaded_files[0]\n",
    "    new_path = config.models_dir / f\"sasrec_{config.dataset.lower()}_{version}.pth\"\n",
    "    if old_path != new_path:\n",
    "        shutil.move(str(old_path), str(new_path))\n",
    "    model_path = new_path\n",
    "    logger.info(f\"Model downloaded to {model_path}\")\n",
    "else:\n",
    "    raise FileNotFoundError(f\"No .pth file found in {artifact_dir}\")\n",
    "\n",
    "wandb.finish()"
   ]
  },
  {
   "cell_type": "markdown",
   "metadata": {},
   "source": [
    "## Load Model from Checkpoint"
   ]
  },
  {
   "cell_type": "code",
   "execution_count": 4,
   "metadata": {},
   "outputs": [
    {
     "name": "stdout",
     "output_type": "stream",
     "text": [
      "20:23:46 - Loading checkpoint from ../models/sasrec/sasrec_video_games_v85.pth\n",
      "20:23:46 - No config found in checkpoint, using defaults\n",
      "20:23:46 - Detected 14639 items from embedding layer\n",
      "20:23:46 - Found item mappings in checkpoint\n",
      "20:23:46 -   Loaded mappings for 14639 items\n",
      "20:23:46 - Model loaded successfully on mps\n",
      "20:23:46 - Total parameters: 993,984\n",
      "20:23:46 - Model config: SASRecConfig(dataset='Video_Games', data_dir=PosixPath('data'), data_path=PosixPath('data/output/Video_Games_sequences_with_semantic_ids_train.parquet'), checkpoint_dir=PosixPath('checkpoints/sasrec'), max_seq_length=100, hidden_units=64, num_blocks=2, num_heads=1, dropout_rate=0.2, batch_size=1024, num_epochs=200, max_learning_rate=0.001, min_learning_rate=1e-05, scheduler_type='cosine', warmup_steps=100, warmup_start_lr=1e-08, steps_per_train_log=100, steps_per_val_log=500)\n"
     ]
    }
   ],
   "source": [
    "def load_sasrec_model(model_path: str, device: str = None) -> Tuple[SASRec, SASRecConfig, dict, str]:\n",
    "    \"\"\"Load SASRec model from checkpoint with item mappings.\"\"\"\n",
    "\n",
    "    # Auto-detect device if not specified\n",
    "    if device is None:\n",
    "        if torch.cuda.is_available():\n",
    "            device = \"cuda\"\n",
    "        elif torch.backends.mps.is_available():\n",
    "            device = \"mps\"\n",
    "        else:\n",
    "            device = \"cpu\"\n",
    "\n",
    "    # Load checkpoint\n",
    "    logger.info(f\"Loading checkpoint from {model_path}\")\n",
    "    checkpoint = torch.load(model_path, map_location=device, weights_only=False)\n",
    "\n",
    "    # Extract config from checkpoint\n",
    "    if \"config\" in checkpoint:\n",
    "        config_dict = checkpoint[\"config\"]\n",
    "        logger.info(\"Found config in checkpoint\")\n",
    "\n",
    "        # Create SASRecConfig from saved config\n",
    "        sasrec_config = SASRecConfig()\n",
    "\n",
    "        # Update config parameters if they exist in the saved config\n",
    "        if isinstance(config_dict, dict):\n",
    "            for key, value in config_dict.items():\n",
    "                if hasattr(sasrec_config, key):\n",
    "                    setattr(sasrec_config, key, value)\n",
    "                    logger.info(f\"  {key}: {value}\")\n",
    "    else:\n",
    "        # Use default config\n",
    "        logger.warning(\"No config found in checkpoint, using defaults\")\n",
    "        sasrec_config = SASRecConfig()\n",
    "\n",
    "    # Get number of items from the embedding layer shape\n",
    "    state_dict = checkpoint[\"model_state_dict\"]\n",
    "\n",
    "    # Handle compiled model state dict (keys might start with '_orig_mod.')\n",
    "    if any(k.startswith(\"_orig_mod.\") for k in state_dict.keys()):\n",
    "        logger.info(\"Detected compiled model, removing '_orig_mod.' prefix\")\n",
    "        state_dict = {k.replace(\"_orig_mod.\", \"\"): v for k, v in state_dict.items()}\n",
    "\n",
    "    # Get item_num from embedding weight shape\n",
    "    item_emb_weight = state_dict[\"item_emb.weight\"]\n",
    "    item_num = item_emb_weight.shape[0] - 1  # Subtract 1 for padding token\n",
    "    logger.info(f\"Detected {item_num} items from embedding layer\")\n",
    "\n",
    "    # Load item mappings if available\n",
    "    item_mappings = {}\n",
    "    if \"item_to_id\" in checkpoint and \"id_to_item\" in checkpoint:\n",
    "        logger.info(\"Found item mappings in checkpoint\")\n",
    "        item_mappings[\"item_to_id\"] = checkpoint[\"item_to_id\"]\n",
    "        item_mappings[\"id_to_item\"] = checkpoint[\"id_to_item\"]\n",
    "        logger.info(f\"  Loaded mappings for {len(item_mappings['item_to_id'])} items\")\n",
    "    else:\n",
    "        logger.warning(\"No item mappings found in checkpoint - evaluation may use incorrect IDs!\")\n",
    "\n",
    "    # Create model instance\n",
    "    model = SASRec(sasrec_config, item_num=item_num)\n",
    "\n",
    "    # Load weights\n",
    "    model.load_state_dict(state_dict)\n",
    "    model = model.to(device)\n",
    "    model.eval()\n",
    "\n",
    "    # Log model info\n",
    "    total_params = sum(p.numel() for p in model.parameters())\n",
    "    logger.info(f\"Model loaded successfully on {device}\")\n",
    "    logger.info(f\"Total parameters: {total_params:,}\")\n",
    "\n",
    "    return model, sasrec_config, item_mappings, device, checkpoint\n",
    "\n",
    "\n",
    "# Load the model and mappings\n",
    "model, sasrec_config, item_mappings, device, checkpoint = load_sasrec_model(str(model_path), device=device)\n",
    "logger.info(f\"Model config: {sasrec_config}\")"
   ]
  },
  {
   "cell_type": "markdown",
   "metadata": {},
   "source": [
    "## Load and Prepare Data"
   ]
  },
  {
   "cell_type": "code",
   "execution_count": 5,
   "metadata": {},
   "outputs": [
    {
     "name": "stdout",
     "output_type": "stream",
     "text": [
      "20:23:46 - Loading data from ../data/output/Video_Games_sequences_with_semantic_ids_val.parquet\n",
      "20:23:46 - Loaded 7862 sequences\n",
      "20:23:46 - Columns: ['user_id', 'sequence', 'sequence_length', 'semantic_id_sequence', 'semantic_id_sequence_length']\n",
      "20:23:46 - Valid sequences (>= 2 items): 7862\n",
      "20:23:46 - Sequences truncated to max_seq_length (50): 16\n",
      "20:23:46 - Sampled 7862 sequences for validation\n",
      "20:23:46 - Sequence length stats after truncation: min=3, max=50, avg=6.5\n"
     ]
    }
   ],
   "source": [
    "# Load sequences data\n",
    "logger.info(f\"Loading data from {config.sequences_path}\")\n",
    "df = pl.read_parquet(config.sequences_path)\n",
    "logger.info(f\"Loaded {len(df)} sequences\")\n",
    "logger.info(f\"Columns: {df.columns}\")\n",
    "\n",
    "# Extract sequences (item IDs, not semantic IDs)\n",
    "users = df[\"user_id\"].to_list()\n",
    "sequences = df[\"sequence\"].to_list()\n",
    "\n",
    "# Filter sequences with at least 2 items (need one for input, one for target)\n",
    "# AND truncate to max_seq_length if needed\n",
    "valid_data = []\n",
    "truncated_count = 0\n",
    "for u, s in zip(users, sequences):\n",
    "    if len(s) >= 2:\n",
    "        if len(s) > config.max_seq_length:\n",
    "            # Keep the most recent max_seq_length items\n",
    "            s = s[-config.max_seq_length :]\n",
    "            truncated_count += 1\n",
    "        valid_data.append((u, s))\n",
    "\n",
    "logger.info(f\"Valid sequences (>= 2 items): {len(valid_data)}\")\n",
    "logger.info(f\"Sequences truncated to max_seq_length ({config.max_seq_length}): {truncated_count}\")\n",
    "\n",
    "# Sample validation set\n",
    "np.random.seed(config.seed)\n",
    "n_val = int(len(valid_data) * config.val_fraction)\n",
    "val_indices = np.random.choice(len(valid_data), size=n_val, replace=False)\n",
    "val_data = [valid_data[i] for i in val_indices]\n",
    "logger.info(f\"Sampled {len(val_data)} sequences for validation\")\n",
    "\n",
    "# Log sequence length statistics after truncation\n",
    "seq_lengths = [len(s) for _, s in val_data]\n",
    "logger.info(\n",
    "    f\"Sequence length stats after truncation: min={min(seq_lengths)}, max={max(seq_lengths)}, avg={np.mean(seq_lengths):.1f}\"\n",
    ")"
   ]
  },
  {
   "cell_type": "code",
   "execution_count": 6,
   "metadata": {},
   "outputs": [
    {
     "name": "stdout",
     "output_type": "stream",
     "text": [
      "20:23:46 - Using item mappings from trained model\n",
      "20:23:46 - Validation items in training vocabulary: 10383/10396 (99.9%)\n",
      "20:23:46 - Out-of-vocabulary items: 13 (0.1%)\n",
      "20:23:46 - Unique items for evaluation: 10383\n",
      "20:23:46 - Max item ID: 14639\n",
      "20:23:46 - Converted 7862 sequences to integer IDs\n",
      "20:23:46 - Sequences containing OOV items: 20/7862 (0.3%)\n",
      "20:23:46 - Total OOV items in sequences: 20\n",
      "20:23:46 - Sequences kept after OOV filtering: 7862/7862\n"
     ]
    }
   ],
   "source": [
    "# Use item mappings from checkpoint if available, otherwise create new ones\n",
    "if item_mappings and \"item_to_id\" in item_mappings and \"id_to_item\" in item_mappings:\n",
    "    logger.info(\"Using item mappings from trained model\")\n",
    "    item_to_id = item_mappings[\"item_to_id\"]\n",
    "    id_to_item = item_mappings[\"id_to_item\"]\n",
    "\n",
    "    # Check which validation items are in vocabulary\n",
    "    all_val_items = set()\n",
    "    for _, seq in val_data:\n",
    "        all_val_items.update(seq)\n",
    "\n",
    "    in_vocab_items = set(item for item in all_val_items if item in item_to_id)\n",
    "    oov_items = all_val_items - in_vocab_items\n",
    "\n",
    "    logger.info(\n",
    "        f\"Validation items in training vocabulary: {len(in_vocab_items)}/{len(all_val_items)} ({len(in_vocab_items) / len(all_val_items) * 100:.1f}%)\"\n",
    "    )\n",
    "    logger.info(f\"Out-of-vocabulary items: {len(oov_items)} ({len(oov_items) / len(all_val_items) * 100:.1f}%)\")\n",
    "\n",
    "    # Create candidate pool from training vocabulary (only items that appear in validation)\n",
    "    candidate_pool = list(set(item_to_id[item] for item in in_vocab_items))\n",
    "    num_unique_items = len(in_vocab_items)\n",
    "    max_item_id = max(item_to_id.values())\n",
    "else:\n",
    "    raise Exception(\"No item mappings found in checkpoint - evaluation may use incorrect IDs!\")\n",
    "\n",
    "logger.info(f\"Unique items for evaluation: {num_unique_items}\")\n",
    "logger.info(f\"Max item ID: {max_item_id}\")\n",
    "\n",
    "# Convert sequences to integer IDs, handling OOV items\n",
    "val_data_ids = []\n",
    "sequences_with_oov = 0\n",
    "total_oov_items_in_sequences = 0\n",
    "\n",
    "for user, seq in val_data:\n",
    "    seq_ids = []\n",
    "    has_oov = False\n",
    "    for item in seq:\n",
    "        if item in item_to_id:\n",
    "            seq_ids.append(item_to_id[item])\n",
    "        else:\n",
    "            # Use padding ID (0) for OOV items\n",
    "            seq_ids.append(0)\n",
    "            has_oov = True\n",
    "            total_oov_items_in_sequences += 1\n",
    "\n",
    "    if has_oov:\n",
    "        sequences_with_oov += 1\n",
    "\n",
    "    # Only keep sequences with at least 2 valid (non-OOV) items\n",
    "    if sum(1 for id in seq_ids if id != 0) >= 2:\n",
    "        val_data_ids.append((user, seq_ids))\n",
    "\n",
    "logger.info(f\"Converted {len(val_data_ids)} sequences to integer IDs\")\n",
    "logger.info(\n",
    "    f\"Sequences containing OOV items: {sequences_with_oov}/{len(val_data)} ({sequences_with_oov / len(val_data) * 100:.1f}%)\"\n",
    ")\n",
    "logger.info(f\"Total OOV items in sequences: {total_oov_items_in_sequences}\")\n",
    "logger.info(f\"Sequences kept after OOV filtering: {len(val_data_ids)}/{len(val_data)}\")"
   ]
  },
  {
   "cell_type": "markdown",
   "metadata": {},
   "source": [
    "## Evaluation Functions"
   ]
  },
  {
   "cell_type": "code",
   "execution_count": 7,
   "metadata": {},
   "outputs": [],
   "source": [
    "def calculate_metrics(ranks: np.ndarray, k: int = 10) -> Dict[str, float]:\n",
    "    \"\"\"Calculate Hit@k and NDCG@k from ranks.\"\"\"\n",
    "    hit_at_k = np.mean(ranks <= k)\n",
    "\n",
    "    # NDCG@k\n",
    "    ndcg_at_k = 0.0\n",
    "    for rank in ranks:\n",
    "        if rank <= k:\n",
    "            ndcg_at_k += 1 / np.log2(rank + 1)\n",
    "    ndcg_at_k /= len(ranks)\n",
    "\n",
    "    return {f\"hit@{k}\": hit_at_k, f\"ndcg@{k}\": ndcg_at_k}\n",
    "\n",
    "\n",
    "def evaluate_model(\n",
    "    model: SASRec,\n",
    "    val_data: List[Tuple[str, List[int]]],\n",
    "    candidate_pool: set,\n",
    "    batch_size: int = 256,\n",
    "    num_neg_samples: int = 100,\n",
    "    device: str = \"cpu\",\n",
    "    sasrec_config: SASRecConfig = None,\n",
    ") -> Tuple[Dict[str, float], np.ndarray]:\n",
    "    \"\"\"\n",
    "    Evaluate model on validation data by sampling from entire catalog.\n",
    "\n",
    "    Args:\n",
    "        model: Trained SASRec model\n",
    "        val_data: List of (user, sequence) tuples with integer IDs\n",
    "        candidate_pool: Set of all unique item IDs in the dataset\n",
    "        batch_size: Batch size for evaluation\n",
    "        num_neg_samples: Number of negative samples (total will be num_neg_samples + 1 with target)\n",
    "        device: Device to run on\n",
    "        sasrec_config: Model configuration\n",
    "\n",
    "    Returns:\n",
    "        Tuple of (metrics dict, ranks array)\n",
    "    \"\"\"\n",
    "    model.eval()\n",
    "\n",
    "    # Convert all items to list for sampling\n",
    "    all_items_list = list(candidate_pool)\n",
    "    logger.info(f\"Sampling {num_neg_samples} negative samples from pool of {len(all_items_list)} items\")\n",
    "\n",
    "    all_ranks = []\n",
    "\n",
    "    with torch.no_grad():\n",
    "        for batch_start in tqdm(range(0, len(val_data), batch_size), desc=\"Evaluating\"):\n",
    "            batch = val_data[batch_start : batch_start + batch_size]\n",
    "\n",
    "            batch_input_seqs = []\n",
    "            batch_targets = []\n",
    "            batch_candidates = []\n",
    "\n",
    "            for user, seq in batch:\n",
    "                # Use all but last item as input\n",
    "                input_seq = seq[:-1]\n",
    "                target = seq[-1]\n",
    "\n",
    "                # Truncate if longer than max_seq_length\n",
    "                if len(input_seq) > sasrec_config.max_seq_length:\n",
    "                    input_seq = input_seq[-sasrec_config.max_seq_length :]\n",
    "\n",
    "                batch_input_seqs.append(input_seq)\n",
    "                batch_targets.append(target)\n",
    "\n",
    "                # Sample items from entire catalog, excluding the target\n",
    "                items_to_sample_from = [item for item in all_items_list if item != target]\n",
    "\n",
    "                sampled_negatives = np.random.choice(\n",
    "                    items_to_sample_from, size=min(num_neg_samples, len(items_to_sample_from)), replace=False\n",
    "                )\n",
    "\n",
    "                # Put target at position 0, then all sampled negatives\n",
    "                candidates = [target] + list(sampled_negatives)\n",
    "                batch_candidates.append(candidates)\n",
    "\n",
    "            # Prepare input tensor\n",
    "            max_len = max(len(s) for s in batch_input_seqs)\n",
    "            input_tensor = torch.zeros((len(batch), max_len), dtype=torch.long)\n",
    "\n",
    "            for i, seq in enumerate(batch_input_seqs):\n",
    "                input_tensor[i, -len(seq) :] = torch.tensor(seq)\n",
    "\n",
    "            input_tensor = input_tensor.to(device)\n",
    "\n",
    "            # Prepare candidates tensor - all lists now have same length\n",
    "            candidates_tensor = torch.tensor(batch_candidates, dtype=torch.long, device=device)\n",
    "\n",
    "            # Get predictions\n",
    "            scores = model.predict(input_tensor, candidates_tensor)\n",
    "\n",
    "            # Find rank of target item (which is at position 0)\n",
    "            _, indices = torch.sort(scores, dim=1, descending=True)\n",
    "            ranks = (indices == 0).nonzero(as_tuple=True)[1].cpu().numpy() + 1  # 1-indexed\n",
    "            all_ranks.extend(ranks)\n",
    "\n",
    "    # Calculate metrics\n",
    "    all_ranks = np.array(all_ranks)\n",
    "    metrics = calculate_metrics(all_ranks, k=10)\n",
    "\n",
    "    # Add additional statistics\n",
    "    metrics[\"mean_rank\"] = np.mean(all_ranks)\n",
    "    metrics[\"median_rank\"] = np.median(all_ranks)\n",
    "    metrics[\"mrr\"] = np.mean(1.0 / all_ranks)  # Mean Reciprocal Rank\n",
    "\n",
    "    return metrics, all_ranks"
   ]
  },
  {
   "cell_type": "markdown",
   "metadata": {},
   "source": [
    "## Run Evaluation"
   ]
  },
  {
   "cell_type": "code",
   "execution_count": 8,
   "metadata": {},
   "outputs": [
    {
     "name": "stdout",
     "output_type": "stream",
     "text": [
      "20:23:46 - Starting evaluation...\n",
      "20:23:46 - Sampling 1000 negative samples from pool of 10383 items\n"
     ]
    },
    {
     "data": {
      "application/vnd.jupyter.widget-view+json": {
       "model_id": "df5281b479504d369b0351a54e1de545",
       "version_major": 2,
       "version_minor": 0
      },
      "text/plain": [
       "Evaluating:   0%|          | 0/31 [00:00<?, ?it/s]"
      ]
     },
     "metadata": {},
     "output_type": "display_data"
    }
   ],
   "source": [
    "# Run evaluation\n",
    "logger.info(\"Starting evaluation...\")\n",
    "metrics, ranks = evaluate_model(\n",
    "    model=model,\n",
    "    val_data=val_data_ids,\n",
    "    candidate_pool=candidate_pool,\n",
    "    batch_size=config.batch_size,\n",
    "    num_neg_samples=config.num_negative_samples,\n",
    "    device=device,\n",
    "    sasrec_config=sasrec_config\n",
    ")"
   ]
  },
  {
   "cell_type": "code",
   "execution_count": 9,
   "metadata": {},
   "outputs": [
    {
     "name": "stdout",
     "output_type": "stream",
     "text": [
      "20:23:51 - ==================================================\n",
      "20:23:51 - SUMMARY STATISTICS\n",
      "20:23:51 - ==================================================\n",
      "20:23:51 - Dataset                  : Video_Games\n",
      "20:23:51 - Model Path               : sasrec_video_games_v85.pth\n",
      "20:23:51 - Model Type               : Semantic SASRec\n",
      "20:23:51 - Total Sequences          : 7862\n",
      "20:23:51 - Validation Sequences     : 7862\n",
      "20:23:51 - Validation Fraction      : 100.0%\n",
      "20:23:51 - Unique Items             : 10383\n",
      "20:23:51 - Avg Sequence Length      : 6.5\n",
      "20:23:51 - Min Sequence Length      : 3\n",
      "20:23:51 - Max Sequence Length      : 50\n",
      "20:23:51 - ==================================================\n",
      "20:23:51 - FINAL METRICS:\n",
      "20:23:51 - --------------------------------------------------\n",
      "20:23:51 - Hit@10:  0.2812 (28.12%)\n",
      "20:23:51 - NDCG@10: 0.1535\n",
      "20:23:51 - MRR:     0.1300\n",
      "20:23:51 - Mean Rank: 138.9\n",
      "20:23:51 - Median Rank: 41.0\n",
      "20:23:51 - ==================================================\n"
     ]
    }
   ],
   "source": [
    "# Calculate and display summary statistics\n",
    "seq_lengths = [len(seq) for _, seq in val_data_ids]\n",
    "# Calculate and display summary statistics\n",
    "summary_stats = {\n",
    "    \"Dataset\": config.dataset,\n",
    "    \"Model Path\": str(model_path.name),\n",
    "    \"Model Type\": \"Semantic SASRec\",\n",
    "    \"Total Sequences\": len(df),\n",
    "    \"Validation Sequences\": len(val_data),\n",
    "    \"Validation Fraction\": f\"{config.val_fraction:.1%}\",\n",
    "    \"Unique Items\": num_unique_items,\n",
    "    \"Avg Sequence Length\": f\"{np.mean(seq_lengths):.1f}\",\n",
    "    \"Min Sequence Length\": min(seq_lengths),\n",
    "    \"Max Sequence Length\": max(seq_lengths),\n",
    "}\n",
    "\n",
    "logger.info(\"=\" * 50)\n",
    "logger.info(\"SUMMARY STATISTICS\")\n",
    "logger.info(\"=\" * 50)\n",
    "for key, value in summary_stats.items():\n",
    "    logger.info(f\"{key:25s}: {value}\")\n",
    "logger.info(\"=\" * 50)\n",
    "\n",
    "logger.info(\"FINAL METRICS:\")\n",
    "logger.info(\"-\" * 50)\n",
    "logger.info(f\"Hit@10:  {metrics['hit@10']:.4f} ({metrics['hit@10'] * 100:.2f}%)\")\n",
    "logger.info(f\"NDCG@10: {metrics['ndcg@10']:.4f}\")\n",
    "logger.info(f\"MRR:     {metrics['mrr']:.4f}\")\n",
    "logger.info(f\"Mean Rank: {metrics['mean_rank']:.1f}\")\n",
    "logger.info(f\"Median Rank: {metrics['median_rank']:.1f}\")\n",
    "logger.info(\"=\" * 50)"
   ]
  },
  {
   "cell_type": "markdown",
   "metadata": {},
   "source": [
    "## Visualization and Analysis"
   ]
  },
  {
   "cell_type": "code",
   "execution_count": 10,
   "metadata": {},
   "outputs": [
    {
     "data": {
      "image/png": "[encoded data removed]",
      "text/plain": [
       "<Figure size 1500x400 with 2 Axes>"
      ]
     },
     "metadata": {},
     "output_type": "display_data"
    }
   ],
   "source": [
    "# Plot rank distribution\n",
    "fig, axes = plt.subplots(1, 2, figsize=(15, 4))\n",
    "\n",
    "# Histogram of ranks\n",
    "axes[0].hist(ranks, bins=config.num_negative_samples, edgecolor=\"black\", alpha=0.7)\n",
    "axes[0].axvline(10, color=\"red\", linestyle=\"--\", label=\"Top-10 cutoff\")\n",
    "axes[0].set_xlabel(\"Rank\")\n",
    "axes[0].set_ylabel(\"Count\")\n",
    "axes[0].set_title(\"Distribution of Ranks (SASRec)\")\n",
    "axes[0].legend()\n",
    "axes[0].set_xlim(0, 50)\n",
    "\n",
    "# CDF of ranks\n",
    "sorted_ranks = np.sort(ranks)\n",
    "cdf = np.arange(1, len(sorted_ranks) + 1) / len(sorted_ranks)\n",
    "axes[1].plot(sorted_ranks, cdf)\n",
    "axes[1].axvline(10, color=\"red\", linestyle=\"--\", label=\"Top-10\")\n",
    "axes[1].axhline(metrics[\"hit@10\"], color=\"green\", linestyle=\"--\", label=f\"Hit@10 = {metrics['hit@10']:.3f}\")\n",
    "axes[1].set_xlabel(\"Rank\")\n",
    "axes[1].set_ylabel(\"Cumulative Probability\")\n",
    "axes[1].set_title(\"Cumulative Distribution of Ranks\")\n",
    "axes[1].legend()\n",
    "axes[1].set_xlim(0, 50)\n",
    "axes[1].grid(True, alpha=0.3)\n",
    "\n",
    "plt.tight_layout()\n",
    "plt.show()"
   ]
  },
  {
   "cell_type": "code",
   "execution_count": 11,
   "metadata": {},
   "outputs": [
    {
     "data": {
      "image/png": "[encoded data removed]",
      "text/plain": [
       "<Figure size 1200x400 with 2 Axes>"
      ]
     },
     "metadata": {},
     "output_type": "display_data"
    }
   ],
   "source": [
    "# Analyze performance by sequence length\n",
    "seq_lengths = [len(seq) for _, seq in val_data_ids]\n",
    "length_bins = [2, 5, 10, 20, 50, 100]\n",
    "length_labels = [\"2-4\", \"5-9\", \"10-19\", \"20-49\", \"50-99\"]\n",
    "\n",
    "# Bin sequences and calculate metrics per bin\n",
    "binned_metrics = []\n",
    "for i in range(len(length_bins) - 1):\n",
    "    mask = (np.array(seq_lengths) >= length_bins[i]) & (np.array(seq_lengths) < length_bins[i + 1])\n",
    "    if mask.sum() > 0:\n",
    "        bin_ranks = ranks[mask]\n",
    "        bin_metrics = calculate_metrics(bin_ranks, k=10)\n",
    "        bin_metrics[\"count\"] = mask.sum()\n",
    "        binned_metrics.append(bin_metrics)\n",
    "    else:\n",
    "        binned_metrics.append({\"hit@10\": 0, \"ndcg@10\": 0, \"count\": 0})\n",
    "\n",
    "# Plot metrics by sequence length\n",
    "fig, axes = plt.subplots(1, 2, figsize=(12, 4))\n",
    "\n",
    "# Hit@10 by sequence length\n",
    "hit_values = [m[\"hit@10\"] for m in binned_metrics]\n",
    "axes[0].bar(length_labels, hit_values, color=\"steelblue\", edgecolor=\"black\")\n",
    "axes[0].set_xlabel(\"Sequence Length\")\n",
    "axes[0].set_ylabel(\"Hit@10\")\n",
    "axes[0].set_title(\"Hit@10 by Sequence Length (SASRec)\")\n",
    "axes[0].set_ylim(0, max(hit_values) * 1.1 if max(hit_values) > 0 else 1)\n",
    "axes[0].grid(True, alpha=0.3)\n",
    "\n",
    "# NDCG@10 by sequence length\n",
    "ndcg_values = [m[\"ndcg@10\"] for m in binned_metrics]\n",
    "axes[1].bar(length_labels, ndcg_values, color=\"coral\", edgecolor=\"black\")\n",
    "axes[1].set_xlabel(\"Sequence Length\")\n",
    "axes[1].set_ylabel(\"NDCG@10\")\n",
    "axes[1].set_title(\"NDCG@10 by Sequence Length (SASRec)\")\n",
    "axes[1].set_ylim(0, max(ndcg_values) * 1.1 if max(ndcg_values) > 0 else 1)\n",
    "axes[1].grid(True, alpha=0.3)\n",
    "\n",
    "plt.tight_layout()\n",
    "plt.show()"
   ]
  },
  {
   "cell_type": "code",
   "execution_count": null,
   "metadata": {},
   "outputs": [],
   "source": []
  }
 ],
 "metadata": {
  "kernelspec": {
   "display_name": ".venv",
   "language": "python",
   "name": "python3"
  },
  "language_info": {
   "codemirror_mode": {
    "name": "ipython",
    "version": 3
   },
   "file_extension": ".py",
   "mimetype": "text/x-python",
   "name": "python",
   "nbconvert_exporter": "python",
   "pygments_lexer": "ipython3",
   "version": "3.12.5"
  }
 },
 "nbformat": 4,
 "nbformat_minor": 4
}
