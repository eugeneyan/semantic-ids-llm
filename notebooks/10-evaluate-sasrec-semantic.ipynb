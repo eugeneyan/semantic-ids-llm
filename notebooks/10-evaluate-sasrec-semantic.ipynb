{
 "cells": [
  {
   "cell_type": "markdown",
   "metadata": {},
   "source": [
    "# Evaluate Semantic SASRec Model"
   ]
  },
  {
   "cell_type": "code",
   "execution_count": 1,
   "metadata": {},
   "outputs": [
    {
     "name": "stdout",
     "output_type": "stream",
     "text": [
      "20:24:27 - Using device: mps\n"
     ]
    }
   ],
   "source": [
    "import shutil\n",
    "import sys\n",
    "from dataclasses import dataclass, field\n",
    "from pathlib import Path\n",
    "from typing import Dict, List, Tuple\n",
    "\n",
    "import matplotlib.pyplot as plt\n",
    "import numpy as np\n",
    "import polars as pl\n",
    "import torch\n",
    "from tqdm.auto import tqdm\n",
    "\n",
    "import wandb\n",
    "\n",
    "# Add parent directory to path for imports\n",
    "sys.path.append(str(Path.cwd().parent))\n",
    "\n",
    "from src.device_manager import DeviceManager\n",
    "from src.logger import setup_logger\n",
    "\n",
    "# Import model classes and tokenization function from training script\n",
    "from src.train_sasrec_semantic_id import SemanticSASRec, SemanticSASRecConfig, encode_semantic_id\n",
    "\n",
    "# Setup\n",
    "logger = setup_logger(\"evaluate-semantic-sasrec\", log_to_file=False)\n",
    "device_manager = DeviceManager(logger)\n",
    "device = device_manager.device"
   ]
  },
  {
   "cell_type": "markdown",
   "metadata": {},
   "source": [
    "## Configuration"
   ]
  },
  {
   "cell_type": "code",
   "execution_count": 2,
   "metadata": {},
   "outputs": [
    {
     "name": "stdout",
     "output_type": "stream",
     "text": [
      "20:24:27 - Configuration: EvalConfig(dataset='Video_Games', data_dir=PosixPath('../data'), sequences_path=PosixPath('../data/output/Video_Games_sequences_with_semantic_ids_val.parquet'), models_dir=PosixPath('../models/semantic_sasrec'), artifact_path='eugeneyan/sasrec-experiments/semantic-sasrec-final-Video_Games:v0', num_levels=4, codebook_size=256, val_fraction=1, batch_size=256, num_negative_samples=1000, max_seq_length=50, seed=42)\n"
     ]
    }
   ],
   "source": [
    "@dataclass\n",
    "class EvalConfig:\n",
    "    \"\"\"Configuration for semantic SASRec evaluation.\"\"\"\n",
    "\n",
    "    # Data\n",
    "    dataset: str = \"Video_Games\"\n",
    "    data_dir: Path = field(default_factory=lambda: Path(\"../data\"))\n",
    "    sequences_path: Path = field(\n",
    "        default_factory=lambda: Path(\"../data/output/Video_Games_sequences_with_semantic_ids_val.parquet\")\n",
    "    )\n",
    "\n",
    "    # Model\n",
    "    models_dir: Path = field(default_factory=lambda: Path(\"../models/semantic_sasrec\"))\n",
    "    artifact_path: str = \"eugeneyan/sasrec-experiments/semantic-sasrec-final-Video_Games:v0\"\n",
    "\n",
    "    # Semantic ID settings (must match training)\n",
    "    num_levels: int = 4  # Number of hierarchical levels\n",
    "    codebook_size: int = 256  # Size of codebook per level\n",
    "\n",
    "    # Evaluation\n",
    "    val_fraction: float = 1  # Fraction of data to use for validation\n",
    "    batch_size: int = 256\n",
    "    num_negative_samples: int = 1000  # Number of negative samples for evaluation\n",
    "    max_seq_length: int = 50\n",
    "    seed: int = 42\n",
    "\n",
    "    def __post_init__(self):\n",
    "        \"\"\"Create directories if needed.\"\"\"\n",
    "        self.models_dir.mkdir(parents=True, exist_ok=True)\n",
    "\n",
    "\n",
    "config = EvalConfig()\n",
    "logger.info(f\"Configuration: {config}\")"
   ]
  },
  {
   "cell_type": "markdown",
   "metadata": {},
   "source": [
    "## Download Model from W&B"
   ]
  },
  {
   "cell_type": "code",
   "execution_count": 3,
   "metadata": {},
   "outputs": [
    {
     "name": "stdout",
     "output_type": "stream",
     "text": [
      "20:24:27 - Downloading model from W&B: eugeneyan/sasrec-experiments/semantic-sasrec-final-Video_Games:v0\n"
     ]
    },
    {
     "name": "stderr",
     "output_type": "stream",
     "text": [
      "\u001b[34m\u001b[1mwandb\u001b[0m: Currently logged in as: \u001b[33meugeneyan\u001b[0m to \u001b[32mhttps://api.wandb.ai\u001b[0m. Use \u001b[1m`wandb login --relogin`\u001b[0m to force relogin\n"
     ]
    },
    {
     "data": {
      "text/html": [
       "Tracking run with wandb version 0.21.1"
      ],
      "text/plain": [
       "<IPython.core.display.HTML object>"
      ]
     },
     "metadata": {},
     "output_type": "display_data"
    },
    {
     "data": {
      "text/html": [
       "Run data is saved locally in <code>/Users/eugeneya/local/semantic-ids/notebooks/wandb/run-20250909_202428-y9kmq0rl</code>"
      ],
      "text/plain": [
       "<IPython.core.display.HTML object>"
      ]
     },
     "metadata": {},
     "output_type": "display_data"
    },
    {
     "data": {
      "text/html": [
       "Syncing run <strong><a href='https://wandb.ai/eugeneyan/semantic-sasrec-evaluation/runs/y9kmq0rl' target=\"_blank\">eval-semantic-sasrec-v0</a></strong> to <a href='https://wandb.ai/eugeneyan/semantic-sasrec-evaluation' target=\"_blank\">Weights & Biases</a> (<a href='https://wandb.me/developer-guide' target=\"_blank\">docs</a>)<br>"
      ],
      "text/plain": [
       "<IPython.core.display.HTML object>"
      ]
     },
     "metadata": {},
     "output_type": "display_data"
    },
    {
     "data": {
      "text/html": [
       " View project at <a href='https://wandb.ai/eugeneyan/semantic-sasrec-evaluation' target=\"_blank\">https://wandb.ai/eugeneyan/semantic-sasrec-evaluation</a>"
      ],
      "text/plain": [
       "<IPython.core.display.HTML object>"
      ]
     },
     "metadata": {},
     "output_type": "display_data"
    },
    {
     "data": {
      "text/html": [
       " View run at <a href='https://wandb.ai/eugeneyan/semantic-sasrec-evaluation/runs/y9kmq0rl' target=\"_blank\">https://wandb.ai/eugeneyan/semantic-sasrec-evaluation/runs/y9kmq0rl</a>"
      ],
      "text/plain": [
       "<IPython.core.display.HTML object>"
      ]
     },
     "metadata": {},
     "output_type": "display_data"
    },
    {
     "name": "stderr",
     "output_type": "stream",
     "text": [
      "\u001b[34m\u001b[1mwandb\u001b[0m:   1 of 1 files downloaded.  \n"
     ]
    },
    {
     "name": "stdout",
     "output_type": "stream",
     "text": [
      "20:24:31 - Model downloaded to ../models/semantic_sasrec/semantic_sasrec_video_games_v0.pth\n"
     ]
    },
    {
     "data": {
      "text/html": [],
      "text/plain": [
       "<IPython.core.display.HTML object>"
      ]
     },
     "metadata": {},
     "output_type": "display_data"
    },
    {
     "data": {
      "text/html": [
       " View run <strong style=\"color:#cdcd00\">eval-semantic-sasrec-v0</strong> at: <a href='https://wandb.ai/eugeneyan/semantic-sasrec-evaluation/runs/y9kmq0rl' target=\"_blank\">https://wandb.ai/eugeneyan/semantic-sasrec-evaluation/runs/y9kmq0rl</a><br> View project at: <a href='https://wandb.ai/eugeneyan/semantic-sasrec-evaluation' target=\"_blank\">https://wandb.ai/eugeneyan/semantic-sasrec-evaluation</a><br>Synced 5 W&B file(s), 0 media file(s), 0 artifact file(s) and 0 other file(s)"
      ],
      "text/plain": [
       "<IPython.core.display.HTML object>"
      ]
     },
     "metadata": {},
     "output_type": "display_data"
    },
    {
     "data": {
      "text/html": [
       "Find logs at: <code>./wandb/run-20250909_202428-y9kmq0rl/logs</code>"
      ],
      "text/plain": [
       "<IPython.core.display.HTML object>"
      ]
     },
     "metadata": {},
     "output_type": "display_data"
    }
   ],
   "source": [
    "# Download model from W&B\n",
    "logger.info(f\"Downloading model from W&B: {config.artifact_path}\")\n",
    "\n",
    "version = config.artifact_path.split(\":\")[-1]\n",
    "run = wandb.init(project=\"semantic-sasrec-evaluation\", name=f\"eval-semantic-sasrec-{version}\")\n",
    "artifact = run.use_artifact(config.artifact_path, type=\"model\")\n",
    "artifact_dir = artifact.download(config.models_dir)\n",
    "\n",
    "# Find and rename the downloaded model file\n",
    "downloaded_files = list(Path(artifact_dir).glob(\"*.pth\"))\n",
    "if downloaded_files:\n",
    "    old_path = downloaded_files[0]\n",
    "    new_path = config.models_dir / f\"semantic_sasrec_{config.dataset.lower()}_{version}.pth\"\n",
    "    if old_path != new_path:\n",
    "        shutil.move(str(old_path), str(new_path))\n",
    "    model_path = new_path\n",
    "    logger.info(f\"Model downloaded to {model_path}\")\n",
    "else:\n",
    "    raise FileNotFoundError(f\"No .pth file found in {artifact_dir}\")\n",
    "\n",
    "wandb.finish()"
   ]
  },
  {
   "cell_type": "markdown",
   "metadata": {},
   "source": [
    "## Load Model from Checkpoint"
   ]
  },
  {
   "cell_type": "code",
   "execution_count": 4,
   "metadata": {},
   "outputs": [
    {
     "name": "stdout",
     "output_type": "stream",
     "text": [
      "20:24:31 - Loading checkpoint from ../models/semantic_sasrec/semantic_sasrec_video_games_v0.pth\n",
      "20:24:31 - Found config in checkpoint\n",
      "20:24:31 -   num_levels: 4\n",
      "20:24:31 -   codebook_size: 256\n",
      "20:24:31 -   num_heads: 6\n",
      "20:24:31 -   hidden_dim: 384\n",
      "20:24:31 -   num_blocks: 4\n",
      "20:24:31 - Detected compiled model, removing '_orig_mod.' prefix\n",
      "20:24:32 - Model loaded successfully on mps\n",
      "20:24:32 - Total parameters: 7,035,904\n",
      "20:24:32 - Model config: SemanticSASRecConfig(dataset='Video_Games', data_dir=PosixPath('data'), data_path=PosixPath('data/output/Video_Games_sequences_with_semantic_ids_train.parquet'), checkpoint_dir=PosixPath('checkpoints/sasrec'), num_levels=4, codebook_size=256, vocab_size=1024, max_seq_length=100, input_dim=128, head_dim=64, num_heads=6, hidden_dim=384, num_blocks=4, mlp_dim=1024, dropout_rate=0.1, batch_size=1024, gradient_accumulation_steps=1, num_epochs=200, max_learning_rate=0.001, min_learning_rate=1e-05, weight_decay=0.0, l2_emb=0.0, teacher_forcing_ratio=0.9, scheduler_type='cosine_with_warmup', warmup_steps=100, warmup_start_lr=1e-08, use_gradient_clipping=True, gradient_clip_norm=1.0, log_interval=100, val_interval=2000, checkpoint_interval=20, use_compile=True, fused_adam=True)\n"
     ]
    }
   ],
   "source": [
    "def load_semantic_sasrec_model(model_path: str, device: str = None) -> Tuple[SemanticSASRec, SemanticSASRecConfig, str]:\n",
    "    \"\"\"Load Semantic SASRec model from checkpoint.\"\"\"\n",
    "\n",
    "    # Auto-detect device if not specified\n",
    "    if device is None:\n",
    "        if torch.cuda.is_available():\n",
    "            device = \"cuda\"\n",
    "        elif torch.backends.mps.is_available():\n",
    "            device = \"mps\"\n",
    "        else:\n",
    "            device = \"cpu\"\n",
    "\n",
    "    # Load checkpoint\n",
    "    logger.info(f\"Loading checkpoint from {model_path}\")\n",
    "    checkpoint = torch.load(model_path, map_location=device, weights_only=False)\n",
    "\n",
    "    # Extract config from checkpoint\n",
    "    if \"config\" in checkpoint:\n",
    "        config_dict = checkpoint[\"config\"]\n",
    "        logger.info(\"Found config in checkpoint\")\n",
    "\n",
    "        # Create SemanticSASRecConfig from saved config\n",
    "        semantic_config = SemanticSASRecConfig()\n",
    "\n",
    "        # Update config parameters if they exist in the saved config\n",
    "        if isinstance(config_dict, dict):\n",
    "            for key, value in config_dict.items():\n",
    "                if hasattr(semantic_config, key):\n",
    "                    setattr(semantic_config, key, value)\n",
    "                    if key in [\"num_levels\", \"codebook_size\", \"hidden_dim\", \"num_blocks\", \"num_heads\"]:\n",
    "                        logger.info(f\"  {key}: {value}\")\n",
    "    else:\n",
    "        # Use default config\n",
    "        logger.warning(\"No config found in checkpoint, using defaults\")\n",
    "        semantic_config = SemanticSASRecConfig()\n",
    "\n",
    "    # Get state dict\n",
    "    state_dict = checkpoint[\"model_state_dict\"]\n",
    "\n",
    "    # Handle compiled model state dict (keys might start with '_orig_mod.')\n",
    "    if any(k.startswith(\"_orig_mod.\") for k in state_dict.keys()):\n",
    "        logger.info(\"Detected compiled model, removing '_orig_mod.' prefix\")\n",
    "        state_dict = {k.replace(\"_orig_mod.\", \"\"): v for k, v in state_dict.items()}\n",
    "\n",
    "    # Create model instance\n",
    "    model = SemanticSASRec(semantic_config)\n",
    "\n",
    "    # Load weights\n",
    "    model.load_state_dict(state_dict)\n",
    "    model = model.to(device)\n",
    "    model.eval()\n",
    "\n",
    "    # Log model info\n",
    "    total_params = sum(p.numel() for p in model.parameters())\n",
    "    logger.info(f\"Model loaded successfully on {device}\")\n",
    "    logger.info(f\"Total parameters: {total_params:,}\")\n",
    "\n",
    "    return model, semantic_config, device\n",
    "\n",
    "\n",
    "# Load the model\n",
    "model, semantic_config, device = load_semantic_sasrec_model(str(model_path), device=device)\n",
    "logger.info(f\"Model config: {semantic_config}\")"
   ]
  },
  {
   "cell_type": "markdown",
   "metadata": {},
   "source": [
    "## Load and Prepare Data"
   ]
  },
  {
   "cell_type": "code",
   "execution_count": 5,
   "metadata": {},
   "outputs": [
    {
     "name": "stdout",
     "output_type": "stream",
     "text": [
      "20:24:32 - Loading data from ../data/output/Video_Games_sequences_with_semantic_ids_val.parquet\n",
      "20:24:32 - Loaded 7862 sequences\n",
      "20:24:32 - Columns: ['user_id', 'sequence', 'sequence_length', 'semantic_id_sequence', 'semantic_id_sequence_length']\n",
      "20:24:32 - Valid sequences (>= 2 items): 7862\n",
      "20:24:32 - Sequences truncated to max_seq_length (50 items): 16\n",
      "20:24:32 - Sampled 7862 sequences for validation\n",
      "20:24:32 - Sequence length stats after truncation (in items): min=3, max=50, avg=6.5\n",
      "20:24:32 - Max token sequence length will be: 200 tokens\n"
     ]
    }
   ],
   "source": [
    "# Load sequences data\n",
    "logger.info(f\"Loading data from {config.sequences_path}\")\n",
    "df = pl.read_parquet(config.sequences_path)\n",
    "logger.info(f\"Loaded {len(df)} sequences\")\n",
    "logger.info(f\"Columns: {df.columns}\")\n",
    "\n",
    "# Extract sequences - using semantic_id_sequence this time\n",
    "users = df[\"user_id\"].to_list()\n",
    "semantic_sequences = df[\"semantic_id_sequence\"].to_list()  # Use these for evaluation\n",
    "\n",
    "# Filter sequences with at least 2 items (need one for input, one for target)\n",
    "# AND truncate to max_seq_length if needed\n",
    "valid_data = []\n",
    "truncated_count = 0\n",
    "for u, s_seq in zip(users, semantic_sequences):\n",
    "    if len(s_seq) >= 2:\n",
    "        if len(s_seq) > config.max_seq_length:\n",
    "            # Keep the most recent max_seq_length items (not tokens!)\n",
    "            s_seq = s_seq[-config.max_seq_length :]\n",
    "            truncated_count += 1\n",
    "        valid_data.append((u, s_seq))\n",
    "\n",
    "logger.info(f\"Valid sequences (>= 2 items): {len(valid_data)}\")\n",
    "logger.info(f\"Sequences truncated to max_seq_length ({config.max_seq_length} items): {truncated_count}\")\n",
    "\n",
    "# Sample validation set\n",
    "np.random.seed(config.seed)\n",
    "n_val = int(len(valid_data) * config.val_fraction)\n",
    "val_indices = np.random.choice(len(valid_data), size=n_val, replace=False)\n",
    "val_data = [valid_data[i] for i in val_indices]\n",
    "logger.info(f\"Sampled {len(val_data)} sequences for validation\")\n",
    "\n",
    "# Log sequence length statistics after truncation\n",
    "seq_lengths = [len(s_seq) for _, s_seq in val_data]\n",
    "logger.info(\n",
    "    f\"Sequence length stats after truncation (in items): min={min(seq_lengths)}, max={max(seq_lengths)}, avg={np.mean(seq_lengths):.1f}\"\n",
    ")\n",
    "logger.info(f\"Max token sequence length will be: {max(seq_lengths) * config.num_levels} tokens\")"
   ]
  },
  {
   "cell_type": "markdown",
   "metadata": {},
   "source": [
    "## Tokenize Semantic IDs and Build Candidate Pool"
   ]
  },
  {
   "cell_type": "code",
   "execution_count": 6,
   "metadata": {},
   "outputs": [
    {
     "name": "stdout",
     "output_type": "stream",
     "text": [
      "20:24:32 - Tokenizing semantic IDs and building candidate pool...\n",
      "20:24:32 - Unique semantic IDs: 10396\n",
      "20:24:32 - Vocabulary size: 1024\n",
      "20:24:32 - Max token value in pool: 802\n"
     ]
    }
   ],
   "source": [
    "# Tokenize all semantic IDs and build candidate pool\n",
    "logger.info(\"Tokenizing semantic IDs and building candidate pool...\")\n",
    "\n",
    "# Collect all unique semantic IDs and their tokenizations\n",
    "unique_semantic_ids = set()\n",
    "for _, semantic_seq in val_data:\n",
    "    unique_semantic_ids.update(semantic_seq)\n",
    "\n",
    "# Create mapping from semantic ID to tokens\n",
    "sid_to_tokens = {}\n",
    "for sid in unique_semantic_ids:\n",
    "    tokens = encode_semantic_id(sid, config.num_levels, config.codebook_size)\n",
    "    sid_to_tokens[sid] = tokens\n",
    "\n",
    "# Create candidate pool (list of token sequences)\n",
    "candidate_pool = list(sid_to_tokens.values())\n",
    "num_unique_items = len(candidate_pool)\n",
    "\n",
    "logger.info(f\"Unique semantic IDs: {num_unique_items}\")\n",
    "logger.info(f\"Vocabulary size: {semantic_config.vocab_size}\")\n",
    "logger.info(f\"Max token value in pool: {max(max(tokens) for tokens in candidate_pool)}\")\n",
    "\n",
    "# Create reverse mapping for efficient lookups\n",
    "tokens_to_index = {tuple(tokens): idx for idx, tokens in enumerate(candidate_pool)}"
   ]
  },
  {
   "cell_type": "markdown",
   "metadata": {},
   "source": [
    "## Prepare Validation Data with Token Sequences"
   ]
  },
  {
   "cell_type": "code",
   "execution_count": 7,
   "metadata": {},
   "outputs": [
    {
     "name": "stdout",
     "output_type": "stream",
     "text": [
      "20:24:32 - Converted 7862 sequences to token format\n",
      "20:24:32 - Example: User AGMBI6FALBGSJKGHFJLJFOULMY5Q, Sequence length: 12 items, Token length: 48 tokens\n",
      "20:24:32 - First item tokens: [155, 348, 679, 768]\n"
     ]
    }
   ],
   "source": [
    "# Convert validation data to token sequences\n",
    "val_data_tokens = []\n",
    "\n",
    "for user, semantic_seq in val_data:\n",
    "    # Tokenize the entire sequence\n",
    "    full_token_seq = []\n",
    "    for sid in semantic_seq:\n",
    "        tokens = sid_to_tokens[sid]\n",
    "        full_token_seq.extend(tokens)  # Flatten: each item becomes 4 tokens\n",
    "\n",
    "    val_data_tokens.append((user, full_token_seq, len(semantic_seq)))\n",
    "\n",
    "logger.info(f\"Converted {len(val_data_tokens)} sequences to token format\")\n",
    "\n",
    "# Show example\n",
    "if val_data_tokens:\n",
    "    user, token_seq, seq_len = val_data_tokens[0]\n",
    "    logger.info(f\"Example: User {user}, Sequence length: {seq_len} items, Token length: {len(token_seq)} tokens\")\n",
    "    logger.info(f\"First item tokens: {token_seq[:4]}\")"
   ]
  },
  {
   "cell_type": "markdown",
   "metadata": {},
   "source": [
    "## Evaluation Functions"
   ]
  },
  {
   "cell_type": "code",
   "execution_count": 8,
   "metadata": {},
   "outputs": [],
   "source": [
    "def calculate_metrics(ranks: np.ndarray, k: int = 10) -> Dict[str, float]:\n",
    "    \"\"\"Calculate Hit@k and NDCG@k from ranks.\"\"\"\n",
    "    hit_at_k = np.mean(ranks <= k)\n",
    "\n",
    "    # NDCG@k\n",
    "    ndcg_at_k = 0.0\n",
    "    for rank in ranks:\n",
    "        if rank <= k:\n",
    "            ndcg_at_k += 1 / np.log2(rank + 1)\n",
    "    ndcg_at_k /= len(ranks)\n",
    "\n",
    "    return {f\"hit@{k}\": hit_at_k, f\"ndcg@{k}\": ndcg_at_k}\n",
    "\n",
    "\n",
    "def get_user_seen_tokens(user_token_seq: List[int], num_levels: int) -> set:\n",
    "    \"\"\"Get set of seen item token tuples for a user.\"\"\"\n",
    "    seen_items = set()\n",
    "    for i in range(0, len(user_token_seq), num_levels):\n",
    "        item_tokens = tuple(user_token_seq[i : i + num_levels])\n",
    "        seen_items.add(item_tokens)\n",
    "    return seen_items\n",
    "\n",
    "\n",
    "def evaluate_semantic_model(\n",
    "    model: SemanticSASRec,\n",
    "    val_data_tokens: List[Tuple[str, List[int], int]],\n",
    "    candidate_pool: List[List[int]],\n",
    "    batch_size: int = 256,\n",
    "    num_neg_samples: int = 100,\n",
    "    device: str = \"cpu\",\n",
    "    semantic_config: SemanticSASRecConfig = None,\n",
    ") -> Tuple[Dict[str, float], np.ndarray]:\n",
    "    \"\"\"\n",
    "    Evaluate Semantic SASRec model on validation data.\n",
    "\n",
    "    Args:\n",
    "        model: Trained SemanticSASRec model\n",
    "        val_data_tokens: List of (user, token_sequence, original_seq_length) tuples\n",
    "        candidate_pool: List of all unique item token sequences\n",
    "        batch_size: Batch size for evaluation\n",
    "        num_neg_samples: Number of negative samples\n",
    "        device: Device to run on\n",
    "        semantic_config: Model configuration\n",
    "\n",
    "    Returns:\n",
    "        Tuple of (metrics dict, ranks array)\n",
    "    \"\"\"\n",
    "    model.eval()\n",
    "\n",
    "    logger.info(f\"Evaluating with {num_neg_samples} negative samples from pool of {len(candidate_pool)} items\")\n",
    "\n",
    "    all_ranks = []\n",
    "    num_levels = semantic_config.num_levels\n",
    "    max_token_length = semantic_config.max_seq_length * num_levels\n",
    "\n",
    "    with torch.no_grad():\n",
    "        for batch_start in tqdm(range(0, len(val_data_tokens), batch_size), desc=\"Evaluating\"):\n",
    "            batch = val_data_tokens[batch_start : batch_start + batch_size]\n",
    "\n",
    "            batch_input_tokens = []\n",
    "            batch_targets = []\n",
    "            batch_candidates = []\n",
    "\n",
    "            for user, token_seq, original_seq_len in batch:\n",
    "                # Use all but last item as input\n",
    "                split_idx = (original_seq_len - 1) * num_levels\n",
    "                input_tokens = token_seq[:split_idx]\n",
    "                target_tokens = token_seq[split_idx : split_idx + num_levels]\n",
    "\n",
    "                # Truncate if longer than max_token_length\n",
    "                if len(input_tokens) > max_token_length:\n",
    "                    input_tokens = input_tokens[-max_token_length:]\n",
    "\n",
    "                batch_input_tokens.append(input_tokens)\n",
    "                batch_targets.append(target_tokens)\n",
    "\n",
    "                # Sample items from entire catalog, excluding the target\n",
    "                target_tuple = tuple(target_tokens)\n",
    "                valid_indices = [\n",
    "                    idx for idx, item_tokens in enumerate(candidate_pool) if tuple(item_tokens) != target_tuple\n",
    "                ]\n",
    "\n",
    "                sampled_indices = np.random.choice(\n",
    "                    valid_indices, size=min(num_neg_samples, len(valid_indices)), replace=False\n",
    "                )\n",
    "\n",
    "                # Create candidate list: target at position 0, then negatives\n",
    "                candidates = [target_tokens] + [candidate_pool[idx] for idx in sampled_indices]\n",
    "                batch_candidates.append(candidates)\n",
    "\n",
    "            # Prepare input tensor\n",
    "            max_len = max(len(s) for s in batch_input_tokens)\n",
    "            input_tensor = torch.zeros((len(batch), max_len), dtype=torch.long, device=device)\n",
    "\n",
    "            for i, tokens in enumerate(batch_input_tokens):\n",
    "                input_tensor[i, -len(tokens) :] = torch.tensor(tokens, dtype=torch.long)\n",
    "\n",
    "            # Prepare candidates tensor [batch_size, num_candidates, num_levels]\n",
    "            candidates_tensor = torch.tensor(batch_candidates, dtype=torch.long, device=device)\n",
    "\n",
    "            # Get predictions using score_candidates method\n",
    "            scores = model.score_candidates(input_tensor, candidates_tensor)\n",
    "\n",
    "            # Find rank of target item (which is at position 0)\n",
    "            for i in range(len(batch)):\n",
    "                user_scores = scores[i]\n",
    "                rank = (user_scores[0] < user_scores).sum().item() + 1\n",
    "                all_ranks.append(rank)\n",
    "\n",
    "    # Calculate metrics\n",
    "    all_ranks = np.array(all_ranks)\n",
    "    metrics = calculate_metrics(all_ranks, k=10)\n",
    "\n",
    "    # Add additional statistics\n",
    "    metrics[\"mean_rank\"] = np.mean(all_ranks)\n",
    "    metrics[\"median_rank\"] = np.median(all_ranks)\n",
    "    metrics[\"mrr\"] = np.mean(1.0 / all_ranks)  # Mean Reciprocal Rank\n",
    "\n",
    "    return metrics, all_ranks"
   ]
  },
  {
   "cell_type": "markdown",
   "metadata": {},
   "source": [
    "## Run Evaluation"
   ]
  },
  {
   "cell_type": "code",
   "execution_count": 9,
   "metadata": {},
   "outputs": [
    {
     "name": "stdout",
     "output_type": "stream",
     "text": [
      "20:24:32 - Starting evaluation...\n",
      "20:24:32 - Evaluating with 1000 negative samples from pool of 10396 items\n"
     ]
    },
    {
     "data": {
      "application/vnd.jupyter.widget-view+json": {
       "model_id": "e8f96631c8754f21aeadc075a70da8bd",
       "version_major": 2,
       "version_minor": 0
      },
      "text/plain": [
       "Evaluating:   0%|          | 0/31 [00:00<?, ?it/s]"
      ]
     },
     "metadata": {},
     "output_type": "display_data"
    }
   ],
   "source": [
    "# Run evaluation\n",
    "logger.info(\"Starting evaluation...\")\n",
    "metrics, ranks = evaluate_semantic_model(\n",
    "    model=model,\n",
    "    val_data_tokens=val_data_tokens,\n",
    "    candidate_pool=candidate_pool,\n",
    "    batch_size=config.batch_size,\n",
    "    num_neg_samples=config.num_negative_samples,\n",
    "    device=device,\n",
    "    semantic_config=semantic_config,\n",
    ")"
   ]
  },
  {
   "cell_type": "code",
   "execution_count": 10,
   "metadata": {},
   "outputs": [
    {
     "name": "stdout",
     "output_type": "stream",
     "text": [
      "20:25:03 - ==================================================\n",
      "20:25:03 - SUMMARY STATISTICS\n",
      "20:25:03 - ==================================================\n",
      "20:25:03 - Dataset                  : Video_Games\n",
      "20:25:03 - Model Path               : semantic_sasrec_video_games_v0.pth\n",
      "20:25:03 - Model Type               : Semantic SASRec\n",
      "20:25:03 - Total Sequences          : 7862\n",
      "20:25:03 - Validation Sequences     : 7862\n",
      "20:25:03 - Validation Fraction      : 100.0%\n",
      "20:25:03 - Unique Items             : 10396\n",
      "20:25:03 - Avg Sequence Length      : 6.5\n",
      "20:25:03 - Min Sequence Length      : 3\n",
      "20:25:03 - Max Sequence Length      : 50\n",
      "20:25:03 - ==================================================\n",
      "20:25:03 - FINAL METRICS:\n",
      "20:25:03 - --------------------------------------------------\n",
      "20:25:03 - Hit@10:  0.2020 (20.20%)\n",
      "20:25:03 - NDCG@10: 0.1138\n",
      "20:25:03 - MRR:     0.1007\n",
      "20:25:03 - Mean Rank: 179.7\n",
      "20:25:03 - Median Rank: 79.0\n",
      "20:25:03 - ==================================================\n"
     ]
    }
   ],
   "source": [
    "# Calculate and display summary statistics\n",
    "seq_lengths = [seq_len for _, _, seq_len in val_data_tokens]\n",
    "summary_stats = {\n",
    "    \"Dataset\": config.dataset,\n",
    "    \"Model Path\": str(model_path.name),\n",
    "    \"Model Type\": \"Semantic SASRec\",\n",
    "    \"Total Sequences\": len(df),\n",
    "    \"Validation Sequences\": len(val_data),\n",
    "    \"Validation Fraction\": f\"{config.val_fraction:.1%}\",\n",
    "    \"Unique Items\": num_unique_items,\n",
    "    \"Avg Sequence Length\": f\"{np.mean(seq_lengths):.1f}\",\n",
    "    \"Min Sequence Length\": min(seq_lengths),\n",
    "    \"Max Sequence Length\": max(seq_lengths),\n",
    "}\n",
    "\n",
    "logger.info(\"=\" * 50)\n",
    "logger.info(\"SUMMARY STATISTICS\")\n",
    "logger.info(\"=\" * 50)\n",
    "for key, value in summary_stats.items():\n",
    "    logger.info(f\"{key:25s}: {value}\")\n",
    "logger.info(\"=\" * 50)\n",
    "\n",
    "logger.info(\"FINAL METRICS:\")\n",
    "logger.info(\"-\" * 50)\n",
    "logger.info(f\"Hit@10:  {metrics['hit@10']:.4f} ({metrics['hit@10'] * 100:.2f}%)\")\n",
    "logger.info(f\"NDCG@10: {metrics['ndcg@10']:.4f}\")\n",
    "logger.info(f\"MRR:     {metrics['mrr']:.4f}\")\n",
    "logger.info(f\"Mean Rank: {metrics['mean_rank']:.1f}\")\n",
    "logger.info(f\"Median Rank: {metrics['median_rank']:.1f}\")\n",
    "logger.info(\"=\" * 50)"
   ]
  },
  {
   "cell_type": "markdown",
   "metadata": {},
   "source": [
    "## Visualization and Analysis"
   ]
  },
  {
   "cell_type": "code",
   "execution_count": 11,
   "metadata": {},
   "outputs": [
    {
     "data": {
      "image/png": "[encoded data removed]",
      "text/plain": [
       "<Figure size 1500x400 with 2 Axes>"
      ]
     },
     "metadata": {},
     "output_type": "display_data"
    }
   ],
   "source": [
    "# Plot rank distribution\n",
    "fig, axes = plt.subplots(1, 2, figsize=(15, 4))\n",
    "\n",
    "# Histogram of ranks\n",
    "axes[0].hist(ranks, bins=min(config.num_negative_samples, config.num_negative_samples), edgecolor=\"black\", alpha=0.7)\n",
    "axes[0].axvline(10, color=\"red\", linestyle=\"--\", label=\"Top-10 cutoff\")\n",
    "axes[0].set_xlabel(\"Rank\")\n",
    "axes[0].set_ylabel(\"Count\")\n",
    "axes[0].set_title(\"Distribution of Ranks (Semantic SASRec)\")\n",
    "axes[0].legend()\n",
    "axes[0].set_xlim(0, 50)\n",
    "\n",
    "# CDF of ranks\n",
    "sorted_ranks = np.sort(ranks)\n",
    "cdf = np.arange(1, len(sorted_ranks) + 1) / len(sorted_ranks)\n",
    "axes[1].plot(sorted_ranks, cdf)\n",
    "axes[1].axvline(10, color=\"red\", linestyle=\"--\", label=\"Top-10\")\n",
    "axes[1].axhline(metrics[\"hit@10\"], color=\"green\", linestyle=\"--\", label=f\"Hit@10 = {metrics['hit@10']:.3f}\")\n",
    "axes[1].set_xlabel(\"Rank\")\n",
    "axes[1].set_ylabel(\"Cumulative Probability\")\n",
    "axes[1].set_title(\"Cumulative Distribution of Ranks (Semantic SASRec)\")\n",
    "axes[1].legend()\n",
    "axes[1].set_xlim(0, 50)\n",
    "axes[1].grid(True, alpha=0.3)\n",
    "\n",
    "plt.tight_layout()\n",
    "plt.show()"
   ]
  },
  {
   "cell_type": "code",
   "execution_count": 12,
   "metadata": {},
   "outputs": [
    {
     "data": {
      "image/png": "[encoded data removed]",
      "text/plain": [
       "<Figure size 1200x400 with 2 Axes>"
      ]
     },
     "metadata": {},
     "output_type": "display_data"
    }
   ],
   "source": [
    "# Analyze performance by sequence length\n",
    "seq_lengths = [seq_len for _, _, seq_len in val_data_tokens]\n",
    "length_bins = [2, 5, 10, 20, 50, 100]\n",
    "length_labels = [\"2-4\", \"5-9\", \"10-19\", \"20-49\", \"50-99\"]\n",
    "\n",
    "# Bin sequences and calculate metrics per bin\n",
    "binned_metrics = []\n",
    "for i in range(len(length_bins) - 1):\n",
    "    mask = (np.array(seq_lengths) >= length_bins[i]) & (np.array(seq_lengths) < length_bins[i + 1])\n",
    "    if mask.sum() > 0:\n",
    "        bin_ranks = ranks[mask]\n",
    "        bin_metrics = calculate_metrics(bin_ranks, k=10)\n",
    "        bin_metrics[\"count\"] = mask.sum()\n",
    "        binned_metrics.append(bin_metrics)\n",
    "    else:\n",
    "        binned_metrics.append({\"hit@10\": 0, \"ndcg@10\": 0, \"count\": 0})\n",
    "\n",
    "# Plot metrics by sequence length\n",
    "fig, axes = plt.subplots(1, 2, figsize=(12, 4))\n",
    "\n",
    "# Hit@10 by sequence length\n",
    "hit_values = [m[\"hit@10\"] for m in binned_metrics]\n",
    "axes[0].bar(length_labels, hit_values, color=\"steelblue\", edgecolor=\"black\")\n",
    "axes[0].set_xlabel(\"Sequence Length\")\n",
    "axes[0].set_ylabel(\"Hit@10\")\n",
    "axes[0].set_title(\"Hit@10 by Sequence Length (Semantic SASRec)\")\n",
    "axes[0].set_ylim(0, max(hit_values) * 1.1 if max(hit_values) > 0 else 1)\n",
    "axes[0].grid(True, alpha=0.3)\n",
    "\n",
    "# NDCG@10 by sequence length\n",
    "ndcg_values = [m[\"ndcg@10\"] for m in binned_metrics]\n",
    "axes[1].bar(length_labels, ndcg_values, color=\"coral\", edgecolor=\"black\")\n",
    "axes[1].set_xlabel(\"Sequence Length\")\n",
    "axes[1].set_ylabel(\"NDCG@10\")\n",
    "axes[1].set_title(\"NDCG@10 by Sequence Length (Semantic SASRec)\")\n",
    "axes[1].set_ylim(0, max(ndcg_values) * 1.1 if max(ndcg_values) > 0 else 1)\n",
    "axes[1].grid(True, alpha=0.3)\n",
    "\n",
    "plt.tight_layout()\n",
    "plt.show()"
   ]
  },
  {
   "cell_type": "code",
   "execution_count": null,
   "metadata": {},
   "outputs": [],
   "source": []
  }
 ],
 "metadata": {
  "kernelspec": {
   "display_name": ".venv",
   "language": "python",
   "name": "python3"
  },
  "language_info": {
   "codemirror_mode": {
    "name": "ipython",
    "version": 3
   },
   "file_extension": ".py",
   "mimetype": "text/x-python",
   "name": "python",
   "nbconvert_exporter": "python",
   "pygments_lexer": "ipython3",
   "version": "3.12.5"
  }
 },
 "nbformat": 4,
 "nbformat_minor": 4
}
