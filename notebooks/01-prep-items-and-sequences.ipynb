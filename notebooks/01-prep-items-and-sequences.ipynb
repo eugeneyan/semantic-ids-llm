{
 "cells": [
  {
   "cell_type": "markdown",
   "id": "a73a5228",
   "metadata": {},
   "source": [
    "# Data Preparation for Semantic ID Generation"
   ]
  },
  {
   "cell_type": "code",
   "execution_count": 1,
   "id": "db72ca4b",
   "metadata": {
    "execution": {
     "iopub.execute_input": "2025-07-14T01:08:21.646953Z",
     "iopub.status.busy": "2025-07-14T01:08:21.646830Z",
     "iopub.status.idle": "2025-07-14T01:08:21.650028Z",
     "shell.execute_reply": "2025-07-14T01:08:21.649728Z"
    }
   },
   "outputs": [],
   "source": [
    "# CATEGORY = \"Baby_Products\"\n",
    "CATEGORY = \"Video_Games\"\n",
    "\n",
    "# Define sequence lengths\n",
    "MIN_SEQUENCE_LENGTH = 3\n",
    "MAX_SEQUENCE_LENGTH = 100  # Adjust as needed"
   ]
  },
  {
   "cell_type": "code",
   "execution_count": 2,
   "id": "8632dc1b",
   "metadata": {
    "execution": {
     "iopub.execute_input": "2025-07-14T01:08:21.651365Z",
     "iopub.status.busy": "2025-07-14T01:08:21.651225Z",
     "iopub.status.idle": "2025-07-14T01:08:21.653546Z",
     "shell.execute_reply": "2025-07-14T01:08:21.653262Z"
    }
   },
   "outputs": [],
   "source": [
    "import sys\n",
    "from pathlib import Path\n",
    "\n",
    "NOTEBOOK_DIR = Path.cwd()\n",
    "PROJECT_ROOT = NOTEBOOK_DIR.parent\n",
    "sys.path.append(str(PROJECT_ROOT))\n",
    "\n",
    "# Data directory\n",
    "DATA_DIR = Path(PROJECT_ROOT, \"data\")\n",
    "DATA_DIR.mkdir(exist_ok=True)"
   ]
  },
  {
   "cell_type": "code",
   "execution_count": null,
   "id": "46f25c01",
   "metadata": {
    "execution": {
     "iopub.execute_input": "2025-07-14T01:08:21.654917Z",
     "iopub.status.busy": "2025-07-14T01:08:21.654825Z",
     "iopub.status.idle": "2025-07-14T01:08:21.693076Z",
     "shell.execute_reply": "2025-07-14T01:08:21.692839Z"
    }
   },
   "outputs": [],
   "source": [
    "import gzip\n",
    "import shutil\n",
    "import urllib.request\n",
    "\n",
    "import polars as pl\n",
    "\n",
    "from src.logger import setup_logger\n",
    "\n",
    "logger = setup_logger(\"dataprep\")"
   ]
  },
  {
   "cell_type": "code",
   "execution_count": 4,
   "id": "83942db6",
   "metadata": {
    "execution": {
     "iopub.execute_input": "2025-07-14T01:08:21.694237Z",
     "iopub.status.busy": "2025-07-14T01:08:21.694172Z",
     "iopub.status.idle": "2025-07-14T01:08:21.695746Z",
     "shell.execute_reply": "2025-07-14T01:08:21.695536Z"
    }
   },
   "outputs": [],
   "source": [
    "# URLs for the data files\n",
    "ITEMS_URL = f\"https://mcauleylab.ucsd.edu/public_datasets/data/amazon_2023/raw/meta_categories/meta_{CATEGORY}.jsonl.gz\"  # fmt: off\n",
    "REVIEWS_URL = f\"https://mcauleylab.ucsd.edu/public_datasets/data/amazon_2023/raw/review_categories/{CATEGORY}.jsonl.gz\"  # fmt: off\n",
    "SEQUENCES_URL = f\"https://mcauleylab.ucsd.edu/public_datasets/data/amazon_2023/benchmark/5core/timestamp_w_his/{CATEGORY}.train.csv.gz\"  # fmt: off"
   ]
  },
  {
   "cell_type": "markdown",
   "id": "3360a27f",
   "metadata": {},
   "source": [
    "## Download and Load Data\n",
    "\n",
    "First, we download the gzipped JSONL files from the Amazon dataset and unzip them to the data directory. The data is then loaded using Polars' `read_ndjson` function which can handle newline-delimited JSON files."
   ]
  },
  {
   "cell_type": "code",
   "execution_count": 5,
   "id": "3jldh8lo1uj",
   "metadata": {
    "execution": {
     "iopub.execute_input": "2025-07-14T01:08:21.696737Z",
     "iopub.status.busy": "2025-07-14T01:08:21.696682Z",
     "iopub.status.idle": "2025-07-14T01:08:21.699992Z",
     "shell.execute_reply": "2025-07-14T01:08:21.699811Z"
    }
   },
   "outputs": [
    {
     "name": "stdout",
     "output_type": "stream",
     "text": [
      "18:08:21 - Item data already exists at /Users/eugeneyan/projects/semantic-id/data/meta_Video_Games.jsonl\n"
     ]
    },
    {
     "name": "stdout",
     "output_type": "stream",
     "text": [
      "18:08:21 - Review data already exists at /Users/eugeneyan/projects/semantic-id/data/review_Video_Games.jsonl\n"
     ]
    },
    {
     "name": "stdout",
     "output_type": "stream",
     "text": [
      "18:08:21 - Sequences data already exists at /Users/eugeneyan/projects/semantic-id/data/Video_Games.train.csv.gz\n"
     ]
    }
   ],
   "source": [
    "# Download and unzip the data files\n",
    "def download_and_unzip(url, output_path):\n",
    "    \"\"\"Download a gzipped file and unzip it.\"\"\"\n",
    "    # Download the gzipped file\n",
    "    gz_path = output_path.with_suffix(\".jsonl.gz\")\n",
    "\n",
    "    logger.info(f\"Downloading {url}...\")\n",
    "    urllib.request.urlretrieve(url, gz_path)\n",
    "    logger.info(f\"Downloaded to {gz_path}\")\n",
    "\n",
    "    # Unzip the file\n",
    "    logger.info(f\"Unzipping {gz_path}...\")\n",
    "    with gzip.open(gz_path, \"rb\") as f_in:\n",
    "        with open(output_path, \"wb\") as f_out:\n",
    "            shutil.copyfileobj(f_in, f_out)\n",
    "    logger.info(f\"Unzipped to {output_path}\")\n",
    "\n",
    "    # Remove the gzipped file\n",
    "    gz_path.unlink()\n",
    "    logger.info(f\"Removed {gz_path}\\n\")\n",
    "\n",
    "\n",
    "# Download item metadata\n",
    "item_output_path = DATA_DIR / f\"meta_{CATEGORY}.jsonl\"\n",
    "if not item_output_path.exists():\n",
    "    download_and_unzip(ITEMS_URL, item_output_path)\n",
    "else:\n",
    "    logger.info(f\"Item data already exists at {item_output_path}\")\n",
    "\n",
    "# Download review data\n",
    "review_output_path = DATA_DIR / f\"review_{CATEGORY}.jsonl\"\n",
    "if not review_output_path.exists():\n",
    "    download_and_unzip(REVIEWS_URL, review_output_path)\n",
    "else:\n",
    "    logger.info(f\"Review data already exists at {review_output_path}\")\n",
    "\n",
    "# Download sequences data\n",
    "sequences_output_path = DATA_DIR / f\"{CATEGORY}.train.csv.gz\"\n",
    "if not sequences_output_path.exists():\n",
    "    download_and_unzip(SEQUENCES_URL, sequences_output_path)\n",
    "else:\n",
    "    logger.info(f\"Sequences data already exists at {sequences_output_path}\")"
   ]
  },
  {
   "cell_type": "markdown",
   "id": "55c82802",
   "metadata": {},
   "source": [
    "## Prepare item metadata"
   ]
  },
  {
   "cell_type": "code",
   "execution_count": 6,
   "id": "7efe0325",
   "metadata": {
    "execution": {
     "iopub.execute_input": "2025-07-14T01:08:21.700919Z",
     "iopub.status.busy": "2025-07-14T01:08:21.700861Z",
     "iopub.status.idle": "2025-07-14T01:08:23.311617Z",
     "shell.execute_reply": "2025-07-14T01:08:23.311338Z"
    }
   },
   "outputs": [
    {
     "name": "stdout",
     "output_type": "stream",
     "text": [
      "18:08:23 - Total items in metadata: 137,269\n"
     ]
    },
    {
     "name": "stdout",
     "output_type": "stream",
     "text": [
      "18:08:23 - Item metadata columns: ['main_category', 'title', 'average_rating', 'rating_number', 'features', 'description', 'price', 'images', 'videos', 'store', 'categories', 'details', 'parent_asin', 'bought_together']\n"
     ]
    },
    {
     "name": "stdout",
     "output_type": "stream",
     "text": [
      "18:08:23 - Total items in metadata: 137,269\n"
     ]
    }
   ],
   "source": [
    "# Load item metadata and filter for items with both title and description\n",
    "item_df = pl.read_ndjson(DATA_DIR / f\"meta_{CATEGORY}.jsonl\", ignore_errors=True)\n",
    "logger.info(f\"Total items in metadata: {len(item_df):,}\")\n",
    "\n",
    "# Check what columns are available\n",
    "logger.info(f\"Item metadata columns: {item_df.columns}\")\n",
    "logger.info(f\"Total items in metadata: {len(item_df):,}\")\n",
    "\n",
    "item_df = item_df.with_columns(\n",
    "    pl.col(\"description\").list.join(\" \").fill_null(\"\").alias(\"description_text\"),\n",
    "    pl.col(\"features\").list.join(\" \").fill_null(\"\").alias(\"features_text\"),\n",
    "    pl.col(\"categories\").list.join(\" > \").fill_null(\"\").alias(\"categories_text\"),\n",
    ")"
   ]
  },
  {
   "cell_type": "code",
   "execution_count": 7,
   "id": "bc26efd0",
   "metadata": {
    "execution": {
     "iopub.execute_input": "2025-07-14T01:08:23.313051Z",
     "iopub.status.busy": "2025-07-14T01:08:23.312982Z",
     "iopub.status.idle": "2025-07-14T01:08:23.315630Z",
     "shell.execute_reply": "2025-07-14T01:08:23.315412Z"
    }
   },
   "outputs": [
    {
     "data": {
      "text/plain": [
       "'The Dash 8-300 Professional Add-On lets you pilot a real commuter special. Fly two versions of the popular Dash 8-300 in a total of 17 different liveries. The Dash 8-300 is one of the most popular short-haul aircraft available and this superbly modelled version from acclaimed aircraft developers PSS is modelled in two versions with a total of 17 different liveries. The package also includes scenery for three European airports, tutorials, tutorial flights and utilities together in one fantastic package.'"
      ]
     },
     "execution_count": 7,
     "metadata": {},
     "output_type": "execute_result"
    }
   ],
   "source": [
    "item_df.head(1).select(\"description_text\").item()"
   ]
  },
  {
   "cell_type": "code",
   "execution_count": 8,
   "id": "5a323f7d",
   "metadata": {
    "execution": {
     "iopub.execute_input": "2025-07-14T01:08:23.316790Z",
     "iopub.status.busy": "2025-07-14T01:08:23.316720Z",
     "iopub.status.idle": "2025-07-14T01:08:23.318692Z",
     "shell.execute_reply": "2025-07-14T01:08:23.318517Z"
    }
   },
   "outputs": [
    {
     "data": {
      "text/plain": [
       "\"Features Dash 8-300 and 8-Q300 ('Q' rollout livery) Airlines - US Airways, South African Express, Bahamasair, Augsburg Airways, Lufthansa Cityline, British Airways (Union Jack), British European, FlyBe, Intersky, Wideroe, Iberia, Tyrolean, QantasLink, BWIA Airports include - London City, Frankfurt, Milan and Amsterdam Schipol Includes PSS PanelConfig and LoadEdit tools\""
      ]
     },
     "execution_count": 8,
     "metadata": {},
     "output_type": "execute_result"
    }
   ],
   "source": [
    "item_df.head(1).select(\"features_text\").item()"
   ]
  },
  {
   "cell_type": "code",
   "execution_count": 9,
   "id": "43113a62",
   "metadata": {
    "execution": {
     "iopub.execute_input": "2025-07-14T01:08:23.319604Z",
     "iopub.status.busy": "2025-07-14T01:08:23.319554Z",
     "iopub.status.idle": "2025-07-14T01:08:23.321299Z",
     "shell.execute_reply": "2025-07-14T01:08:23.321110Z"
    }
   },
   "outputs": [
    {
     "data": {
      "text/plain": [
       "'Video Games > PC > Games'"
      ]
     },
     "execution_count": 9,
     "metadata": {},
     "output_type": "execute_result"
    }
   ],
   "source": [
    "item_df.head(1).select(\"categories_text\").item()"
   ]
  },
  {
   "cell_type": "code",
   "execution_count": null,
   "id": "bdcff688",
   "metadata": {
    "execution": {
     "iopub.execute_input": "2025-07-14T01:08:23.322141Z",
     "iopub.status.busy": "2025-07-14T01:08:23.322081Z",
     "iopub.status.idle": "2025-07-14T01:08:23.386981Z",
     "shell.execute_reply": "2025-07-14T01:08:23.386769Z"
    }
   },
   "outputs": [
    {
     "name": "stdout",
     "output_type": "stream",
     "text": [
      "18:08:23 - Initial number of items in metadata: 137,269\n"
     ]
    },
    {
     "name": "stdout",
     "output_type": "stream",
     "text": [
      "18:08:23 - Items with valid metadata (title + description): 66,133\n"
     ]
    },
    {
     "name": "stdout",
     "output_type": "stream",
     "text": [
      "18:08:23 - Items without valid metadata: 71,136 (51.8%)\n"
     ]
    }
   ],
   "source": [
    "# Filter items that have both title and description (non-null and non-empty)\n",
    "# Note: description is a list of strings, so we check if the list has elements\n",
    "original_num_items = len(item_df)\n",
    "logger.info(f\"Initial number of items in metadata: {original_num_items:,}\")\n",
    "\n",
    "item_df = item_df.filter(\n",
    "    (pl.col(\"title\").is_not_null())\n",
    "    & (pl.col(\"title\").str.len_chars() > 20)\n",
    "    & (pl.col(\"description_text\").is_not_null())\n",
    "    & (pl.col(\"description_text\").str.len_chars() > 100)\n",
    ")\n",
    "\n",
    "# Create set of valid item IDs\n",
    "valid_items = set(item_df[\"parent_asin\"].to_list())\n",
    "logger.info(f\"Items with valid metadata (title + description): {len(valid_items):,}\")\n",
    "logger.info(\n",
    "    f\"Items without valid metadata: {original_num_items - len(valid_items):,} ({(original_num_items - len(valid_items)) / original_num_items * 100:.1f}%)\"\n",
    ")"
   ]
  },
  {
   "cell_type": "code",
   "execution_count": 11,
   "id": "eeef5679",
   "metadata": {
    "execution": {
     "iopub.execute_input": "2025-07-14T01:08:23.388031Z",
     "iopub.status.busy": "2025-07-14T01:08:23.387970Z",
     "iopub.status.idle": "2025-07-14T01:08:23.400203Z",
     "shell.execute_reply": "2025-07-14T01:08:23.399981Z"
    }
   },
   "outputs": [
    {
     "data": {
      "text/html": [
       "<div><style>\n",
       ".dataframe > thead > tr,\n",
       ".dataframe > tbody > tr {\n",
       "  text-align: right;\n",
       "  white-space: pre-wrap;\n",
       "}\n",
       "</style>\n",
       "<small>shape: (10, 1)</small><table border=\"1\" class=\"dataframe\"><thead><tr><th>description_text</th></tr><tr><td>str</td></tr></thead><tbody><tr><td>&quot;The Dash 8-300 Professional Add-On lets you pilot a real commuter special. Fly two versions of the popular Dash 8-300 in a total of 17 different liveries. The Dash 8-300 is one of the most popular short-haul aircraft available and this superbly modelled version from acclaimed aircraft developers PSS is modelled in two versions with a total of 17 different liveries. The package also includes scenery for three European airports, tutorials, tutorial flights and utilities together in one fantastic p…</td></tr><tr><td>&quot;Following the record-breaking launch of NBA 2K16, the NBA 2K franchise continues to stake its claim as the most authentic sports video game with NBA 2K17. As the franchise that “all sports video games should aspire to be” (GamesRadar), NBA 2K17 will take the game to new heights and continue to blur the lines between video game and reality.&quot;</td></tr><tr><td>&quot;The Thrustmaster Motion Plus Elite Fitness Pack for Wii is Ideal for Nintendo Wii Fit &amp; Wii Fit Plus games such as EA Active (EA), U Shape &amp; My Fitness Coach (UbiSoft). Ultimate pack with 9 accessories for the Nintendo Wii Fit Balance Board including: (1) floor mat made from woven foam Size (inches) : 70x20, (2) flexible ankle or wrist weights, (1) stepper for the Wii Balance Board, (1) pedometer to count your steps during each in-game exercise or train without games, (1) armband for Wiimote or …</td></tr><tr><td>&quot;Now you can watch the wild underwater antics of SpongeBob SquarePants on your Game Boy Advance, with this collection of 4 great episodes. In &quot;Hall Monitor,&quot; an overzealous SpongeBob becomes the new Hall Monitor at Mrs. Puff&#x27;s Boating School, and extends his jurisdiction to the unsuspecting citizens of Bikini Bottom. In &quot;Jellyfish Jam,&quot; SpongeBob takes a wild jellyfish home and discovers that they multiply quickly when they take over his house! In &quot;Jellyfishing,&quot; SpongeBob and Patrick unwittingly…</td></tr><tr><td>&quot;A set of 4 bullet button to replace all the 4 buttons (Cross, Square, Triangle, Circle) of your PS3 controller. Made from 9mm luger bullet casings, to perfectly fit the PS3. The bullet buttons are already mounted on a special plastic holder that fit directly and perfectly your PS3 controller. Each cartridge shell have a small layer of clear coat that keep the bullet button ultra shiny even after many years. The clear coat also prevent the metallic odor that can be created during extended use . C…</td></tr><tr><td>&quot;The Konami Collector&#x27;s Series: Castlevania &amp; Contra brings back the classic games that first appeared on the NES for a new generation of computer gamers!&quot;</td></tr><tr><td>&quot;A power struggle begins in a Civilization dependent on an ancient technology, the blastia, and the empire that controls it. The Fates of two friends traveling separate paths intertwine in an epic adventure that threatens the existence of all. Celebrating its 10th anniversary, tales of vesperia is One of the most beloved entries in the &#x27;tales of&#x27; series and returns with beautifully remastered full HD graphics, never before seen characters, expanded story, and much more!. Entertainment Software Ra…</td></tr><tr><td>&quot;Product Description Turbo: Super Stunt Squad is a high-velocity action racing game featuring the super-charged crew from the film Turbo. Each character has their own signature style and tricked-out skills such as jumps, drifts, grinds, flips and other super-cool stunt moves. Expert skills will also prove useful to earn power-ups, customize your character, discover shortcuts, and win the race in the larger-than-life environments of Turbo! From the Manufacturer Turbo: Super Stunt Squad Turbo: Supe…</td></tr><tr><td>&quot;Product Description Arctis Pro + GameDAC delivers gaming&#x27;s first certified Hi-Res Audio system, ensuring you hear high-fidelity 96 kHz/ 24 bit, full resolution audio at its purest, with no down-sampling. The gaming audio system includes the legendary ESS Sabre DAC and amp, guaranteeing your audio comes through with unsurpassed quality. Plus, Arctis Pro + GameDAC is designed with luxury materials like polished steel and aluminum alloy, and the exclusive Arctis ski goggle headband and AirWeave per…</td></tr><tr><td>&quot;From the Manufacturer This Game of The Year Edition features four new maps unique to this edition, four maps previously only available online and new online features, including Observer Mode, Friends list and Arranged Teams. Ten thousand years have passed since the treasonous acts of Chaos toppled the Golden Age of mankind. Fires burn brightly throughout the galaxies, illuminating carnage and slaughter as mankind defends itself from ancient enemies. Hardened forces collide with one goal in mind,…</td></tr></tbody></table></div>"
      ],
      "text/plain": [
       "shape: (10, 1)\n",
       "┌──────────────────────────────────────────────────────────────────────────────────────────────────┐\n",
       "│ description_text                                                                                 │\n",
       "│ ---                                                                                              │\n",
       "│ str                                                                                              │\n",
       "╞══════════════════════════════════════════════════════════════════════════════════════════════════╡\n",
       "│ The Dash 8-300 Professional Add-On lets you pilot a real commuter special. Fly two versions of   │\n",
       "│ the popular Dash 8-300 in a total of 17 different liveries. The Dash 8-300 is one of the most    │\n",
       "│ popular short-haul aircraft available and this superbly modelled version from acclaimed aircraft │\n",
       "│ developers PSS is modelled in two versions with a total of 17 different liveries. The package    │\n",
       "│ also includes scenery for three European airports, tutorials, tutorial flights and utilities     │\n",
       "│ together in one fantastic p…                                                                     │\n",
       "│ Following the record-breaking launch of NBA 2K16, the NBA 2K franchise continues to stake its    │\n",
       "│ claim as the most authentic sports video game with NBA 2K17. As the franchise that “all sports   │\n",
       "│ video games should aspire to be” (GamesRadar), NBA 2K17 will take the game to new heights and    │\n",
       "│ continue to blur the lines between video game and reality.                                       │\n",
       "│ The Thrustmaster Motion Plus Elite Fitness Pack for Wii is Ideal for Nintendo Wii Fit & Wii Fit  │\n",
       "│ Plus games such as EA Active (EA), U Shape & My Fitness Coach (UbiSoft). Ultimate pack with 9    │\n",
       "│ accessories for the Nintendo Wii Fit Balance Board including: (1) floor mat made from woven foam │\n",
       "│ Size (inches) : 70x20, (2) flexible ankle or wrist weights, (1) stepper for the Wii Balance      │\n",
       "│ Board, (1) pedometer to count your steps during each in-game exercise or train without games,    │\n",
       "│ (1) armband for Wiimote or …                                                                     │\n",
       "│ Now you can watch the wild underwater antics of SpongeBob SquarePants on your Game Boy Advance,  │\n",
       "│ with this collection of 4 great episodes. In \"Hall Monitor,\" an overzealous SpongeBob becomes    │\n",
       "│ the new Hall Monitor at Mrs. Puff's Boating School, and extends his jurisdiction to the          │\n",
       "│ unsuspecting citizens of Bikini Bottom. In \"Jellyfish Jam,\" SpongeBob takes a wild jellyfish     │\n",
       "│ home and discovers that they multiply quickly when they take over his house! In \"Jellyfishing,\"  │\n",
       "│ SpongeBob and Patrick unwittingly…                                                               │\n",
       "│ A set of 4 bullet button to replace all the 4 buttons (Cross, Square, Triangle, Circle) of your  │\n",
       "│ PS3 controller. Made from 9mm luger bullet casings, to perfectly fit the PS3. The bullet buttons │\n",
       "│ are already mounted on a special plastic holder that fit directly and perfectly your PS3         │\n",
       "│ controller. Each cartridge shell have a small layer of clear coat that keep the bullet button    │\n",
       "│ ultra shiny even after many years. The clear coat also prevent the metallic odor that can be     │\n",
       "│ created during extended use . C…                                                                 │\n",
       "│ The Konami Collector's Series: Castlevania & Contra brings back the classic games that first     │\n",
       "│ appeared on the NES for a new generation of computer gamers!                                     │\n",
       "│ A power struggle begins in a Civilization dependent on an ancient technology, the blastia, and   │\n",
       "│ the empire that controls it. The Fates of two friends traveling separate paths intertwine in an  │\n",
       "│ epic adventure that threatens the existence of all. Celebrating its 10th anniversary, tales of   │\n",
       "│ vesperia is One of the most beloved entries in the 'tales of' series and returns with            │\n",
       "│ beautifully remastered full HD graphics, never before seen characters, expanded story, and much  │\n",
       "│ more!. Entertainment Software Ra…                                                                │\n",
       "│ Product Description Turbo: Super Stunt Squad is a high-velocity action racing game featuring the │\n",
       "│ super-charged crew from the film Turbo. Each character has their own signature style and         │\n",
       "│ tricked-out skills such as jumps, drifts, grinds, flips and other super-cool stunt moves. Expert │\n",
       "│ skills will also prove useful to earn power-ups, customize your character, discover shortcuts,   │\n",
       "│ and win the race in the larger-than-life environments of Turbo! From the Manufacturer Turbo:     │\n",
       "│ Super Stunt Squad Turbo: Supe…                                                                   │\n",
       "│ Product Description Arctis Pro + GameDAC delivers gaming's first certified Hi-Res Audio system,  │\n",
       "│ ensuring you hear high-fidelity 96 kHz/ 24 bit, full resolution audio at its purest, with no     │\n",
       "│ down-sampling. The gaming audio system includes the legendary ESS Sabre DAC and amp,             │\n",
       "│ guaranteeing your audio comes through with unsurpassed quality. Plus, Arctis Pro + GameDAC is    │\n",
       "│ designed with luxury materials like polished steel and aluminum alloy, and the exclusive Arctis  │\n",
       "│ ski goggle headband and AirWeave per…                                                            │\n",
       "│ From the Manufacturer This Game of The Year Edition features four new maps unique to this        │\n",
       "│ edition, four maps previously only available online and new online features, including Observer  │\n",
       "│ Mode, Friends list and Arranged Teams. Ten thousand years have passed since the treasonous acts  │\n",
       "│ of Chaos toppled the Golden Age of mankind. Fires burn brightly throughout the galaxies,         │\n",
       "│ illuminating carnage and slaughter as mankind defends itself from ancient enemies. Hardened      │\n",
       "│ forces collide with one goal in mind,…                                                           │\n",
       "└──────────────────────────────────────────────────────────────────────────────────────────────────┘"
      ]
     },
     "execution_count": 11,
     "metadata": {},
     "output_type": "execute_result"
    }
   ],
   "source": [
    "pl.Config.set_fmt_str_lengths(500)\n",
    "item_df.select(\"description_text\").head(10)"
   ]
  },
  {
   "cell_type": "code",
   "execution_count": 12,
   "id": "520f1aee",
   "metadata": {
    "execution": {
     "iopub.execute_input": "2025-07-14T01:08:23.401230Z",
     "iopub.status.busy": "2025-07-14T01:08:23.401169Z",
     "iopub.status.idle": "2025-07-14T01:08:23.438738Z",
     "shell.execute_reply": "2025-07-14T01:08:23.438522Z"
    }
   },
   "outputs": [
    {
     "data": {
      "text/html": [
       "<div><style>\n",
       ".dataframe > thead > tr,\n",
       ".dataframe > tbody > tr {\n",
       "  text-align: right;\n",
       "  white-space: pre-wrap;\n",
       "}\n",
       "</style>\n",
       "<small>shape: (5, 10)</small><table border=\"1\" class=\"dataframe\"><thead><tr><th>parent_asin</th><th>title</th><th>description_text</th><th>features_text</th><th>main_category</th><th>categories_text</th><th>store</th><th>average_rating</th><th>rating_number</th><th>price</th></tr><tr><td>str</td><td>str</td><td>str</td><td>str</td><td>str</td><td>str</td><td>str</td><td>f64</td><td>i64</td><td>f64</td></tr></thead><tbody><tr><td>&quot;B000FH0MHO&quot;</td><td>&quot;Dash 8-300 Professional Add-On&quot;</td><td>&quot;The Dash 8-300 Professional Add-On lets you pilot a real commuter special. Fly two versions of the p…</td><td>&quot;Features Dash 8-300 and 8-Q300 (&#x27;Q&#x27; rollout livery) Airlines - US Airways, South African Express, Ba…</td><td>&quot;Video Games&quot;</td><td>&quot;Video Games &gt; PC &gt; Games&quot;</td><td>&quot;Aerosoft&quot;</td><td>5.0</td><td>1</td><td>null</td></tr><tr><td>&quot;B00Z9TLVK0&quot;</td><td>&quot;NBA 2K17 - Early Tip Off Edition - PlayStation 4&quot;</td><td>&quot;Following the record-breaking launch of NBA 2K16, the NBA 2K franchise continues to stake its claim …</td><td>&quot;The #1 rated NBA video game simulation series for the last 15 years (Metacritic). The #1 selling NBA…</td><td>&quot;Video Games&quot;</td><td>&quot;Video Games &gt; PlayStation 4 &gt; Games&quot;</td><td>&quot;2K&quot;</td><td>4.3</td><td>223</td><td>58.0</td></tr><tr><td>&quot;B002WH4ZJG&quot;</td><td>&quot;Thrustmaster Elite Fitness Pack for Nintendo Wii&quot;</td><td>&quot;The Thrustmaster Motion Plus Elite Fitness Pack for Wii is Ideal for Nintendo Wii Fit &amp; Wii Fit Plus…</td><td>&quot;Includes (9) Total Accessories Pedometer Wii Fit Balance Board Stepper Floor Mat made from high dens…</td><td>&quot;Video Games&quot;</td><td>&quot;Video Games &gt; Legacy Systems &gt; Nintendo Systems &gt; Wii &gt; Accessories &gt; Fitness Accessories&quot;</td><td>&quot;THRUSTMASTER&quot;</td><td>3.0</td><td>3</td><td>null</td></tr><tr><td>&quot;B0001ZNU56&quot;</td><td>&quot;Spongebob Squarepants, Vol. 1&quot;</td><td>&quot;Now you can watch the wild underwater antics of SpongeBob SquarePants on your Game Boy Advance, with…</td><td>&quot;Bubblestand: SpongeBob shows Patrick and Squidward his unique talent for blowing bubbles. Squidward …</td><td>&quot;Video Games&quot;</td><td>&quot;Video Games &gt; Legacy Systems &gt; Nintendo Systems &gt; Game Boy Systems &gt; Game Boy Advance &gt; Games&quot;</td><td>&quot;Majesco&quot;</td><td>4.4</td><td>32</td><td>33.98</td></tr><tr><td>&quot;B009C9E8JY&quot;</td><td>&quot;Set of 4 Bullet Buttons Nickel+Brass for Playstation PS3 PS2 controllers&quot;</td><td>&quot;A set of 4 bullet button to replace all the 4 buttons (Cross, Square, Triangle, Circle) of your PS3 …</td><td>&quot;Case Color: Silver Case Material: Nickel Primer Color: Bronze Primer Material: Brass Brand of ammo s…</td><td>&quot;Computers&quot;</td><td>&quot;Video Games &gt; PlayStation 4 &gt; Accessories &gt; Controllers&quot;</td><td>&quot;NEXiLUX&quot;</td><td>4.8</td><td>4</td><td>null</td></tr></tbody></table></div>"
      ],
      "text/plain": [
       "shape: (5, 10)\n",
       "┌────────────┬────────────┬────────────┬───────────┬───┬───────────┬───────────┬───────────┬───────┐\n",
       "│ parent_asi ┆ title      ┆ descriptio ┆ features_ ┆ … ┆ store     ┆ average_r ┆ rating_nu ┆ price │\n",
       "│ n          ┆ ---        ┆ n_text     ┆ text      ┆   ┆ ---       ┆ ating     ┆ mber      ┆ ---   │\n",
       "│ ---        ┆ str        ┆ ---        ┆ ---       ┆   ┆ str       ┆ ---       ┆ ---       ┆ f64   │\n",
       "│ str        ┆            ┆ str        ┆ str       ┆   ┆           ┆ f64       ┆ i64       ┆       │\n",
       "╞════════════╪════════════╪════════════╪═══════════╪═══╪═══════════╪═══════════╪═══════════╪═══════╡\n",
       "│ B000FH0MHO ┆ Dash 8-300 ┆ The Dash   ┆ Features  ┆ … ┆ Aerosoft  ┆ 5.0       ┆ 1         ┆ null  │\n",
       "│            ┆ Profession ┆ 8-300 Prof ┆ Dash      ┆   ┆           ┆           ┆           ┆       │\n",
       "│            ┆ al Add-On  ┆ essional   ┆ 8-300 and ┆   ┆           ┆           ┆           ┆       │\n",
       "│            ┆            ┆ Add-On     ┆ 8-Q300    ┆   ┆           ┆           ┆           ┆       │\n",
       "│            ┆            ┆ lets you   ┆ ('Q'      ┆   ┆           ┆           ┆           ┆       │\n",
       "│            ┆            ┆ pilot a    ┆ rollout   ┆   ┆           ┆           ┆           ┆       │\n",
       "│            ┆            ┆ real       ┆ livery)   ┆   ┆           ┆           ┆           ┆       │\n",
       "│            ┆            ┆ commuter   ┆ Airlines  ┆   ┆           ┆           ┆           ┆       │\n",
       "│            ┆            ┆ special.   ┆ - US      ┆   ┆           ┆           ┆           ┆       │\n",
       "│            ┆            ┆ Fly two    ┆ Airways,  ┆   ┆           ┆           ┆           ┆       │\n",
       "│            ┆            ┆ versions   ┆ South     ┆   ┆           ┆           ┆           ┆       │\n",
       "│            ┆            ┆ of the p…  ┆ African   ┆   ┆           ┆           ┆           ┆       │\n",
       "│            ┆            ┆            ┆ Express,  ┆   ┆           ┆           ┆           ┆       │\n",
       "│            ┆            ┆            ┆ Ba…       ┆   ┆           ┆           ┆           ┆       │\n",
       "│ B00Z9TLVK0 ┆ NBA 2K17 - ┆ Following  ┆ The #1    ┆ … ┆ 2K        ┆ 4.3       ┆ 223       ┆ 58.0  │\n",
       "│            ┆ Early Tip  ┆ the record ┆ rated NBA ┆   ┆           ┆           ┆           ┆       │\n",
       "│            ┆ Off        ┆ -breaking  ┆ video     ┆   ┆           ┆           ┆           ┆       │\n",
       "│            ┆ Edition -  ┆ launch of  ┆ game simu ┆   ┆           ┆           ┆           ┆       │\n",
       "│            ┆ PlayStatio ┆ NBA 2K16,  ┆ lation    ┆   ┆           ┆           ┆           ┆       │\n",
       "│            ┆ n 4        ┆ the NBA 2K ┆ series    ┆   ┆           ┆           ┆           ┆       │\n",
       "│            ┆            ┆ franchise  ┆ for the   ┆   ┆           ┆           ┆           ┆       │\n",
       "│            ┆            ┆ continues  ┆ last 15   ┆   ┆           ┆           ┆           ┆       │\n",
       "│            ┆            ┆ to stake   ┆ years (Me ┆   ┆           ┆           ┆           ┆       │\n",
       "│            ┆            ┆ its claim  ┆ tacritic) ┆   ┆           ┆           ┆           ┆       │\n",
       "│            ┆            ┆ …          ┆ . The #1  ┆   ┆           ┆           ┆           ┆       │\n",
       "│            ┆            ┆            ┆ selling   ┆   ┆           ┆           ┆           ┆       │\n",
       "│            ┆            ┆            ┆ NBA…      ┆   ┆           ┆           ┆           ┆       │\n",
       "│ B002WH4ZJG ┆ Thrustmast ┆ The Thrust ┆ Includes  ┆ … ┆ THRUSTMAS ┆ 3.0       ┆ 3         ┆ null  │\n",
       "│            ┆ er Elite   ┆ master     ┆ (9) Total ┆   ┆ TER       ┆           ┆           ┆       │\n",
       "│            ┆ Fitness    ┆ Motion     ┆ Accessori ┆   ┆           ┆           ┆           ┆       │\n",
       "│            ┆ Pack for   ┆ Plus Elite ┆ es        ┆   ┆           ┆           ┆           ┆       │\n",
       "│            ┆ Nintendo   ┆ Fitness    ┆ Pedometer ┆   ┆           ┆           ┆           ┆       │\n",
       "│            ┆ Wii        ┆ Pack for   ┆ Wii Fit   ┆   ┆           ┆           ┆           ┆       │\n",
       "│            ┆            ┆ Wii is     ┆ Balance   ┆   ┆           ┆           ┆           ┆       │\n",
       "│            ┆            ┆ Ideal for  ┆ Board     ┆   ┆           ┆           ┆           ┆       │\n",
       "│            ┆            ┆ Nintendo   ┆ Stepper   ┆   ┆           ┆           ┆           ┆       │\n",
       "│            ┆            ┆ Wii Fit &  ┆ Floor Mat ┆   ┆           ┆           ┆           ┆       │\n",
       "│            ┆            ┆ Wii Fit    ┆ made from ┆   ┆           ┆           ┆           ┆       │\n",
       "│            ┆            ┆ Plus…      ┆ high      ┆   ┆           ┆           ┆           ┆       │\n",
       "│            ┆            ┆            ┆ dens…     ┆   ┆           ┆           ┆           ┆       │\n",
       "│ B0001ZNU56 ┆ Spongebob  ┆ Now you    ┆ Bubblesta ┆ … ┆ Majesco   ┆ 4.4       ┆ 32        ┆ 33.98 │\n",
       "│            ┆ Squarepant ┆ can watch  ┆ nd:       ┆   ┆           ┆           ┆           ┆       │\n",
       "│            ┆ s, Vol. 1  ┆ the wild   ┆ SpongeBob ┆   ┆           ┆           ┆           ┆       │\n",
       "│            ┆            ┆ underwater ┆ shows     ┆   ┆           ┆           ┆           ┆       │\n",
       "│            ┆            ┆ antics of  ┆ Patrick   ┆   ┆           ┆           ┆           ┆       │\n",
       "│            ┆            ┆ SpongeBob  ┆ and       ┆   ┆           ┆           ┆           ┆       │\n",
       "│            ┆            ┆ SquarePant ┆ Squidward ┆   ┆           ┆           ┆           ┆       │\n",
       "│            ┆            ┆ s on your  ┆ his       ┆   ┆           ┆           ┆           ┆       │\n",
       "│            ┆            ┆ Game Boy   ┆ unique    ┆   ┆           ┆           ┆           ┆       │\n",
       "│            ┆            ┆ Advance,   ┆ talent    ┆   ┆           ┆           ┆           ┆       │\n",
       "│            ┆            ┆ with…      ┆ for       ┆   ┆           ┆           ┆           ┆       │\n",
       "│            ┆            ┆            ┆ blowing   ┆   ┆           ┆           ┆           ┆       │\n",
       "│            ┆            ┆            ┆ bubbles.  ┆   ┆           ┆           ┆           ┆       │\n",
       "│            ┆            ┆            ┆ Squidward ┆   ┆           ┆           ┆           ┆       │\n",
       "│            ┆            ┆            ┆ …         ┆   ┆           ┆           ┆           ┆       │\n",
       "│ B009C9E8JY ┆ Set of 4   ┆ A set of 4 ┆ Case      ┆ … ┆ NEXiLUX   ┆ 4.8       ┆ 4         ┆ null  │\n",
       "│            ┆ Bullet     ┆ bullet     ┆ Color:    ┆   ┆           ┆           ┆           ┆       │\n",
       "│            ┆ Buttons    ┆ button to  ┆ Silver    ┆   ┆           ┆           ┆           ┆       │\n",
       "│            ┆ Nickel+Bra ┆ replace    ┆ Case      ┆   ┆           ┆           ┆           ┆       │\n",
       "│            ┆ ss for Pla ┆ all the 4  ┆ Material: ┆   ┆           ┆           ┆           ┆       │\n",
       "│            ┆ ystation   ┆ buttons    ┆ Nickel    ┆   ┆           ┆           ┆           ┆       │\n",
       "│            ┆ PS3 PS2    ┆ (Cross,    ┆ Primer    ┆   ┆           ┆           ┆           ┆       │\n",
       "│            ┆ controller ┆ Square,    ┆ Color:    ┆   ┆           ┆           ┆           ┆       │\n",
       "│            ┆ s          ┆ Triangle,  ┆ Bronze    ┆   ┆           ┆           ┆           ┆       │\n",
       "│            ┆            ┆ Circle) of ┆ Primer    ┆   ┆           ┆           ┆           ┆       │\n",
       "│            ┆            ┆ your PS3 … ┆ Material: ┆   ┆           ┆           ┆           ┆       │\n",
       "│            ┆            ┆            ┆ Brass     ┆   ┆           ┆           ┆           ┆       │\n",
       "│            ┆            ┆            ┆ Brand of  ┆   ┆           ┆           ┆           ┆       │\n",
       "│            ┆            ┆            ┆ ammo s…   ┆   ┆           ┆           ┆           ┆       │\n",
       "└────────────┴────────────┴────────────┴───────────┴───┴───────────┴───────────┴───────────┴───────┘"
      ]
     },
     "execution_count": 12,
     "metadata": {},
     "output_type": "execute_result"
    }
   ],
   "source": [
    "pl.Config.set_fmt_str_lengths(100)\n",
    "item_df = item_df.select(\n",
    "    \"parent_asin\",\n",
    "    \"title\",\n",
    "    \"description_text\",\n",
    "    \"features_text\",\n",
    "    \"main_category\",\n",
    "    \"categories_text\",\n",
    "    \"store\",\n",
    "    \"average_rating\",\n",
    "    \"rating_number\",\n",
    "    \"price\",\n",
    ")\n",
    "\n",
    "item_df.head()"
   ]
  },
  {
   "cell_type": "code",
   "execution_count": 13,
   "id": "2e9e3d7c",
   "metadata": {
    "execution": {
     "iopub.execute_input": "2025-07-14T01:08:23.439690Z",
     "iopub.status.busy": "2025-07-14T01:08:23.439637Z",
     "iopub.status.idle": "2025-07-14T01:08:23.444308Z",
     "shell.execute_reply": "2025-07-14T01:08:23.444120Z"
    }
   },
   "outputs": [
    {
     "data": {
      "text/html": [
       "<div><style>\n",
       ".dataframe > thead > tr,\n",
       ".dataframe > tbody > tr {\n",
       "  text-align: right;\n",
       "  white-space: pre-wrap;\n",
       "}\n",
       "</style>\n",
       "<small>shape: (5, 10)</small><table border=\"1\" class=\"dataframe\"><thead><tr><th>parent_asin</th><th>title</th><th>description_text</th><th>features_text</th><th>main_category</th><th>categories_text</th><th>store</th><th>average_rating</th><th>rating_number</th><th>price</th></tr><tr><td>str</td><td>str</td><td>str</td><td>str</td><td>str</td><td>str</td><td>str</td><td>str</td><td>i64</td><td>str</td></tr></thead><tbody><tr><td>&quot;B000FH0MHO&quot;</td><td>&quot;Dash 8-300 Professional Add-On&quot;</td><td>&quot;The Dash 8-300 Professional Add-On lets you pilot a real commuter special. Fly two versions of the p…</td><td>&quot;Features Dash 8-300 and 8-Q300 (&#x27;Q&#x27; rollout livery) Airlines - US Airways, South African Express, Ba…</td><td>&quot;Video Games&quot;</td><td>&quot;Video Games &gt; PC &gt; Games&quot;</td><td>&quot;Aerosoft&quot;</td><td>&quot;5.0&quot;</td><td>1</td><td>&quot;&quot;</td></tr><tr><td>&quot;B00Z9TLVK0&quot;</td><td>&quot;NBA 2K17 - Early Tip Off Edition - PlayStation 4&quot;</td><td>&quot;Following the record-breaking launch of NBA 2K16, the NBA 2K franchise continues to stake its claim …</td><td>&quot;The #1 rated NBA video game simulation series for the last 15 years (Metacritic). The #1 selling NBA…</td><td>&quot;Video Games&quot;</td><td>&quot;Video Games &gt; PlayStation 4 &gt; Games&quot;</td><td>&quot;2K&quot;</td><td>&quot;4.3&quot;</td><td>223</td><td>&quot;58.0&quot;</td></tr><tr><td>&quot;B002WH4ZJG&quot;</td><td>&quot;Thrustmaster Elite Fitness Pack for Nintendo Wii&quot;</td><td>&quot;The Thrustmaster Motion Plus Elite Fitness Pack for Wii is Ideal for Nintendo Wii Fit &amp; Wii Fit Plus…</td><td>&quot;Includes (9) Total Accessories Pedometer Wii Fit Balance Board Stepper Floor Mat made from high dens…</td><td>&quot;Video Games&quot;</td><td>&quot;Video Games &gt; Legacy Systems &gt; Nintendo Systems &gt; Wii &gt; Accessories &gt; Fitness Accessories&quot;</td><td>&quot;THRUSTMASTER&quot;</td><td>&quot;3.0&quot;</td><td>3</td><td>&quot;&quot;</td></tr><tr><td>&quot;B0001ZNU56&quot;</td><td>&quot;Spongebob Squarepants, Vol. 1&quot;</td><td>&quot;Now you can watch the wild underwater antics of SpongeBob SquarePants on your Game Boy Advance, with…</td><td>&quot;Bubblestand: SpongeBob shows Patrick and Squidward his unique talent for blowing bubbles. Squidward …</td><td>&quot;Video Games&quot;</td><td>&quot;Video Games &gt; Legacy Systems &gt; Nintendo Systems &gt; Game Boy Systems &gt; Game Boy Advance &gt; Games&quot;</td><td>&quot;Majesco&quot;</td><td>&quot;4.4&quot;</td><td>32</td><td>&quot;33.98&quot;</td></tr><tr><td>&quot;B009C9E8JY&quot;</td><td>&quot;Set of 4 Bullet Buttons Nickel+Brass for Playstation PS3 PS2 controllers&quot;</td><td>&quot;A set of 4 bullet button to replace all the 4 buttons (Cross, Square, Triangle, Circle) of your PS3 …</td><td>&quot;Case Color: Silver Case Material: Nickel Primer Color: Bronze Primer Material: Brass Brand of ammo s…</td><td>&quot;Computers&quot;</td><td>&quot;Video Games &gt; PlayStation 4 &gt; Accessories &gt; Controllers&quot;</td><td>&quot;NEXiLUX&quot;</td><td>&quot;4.8&quot;</td><td>4</td><td>&quot;&quot;</td></tr></tbody></table></div>"
      ],
      "text/plain": [
       "shape: (5, 10)\n",
       "┌────────────┬────────────┬────────────┬───────────┬───┬───────────┬───────────┬───────────┬───────┐\n",
       "│ parent_asi ┆ title      ┆ descriptio ┆ features_ ┆ … ┆ store     ┆ average_r ┆ rating_nu ┆ price │\n",
       "│ n          ┆ ---        ┆ n_text     ┆ text      ┆   ┆ ---       ┆ ating     ┆ mber      ┆ ---   │\n",
       "│ ---        ┆ str        ┆ ---        ┆ ---       ┆   ┆ str       ┆ ---       ┆ ---       ┆ str   │\n",
       "│ str        ┆            ┆ str        ┆ str       ┆   ┆           ┆ str       ┆ i64       ┆       │\n",
       "╞════════════╪════════════╪════════════╪═══════════╪═══╪═══════════╪═══════════╪═══════════╪═══════╡\n",
       "│ B000FH0MHO ┆ Dash 8-300 ┆ The Dash   ┆ Features  ┆ … ┆ Aerosoft  ┆ 5.0       ┆ 1         ┆       │\n",
       "│            ┆ Profession ┆ 8-300 Prof ┆ Dash      ┆   ┆           ┆           ┆           ┆       │\n",
       "│            ┆ al Add-On  ┆ essional   ┆ 8-300 and ┆   ┆           ┆           ┆           ┆       │\n",
       "│            ┆            ┆ Add-On     ┆ 8-Q300    ┆   ┆           ┆           ┆           ┆       │\n",
       "│            ┆            ┆ lets you   ┆ ('Q'      ┆   ┆           ┆           ┆           ┆       │\n",
       "│            ┆            ┆ pilot a    ┆ rollout   ┆   ┆           ┆           ┆           ┆       │\n",
       "│            ┆            ┆ real       ┆ livery)   ┆   ┆           ┆           ┆           ┆       │\n",
       "│            ┆            ┆ commuter   ┆ Airlines  ┆   ┆           ┆           ┆           ┆       │\n",
       "│            ┆            ┆ special.   ┆ - US      ┆   ┆           ┆           ┆           ┆       │\n",
       "│            ┆            ┆ Fly two    ┆ Airways,  ┆   ┆           ┆           ┆           ┆       │\n",
       "│            ┆            ┆ versions   ┆ South     ┆   ┆           ┆           ┆           ┆       │\n",
       "│            ┆            ┆ of the p…  ┆ African   ┆   ┆           ┆           ┆           ┆       │\n",
       "│            ┆            ┆            ┆ Express,  ┆   ┆           ┆           ┆           ┆       │\n",
       "│            ┆            ┆            ┆ Ba…       ┆   ┆           ┆           ┆           ┆       │\n",
       "│ B00Z9TLVK0 ┆ NBA 2K17 - ┆ Following  ┆ The #1    ┆ … ┆ 2K        ┆ 4.3       ┆ 223       ┆ 58.0  │\n",
       "│            ┆ Early Tip  ┆ the record ┆ rated NBA ┆   ┆           ┆           ┆           ┆       │\n",
       "│            ┆ Off        ┆ -breaking  ┆ video     ┆   ┆           ┆           ┆           ┆       │\n",
       "│            ┆ Edition -  ┆ launch of  ┆ game simu ┆   ┆           ┆           ┆           ┆       │\n",
       "│            ┆ PlayStatio ┆ NBA 2K16,  ┆ lation    ┆   ┆           ┆           ┆           ┆       │\n",
       "│            ┆ n 4        ┆ the NBA 2K ┆ series    ┆   ┆           ┆           ┆           ┆       │\n",
       "│            ┆            ┆ franchise  ┆ for the   ┆   ┆           ┆           ┆           ┆       │\n",
       "│            ┆            ┆ continues  ┆ last 15   ┆   ┆           ┆           ┆           ┆       │\n",
       "│            ┆            ┆ to stake   ┆ years (Me ┆   ┆           ┆           ┆           ┆       │\n",
       "│            ┆            ┆ its claim  ┆ tacritic) ┆   ┆           ┆           ┆           ┆       │\n",
       "│            ┆            ┆ …          ┆ . The #1  ┆   ┆           ┆           ┆           ┆       │\n",
       "│            ┆            ┆            ┆ selling   ┆   ┆           ┆           ┆           ┆       │\n",
       "│            ┆            ┆            ┆ NBA…      ┆   ┆           ┆           ┆           ┆       │\n",
       "│ B002WH4ZJG ┆ Thrustmast ┆ The Thrust ┆ Includes  ┆ … ┆ THRUSTMAS ┆ 3.0       ┆ 3         ┆       │\n",
       "│            ┆ er Elite   ┆ master     ┆ (9) Total ┆   ┆ TER       ┆           ┆           ┆       │\n",
       "│            ┆ Fitness    ┆ Motion     ┆ Accessori ┆   ┆           ┆           ┆           ┆       │\n",
       "│            ┆ Pack for   ┆ Plus Elite ┆ es        ┆   ┆           ┆           ┆           ┆       │\n",
       "│            ┆ Nintendo   ┆ Fitness    ┆ Pedometer ┆   ┆           ┆           ┆           ┆       │\n",
       "│            ┆ Wii        ┆ Pack for   ┆ Wii Fit   ┆   ┆           ┆           ┆           ┆       │\n",
       "│            ┆            ┆ Wii is     ┆ Balance   ┆   ┆           ┆           ┆           ┆       │\n",
       "│            ┆            ┆ Ideal for  ┆ Board     ┆   ┆           ┆           ┆           ┆       │\n",
       "│            ┆            ┆ Nintendo   ┆ Stepper   ┆   ┆           ┆           ┆           ┆       │\n",
       "│            ┆            ┆ Wii Fit &  ┆ Floor Mat ┆   ┆           ┆           ┆           ┆       │\n",
       "│            ┆            ┆ Wii Fit    ┆ made from ┆   ┆           ┆           ┆           ┆       │\n",
       "│            ┆            ┆ Plus…      ┆ high      ┆   ┆           ┆           ┆           ┆       │\n",
       "│            ┆            ┆            ┆ dens…     ┆   ┆           ┆           ┆           ┆       │\n",
       "│ B0001ZNU56 ┆ Spongebob  ┆ Now you    ┆ Bubblesta ┆ … ┆ Majesco   ┆ 4.4       ┆ 32        ┆ 33.98 │\n",
       "│            ┆ Squarepant ┆ can watch  ┆ nd:       ┆   ┆           ┆           ┆           ┆       │\n",
       "│            ┆ s, Vol. 1  ┆ the wild   ┆ SpongeBob ┆   ┆           ┆           ┆           ┆       │\n",
       "│            ┆            ┆ underwater ┆ shows     ┆   ┆           ┆           ┆           ┆       │\n",
       "│            ┆            ┆ antics of  ┆ Patrick   ┆   ┆           ┆           ┆           ┆       │\n",
       "│            ┆            ┆ SpongeBob  ┆ and       ┆   ┆           ┆           ┆           ┆       │\n",
       "│            ┆            ┆ SquarePant ┆ Squidward ┆   ┆           ┆           ┆           ┆       │\n",
       "│            ┆            ┆ s on your  ┆ his       ┆   ┆           ┆           ┆           ┆       │\n",
       "│            ┆            ┆ Game Boy   ┆ unique    ┆   ┆           ┆           ┆           ┆       │\n",
       "│            ┆            ┆ Advance,   ┆ talent    ┆   ┆           ┆           ┆           ┆       │\n",
       "│            ┆            ┆ with…      ┆ for       ┆   ┆           ┆           ┆           ┆       │\n",
       "│            ┆            ┆            ┆ blowing   ┆   ┆           ┆           ┆           ┆       │\n",
       "│            ┆            ┆            ┆ bubbles.  ┆   ┆           ┆           ┆           ┆       │\n",
       "│            ┆            ┆            ┆ Squidward ┆   ┆           ┆           ┆           ┆       │\n",
       "│            ┆            ┆            ┆ …         ┆   ┆           ┆           ┆           ┆       │\n",
       "│ B009C9E8JY ┆ Set of 4   ┆ A set of 4 ┆ Case      ┆ … ┆ NEXiLUX   ┆ 4.8       ┆ 4         ┆       │\n",
       "│            ┆ Bullet     ┆ bullet     ┆ Color:    ┆   ┆           ┆           ┆           ┆       │\n",
       "│            ┆ Buttons    ┆ button to  ┆ Silver    ┆   ┆           ┆           ┆           ┆       │\n",
       "│            ┆ Nickel+Bra ┆ replace    ┆ Case      ┆   ┆           ┆           ┆           ┆       │\n",
       "│            ┆ ss for Pla ┆ all the 4  ┆ Material: ┆   ┆           ┆           ┆           ┆       │\n",
       "│            ┆ ystation   ┆ buttons    ┆ Nickel    ┆   ┆           ┆           ┆           ┆       │\n",
       "│            ┆ PS3 PS2    ┆ (Cross,    ┆ Primer    ┆   ┆           ┆           ┆           ┆       │\n",
       "│            ┆ controller ┆ Square,    ┆ Color:    ┆   ┆           ┆           ┆           ┆       │\n",
       "│            ┆ s          ┆ Triangle,  ┆ Bronze    ┆   ┆           ┆           ┆           ┆       │\n",
       "│            ┆            ┆ Circle) of ┆ Primer    ┆   ┆           ┆           ┆           ┆       │\n",
       "│            ┆            ┆ your PS3 … ┆ Material: ┆   ┆           ┆           ┆           ┆       │\n",
       "│            ┆            ┆            ┆ Brass     ┆   ┆           ┆           ┆           ┆       │\n",
       "│            ┆            ┆            ┆ Brand of  ┆   ┆           ┆           ┆           ┆       │\n",
       "│            ┆            ┆            ┆ ammo s…   ┆   ┆           ┆           ┆           ┆       │\n",
       "└────────────┴────────────┴────────────┴───────────┴───┴───────────┴───────────┴───────────┴───────┘"
      ]
     },
     "execution_count": 13,
     "metadata": {},
     "output_type": "execute_result"
    }
   ],
   "source": [
    "item_df = item_df.with_columns(\n",
    "    [\n",
    "        pl.col(\"title\").fill_null(\"\"),\n",
    "        pl.col(\"description_text\").fill_null(\"\"),\n",
    "        pl.col(\"features_text\").fill_null(\"\"),\n",
    "        pl.col(\"main_category\").fill_null(\"\"),\n",
    "        pl.col(\"categories_text\").fill_null(\"\"),\n",
    "        pl.col(\"store\").fill_null(\"\"),\n",
    "        pl.col(\"average_rating\").fill_null(\"\"),\n",
    "        pl.col(\"rating_number\").fill_null(0),\n",
    "        pl.col(\"price\").fill_null(\"\"),\n",
    "    ]\n",
    ")\n",
    "\n",
    "item_df.head()"
   ]
  },
  {
   "cell_type": "code",
   "execution_count": 14,
   "id": "2596bbb5",
   "metadata": {
    "execution": {
     "iopub.execute_input": "2025-07-14T01:08:23.445198Z",
     "iopub.status.busy": "2025-07-14T01:08:23.445148Z",
     "iopub.status.idle": "2025-07-14T01:08:23.455462Z",
     "shell.execute_reply": "2025-07-14T01:08:23.455237Z"
    }
   },
   "outputs": [
    {
     "data": {
      "text/html": [
       "<div><style>\n",
       ".dataframe > thead > tr,\n",
       ".dataframe > tbody > tr {\n",
       "  text-align: right;\n",
       "  white-space: pre-wrap;\n",
       "}\n",
       "</style>\n",
       "<small>shape: (5, 11)</small><table border=\"1\" class=\"dataframe\"><thead><tr><th>parent_asin</th><th>title</th><th>description_text</th><th>features_text</th><th>main_category</th><th>categories_text</th><th>store</th><th>average_rating</th><th>rating_number</th><th>price</th><th>item_context</th></tr><tr><td>str</td><td>str</td><td>str</td><td>str</td><td>str</td><td>str</td><td>str</td><td>str</td><td>i64</td><td>str</td><td>str</td></tr></thead><tbody><tr><td>&quot;B000FH0MHO&quot;</td><td>&quot;Dash 8-300 Professional Add-On&quot;</td><td>&quot;The Dash 8-300 Professional Add-On lets you pilot a real commuter special. Fly two versions of the p…</td><td>&quot;Features Dash 8-300 and 8-Q300 (&#x27;Q&#x27; rollout livery) Airlines - US Airways, South African Express, Ba…</td><td>&quot;Video Games&quot;</td><td>&quot;Video Games &gt; PC &gt; Games&quot;</td><td>&quot;Aerosoft&quot;</td><td>&quot;5.0&quot;</td><td>1</td><td>&quot;&quot;</td><td>&quot;Product: Dash 8-300 Professional Add-On\n",
       "\n",
       "Description: The Dash 8-300 Professional Add-On lets you pi…</td></tr><tr><td>&quot;B00Z9TLVK0&quot;</td><td>&quot;NBA 2K17 - Early Tip Off Edition - PlayStation 4&quot;</td><td>&quot;Following the record-breaking launch of NBA 2K16, the NBA 2K franchise continues to stake its claim …</td><td>&quot;The #1 rated NBA video game simulation series for the last 15 years (Metacritic). The #1 selling NBA…</td><td>&quot;Video Games&quot;</td><td>&quot;Video Games &gt; PlayStation 4 &gt; Games&quot;</td><td>&quot;2K&quot;</td><td>&quot;4.3&quot;</td><td>223</td><td>&quot;58.0&quot;</td><td>&quot;Product: NBA 2K17 - Early Tip Off Edition - PlayStation 4\n",
       "\n",
       "Description: Following the record-breakin…</td></tr><tr><td>&quot;B002WH4ZJG&quot;</td><td>&quot;Thrustmaster Elite Fitness Pack for Nintendo Wii&quot;</td><td>&quot;The Thrustmaster Motion Plus Elite Fitness Pack for Wii is Ideal for Nintendo Wii Fit &amp; Wii Fit Plus…</td><td>&quot;Includes (9) Total Accessories Pedometer Wii Fit Balance Board Stepper Floor Mat made from high dens…</td><td>&quot;Video Games&quot;</td><td>&quot;Video Games &gt; Legacy Systems &gt; Nintendo Systems &gt; Wii &gt; Accessories &gt; Fitness Accessories&quot;</td><td>&quot;THRUSTMASTER&quot;</td><td>&quot;3.0&quot;</td><td>3</td><td>&quot;&quot;</td><td>&quot;Product: Thrustmaster Elite Fitness Pack for Nintendo Wii\n",
       "\n",
       "Description: The Thrustmaster Motion Plus…</td></tr><tr><td>&quot;B0001ZNU56&quot;</td><td>&quot;Spongebob Squarepants, Vol. 1&quot;</td><td>&quot;Now you can watch the wild underwater antics of SpongeBob SquarePants on your Game Boy Advance, with…</td><td>&quot;Bubblestand: SpongeBob shows Patrick and Squidward his unique talent for blowing bubbles. Squidward …</td><td>&quot;Video Games&quot;</td><td>&quot;Video Games &gt; Legacy Systems &gt; Nintendo Systems &gt; Game Boy Systems &gt; Game Boy Advance &gt; Games&quot;</td><td>&quot;Majesco&quot;</td><td>&quot;4.4&quot;</td><td>32</td><td>&quot;33.98&quot;</td><td>&quot;Product: Spongebob Squarepants, Vol. 1\n",
       "\n",
       "Description: Now you can watch the wild underwater antics of…</td></tr><tr><td>&quot;B009C9E8JY&quot;</td><td>&quot;Set of 4 Bullet Buttons Nickel+Brass for Playstation PS3 PS2 controllers&quot;</td><td>&quot;A set of 4 bullet button to replace all the 4 buttons (Cross, Square, Triangle, Circle) of your PS3 …</td><td>&quot;Case Color: Silver Case Material: Nickel Primer Color: Bronze Primer Material: Brass Brand of ammo s…</td><td>&quot;Computers&quot;</td><td>&quot;Video Games &gt; PlayStation 4 &gt; Accessories &gt; Controllers&quot;</td><td>&quot;NEXiLUX&quot;</td><td>&quot;4.8&quot;</td><td>4</td><td>&quot;&quot;</td><td>&quot;Product: Set of 4 Bullet Buttons Nickel+Brass for Playstation PS3 PS2 controllers\n",
       "\n",
       "Description: A se…</td></tr></tbody></table></div>"
      ],
      "text/plain": [
       "shape: (5, 11)\n",
       "┌────────────┬────────────┬────────────┬───────────┬───┬───────────┬───────────┬───────┬───────────┐\n",
       "│ parent_asi ┆ title      ┆ descriptio ┆ features_ ┆ … ┆ average_r ┆ rating_nu ┆ price ┆ item_cont │\n",
       "│ n          ┆ ---        ┆ n_text     ┆ text      ┆   ┆ ating     ┆ mber      ┆ ---   ┆ ext       │\n",
       "│ ---        ┆ str        ┆ ---        ┆ ---       ┆   ┆ ---       ┆ ---       ┆ str   ┆ ---       │\n",
       "│ str        ┆            ┆ str        ┆ str       ┆   ┆ str       ┆ i64       ┆       ┆ str       │\n",
       "╞════════════╪════════════╪════════════╪═══════════╪═══╪═══════════╪═══════════╪═══════╪═══════════╡\n",
       "│ B000FH0MHO ┆ Dash 8-300 ┆ The Dash   ┆ Features  ┆ … ┆ 5.0       ┆ 1         ┆       ┆ Product:  │\n",
       "│            ┆ Profession ┆ 8-300 Prof ┆ Dash      ┆   ┆           ┆           ┆       ┆ Dash      │\n",
       "│            ┆ al Add-On  ┆ essional   ┆ 8-300 and ┆   ┆           ┆           ┆       ┆ 8-300 Pro │\n",
       "│            ┆            ┆ Add-On     ┆ 8-Q300    ┆   ┆           ┆           ┆       ┆ fessional │\n",
       "│            ┆            ┆ lets you   ┆ ('Q'      ┆   ┆           ┆           ┆       ┆ Add-On    │\n",
       "│            ┆            ┆ pilot a    ┆ rollout   ┆   ┆           ┆           ┆       ┆           │\n",
       "│            ┆            ┆ real       ┆ livery)   ┆   ┆           ┆           ┆       ┆ Descripti │\n",
       "│            ┆            ┆ commuter   ┆ Airlines  ┆   ┆           ┆           ┆       ┆ on: The   │\n",
       "│            ┆            ┆ special.   ┆ - US      ┆   ┆           ┆           ┆       ┆ Dash      │\n",
       "│            ┆            ┆ Fly two    ┆ Airways,  ┆   ┆           ┆           ┆       ┆ 8-300 Pro │\n",
       "│            ┆            ┆ versions   ┆ South     ┆   ┆           ┆           ┆       ┆ fessional │\n",
       "│            ┆            ┆ of the p…  ┆ African   ┆   ┆           ┆           ┆       ┆ Add-On    │\n",
       "│            ┆            ┆            ┆ Express,  ┆   ┆           ┆           ┆       ┆ lets you  │\n",
       "│            ┆            ┆            ┆ Ba…       ┆   ┆           ┆           ┆       ┆ pi…       │\n",
       "│ B00Z9TLVK0 ┆ NBA 2K17 - ┆ Following  ┆ The #1    ┆ … ┆ 4.3       ┆ 223       ┆ 58.0  ┆ Product:  │\n",
       "│            ┆ Early Tip  ┆ the record ┆ rated NBA ┆   ┆           ┆           ┆       ┆ NBA 2K17  │\n",
       "│            ┆ Off        ┆ -breaking  ┆ video     ┆   ┆           ┆           ┆       ┆ - Early   │\n",
       "│            ┆ Edition -  ┆ launch of  ┆ game simu ┆   ┆           ┆           ┆       ┆ Tip Off   │\n",
       "│            ┆ PlayStatio ┆ NBA 2K16,  ┆ lation    ┆   ┆           ┆           ┆       ┆ Edition - │\n",
       "│            ┆ n 4        ┆ the NBA 2K ┆ series    ┆   ┆           ┆           ┆       ┆ PlayStati │\n",
       "│            ┆            ┆ franchise  ┆ for the   ┆   ┆           ┆           ┆       ┆ on 4      │\n",
       "│            ┆            ┆ continues  ┆ last 15   ┆   ┆           ┆           ┆       ┆           │\n",
       "│            ┆            ┆ to stake   ┆ years (Me ┆   ┆           ┆           ┆       ┆ Descripti │\n",
       "│            ┆            ┆ its claim  ┆ tacritic) ┆   ┆           ┆           ┆       ┆ on:       │\n",
       "│            ┆            ┆ …          ┆ . The #1  ┆   ┆           ┆           ┆       ┆ Following │\n",
       "│            ┆            ┆            ┆ selling   ┆   ┆           ┆           ┆       ┆ the recor │\n",
       "│            ┆            ┆            ┆ NBA…      ┆   ┆           ┆           ┆       ┆ d-breakin │\n",
       "│            ┆            ┆            ┆           ┆   ┆           ┆           ┆       ┆ …         │\n",
       "│ B002WH4ZJG ┆ Thrustmast ┆ The Thrust ┆ Includes  ┆ … ┆ 3.0       ┆ 3         ┆       ┆ Product:  │\n",
       "│            ┆ er Elite   ┆ master     ┆ (9) Total ┆   ┆           ┆           ┆       ┆ Thrustmas │\n",
       "│            ┆ Fitness    ┆ Motion     ┆ Accessori ┆   ┆           ┆           ┆       ┆ ter Elite │\n",
       "│            ┆ Pack for   ┆ Plus Elite ┆ es        ┆   ┆           ┆           ┆       ┆ Fitness   │\n",
       "│            ┆ Nintendo   ┆ Fitness    ┆ Pedometer ┆   ┆           ┆           ┆       ┆ Pack for  │\n",
       "│            ┆ Wii        ┆ Pack for   ┆ Wii Fit   ┆   ┆           ┆           ┆       ┆ Nintendo  │\n",
       "│            ┆            ┆ Wii is     ┆ Balance   ┆   ┆           ┆           ┆       ┆ Wii       │\n",
       "│            ┆            ┆ Ideal for  ┆ Board     ┆   ┆           ┆           ┆       ┆           │\n",
       "│            ┆            ┆ Nintendo   ┆ Stepper   ┆   ┆           ┆           ┆       ┆ Descripti │\n",
       "│            ┆            ┆ Wii Fit &  ┆ Floor Mat ┆   ┆           ┆           ┆       ┆ on: The   │\n",
       "│            ┆            ┆ Wii Fit    ┆ made from ┆   ┆           ┆           ┆       ┆ Thrustmas │\n",
       "│            ┆            ┆ Plus…      ┆ high      ┆   ┆           ┆           ┆       ┆ ter       │\n",
       "│            ┆            ┆            ┆ dens…     ┆   ┆           ┆           ┆       ┆ Motion    │\n",
       "│            ┆            ┆            ┆           ┆   ┆           ┆           ┆       ┆ Plus…     │\n",
       "│ B0001ZNU56 ┆ Spongebob  ┆ Now you    ┆ Bubblesta ┆ … ┆ 4.4       ┆ 32        ┆ 33.98 ┆ Product:  │\n",
       "│            ┆ Squarepant ┆ can watch  ┆ nd:       ┆   ┆           ┆           ┆       ┆ Spongebob │\n",
       "│            ┆ s, Vol. 1  ┆ the wild   ┆ SpongeBob ┆   ┆           ┆           ┆       ┆ Squarepan │\n",
       "│            ┆            ┆ underwater ┆ shows     ┆   ┆           ┆           ┆       ┆ ts, Vol.  │\n",
       "│            ┆            ┆ antics of  ┆ Patrick   ┆   ┆           ┆           ┆       ┆ 1         │\n",
       "│            ┆            ┆ SpongeBob  ┆ and       ┆   ┆           ┆           ┆       ┆           │\n",
       "│            ┆            ┆ SquarePant ┆ Squidward ┆   ┆           ┆           ┆       ┆ Descripti │\n",
       "│            ┆            ┆ s on your  ┆ his       ┆   ┆           ┆           ┆       ┆ on: Now   │\n",
       "│            ┆            ┆ Game Boy   ┆ unique    ┆   ┆           ┆           ┆       ┆ you can   │\n",
       "│            ┆            ┆ Advance,   ┆ talent    ┆   ┆           ┆           ┆       ┆ watch the │\n",
       "│            ┆            ┆ with…      ┆ for       ┆   ┆           ┆           ┆       ┆ wild unde │\n",
       "│            ┆            ┆            ┆ blowing   ┆   ┆           ┆           ┆       ┆ rwater    │\n",
       "│            ┆            ┆            ┆ bubbles.  ┆   ┆           ┆           ┆       ┆ antics    │\n",
       "│            ┆            ┆            ┆ Squidward ┆   ┆           ┆           ┆       ┆ of…       │\n",
       "│            ┆            ┆            ┆ …         ┆   ┆           ┆           ┆       ┆           │\n",
       "│ B009C9E8JY ┆ Set of 4   ┆ A set of 4 ┆ Case      ┆ … ┆ 4.8       ┆ 4         ┆       ┆ Product:  │\n",
       "│            ┆ Bullet     ┆ bullet     ┆ Color:    ┆   ┆           ┆           ┆       ┆ Set of 4  │\n",
       "│            ┆ Buttons    ┆ button to  ┆ Silver    ┆   ┆           ┆           ┆       ┆ Bullet    │\n",
       "│            ┆ Nickel+Bra ┆ replace    ┆ Case      ┆   ┆           ┆           ┆       ┆ Buttons   │\n",
       "│            ┆ ss for Pla ┆ all the 4  ┆ Material: ┆   ┆           ┆           ┆       ┆ Nickel+Br │\n",
       "│            ┆ ystation   ┆ buttons    ┆ Nickel    ┆   ┆           ┆           ┆       ┆ ass for   │\n",
       "│            ┆ PS3 PS2    ┆ (Cross,    ┆ Primer    ┆   ┆           ┆           ┆       ┆ Playstati │\n",
       "│            ┆ controller ┆ Square,    ┆ Color:    ┆   ┆           ┆           ┆       ┆ on PS3    │\n",
       "│            ┆ s          ┆ Triangle,  ┆ Bronze    ┆   ┆           ┆           ┆       ┆ PS2 contr │\n",
       "│            ┆            ┆ Circle) of ┆ Primer    ┆   ┆           ┆           ┆       ┆ ollers    │\n",
       "│            ┆            ┆ your PS3 … ┆ Material: ┆   ┆           ┆           ┆       ┆           │\n",
       "│            ┆            ┆            ┆ Brass     ┆   ┆           ┆           ┆       ┆ Descripti │\n",
       "│            ┆            ┆            ┆ Brand of  ┆   ┆           ┆           ┆       ┆ on: A se… │\n",
       "│            ┆            ┆            ┆ ammo s…   ┆   ┆           ┆           ┆       ┆           │\n",
       "└────────────┴────────────┴────────────┴───────────┴───┴───────────┴───────────┴───────┴───────────┘"
      ]
     },
     "execution_count": 14,
     "metadata": {},
     "output_type": "execute_result"
    }
   ],
   "source": [
    "item_df = item_df.with_columns(\n",
    "    pl.concat_str(\n",
    "        [\n",
    "            pl.lit(\"Product: \"),\n",
    "            pl.col(\"title\"),\n",
    "            pl.lit(\"\\n\\nDescription: \"),\n",
    "            pl.col(\"description_text\"),\n",
    "            pl.lit(\"\\n\\nFeatures: \"),\n",
    "            pl.col(\"features_text\"),\n",
    "            pl.lit(\"\\n\\nCategory: \"),\n",
    "            pl.col(\"main_category\"),\n",
    "            pl.lit(\", Category tree: \"),\n",
    "            pl.col(\"categories_text\"),\n",
    "            pl.lit(\"\\n\\nStore: \"),\n",
    "            pl.col(\"store\"),\n",
    "            pl.lit(\"\\n\\nAverage rating: \"),\n",
    "            pl.col(\"average_rating\"),\n",
    "            pl.lit(\", Rating count: \"),\n",
    "            pl.col(\"rating_number\"),\n",
    "            pl.lit(\"\\n\\nPrice: \"),\n",
    "            pl.col(\"price\"),\n",
    "        ]\n",
    "    ).alias(\"item_context\")\n",
    ")\n",
    "\n",
    "item_df.head()"
   ]
  },
  {
   "cell_type": "code",
   "execution_count": 15,
   "id": "0dabb736",
   "metadata": {
    "execution": {
     "iopub.execute_input": "2025-07-14T01:08:23.456445Z",
     "iopub.status.busy": "2025-07-14T01:08:23.456392Z",
     "iopub.status.idle": "2025-07-14T01:08:23.458179Z",
     "shell.execute_reply": "2025-07-14T01:08:23.457990Z"
    }
   },
   "outputs": [
    {
     "name": "stdout",
     "output_type": "stream",
     "text": [
      "18:08:23 - Product: Dash 8-300 Professional Add-On\n",
      "\n",
      "Description: The Dash 8-300 Professional Add-On lets you pilot a real commuter special. Fly two versions of the popular Dash 8-300 in a total of 17 different liveries. The Dash 8-300 is one of the most popular short-haul aircraft available and this superbly modelled version from acclaimed aircraft developers PSS is modelled in two versions with a total of 17 different liveries. The package also includes scenery for three European airports, tutorials, tutorial flights and utilities together in one fantastic package.\n",
      "\n",
      "Features: Features Dash 8-300 and 8-Q300 ('Q' rollout livery) Airlines - US Airways, South African Express, Bahamasair, Augsburg Airways, Lufthansa Cityline, British Airways (Union Jack), British European, FlyBe, Intersky, Wideroe, Iberia, Tyrolean, QantasLink, BWIA Airports include - London City, Frankfurt, Milan and Amsterdam Schipol Includes PSS PanelConfig and LoadEdit tools\n",
      "\n",
      "Category: Video Games, Category tree: Video Games > PC > Games\n",
      "\n",
      "Store: Aerosoft\n",
      "\n",
      "Average rating: 5.0, Rating count: 1\n",
      "\n",
      "Price: \n"
     ]
    }
   ],
   "source": [
    "logger.info(item_df.slice(0, 1).select(\"item_context\").item())"
   ]
  },
  {
   "cell_type": "markdown",
   "id": "c0825b6e",
   "metadata": {},
   "source": [
    "## Load sequences"
   ]
  },
  {
   "cell_type": "code",
   "execution_count": 16,
   "id": "111dd576",
   "metadata": {
    "execution": {
     "iopub.execute_input": "2025-07-14T01:08:23.459174Z",
     "iopub.status.busy": "2025-07-14T01:08:23.459128Z",
     "iopub.status.idle": "2025-07-14T01:08:23.591773Z",
     "shell.execute_reply": "2025-07-14T01:08:23.591581Z"
    }
   },
   "outputs": [
    {
     "name": "stdout",
     "output_type": "stream",
     "text": [
      "18:08:23 - Dataset shape: (736827, 5)\n"
     ]
    },
    {
     "name": "stdout",
     "output_type": "stream",
     "text": [
      "18:08:23 - Columns: ['user_id', 'parent_asin', 'rating', 'timestamp', 'history']\n"
     ]
    },
    {
     "data": {
      "text/html": [
       "<div><style>\n",
       ".dataframe > thead > tr,\n",
       ".dataframe > tbody > tr {\n",
       "  text-align: right;\n",
       "  white-space: pre-wrap;\n",
       "}\n",
       "</style>\n",
       "<small>shape: (5, 5)</small><table border=\"1\" class=\"dataframe\"><thead><tr><th>user_id</th><th>parent_asin</th><th>rating</th><th>timestamp</th><th>history</th></tr><tr><td>str</td><td>str</td><td>f64</td><td>i64</td><td>str</td></tr></thead><tbody><tr><td>&quot;AEVPPTMG43C6GWSR7I2UGRQN7WFQ&quot;</td><td>&quot;B08R5B7YS4&quot;</td><td>1.0</td><td>1611459666223</td><td>null</td></tr><tr><td>&quot;AEVPPTMG43C6GWSR7I2UGRQN7WFQ&quot;</td><td>&quot;B0863MT183&quot;</td><td>4.0</td><td>1613701986538</td><td>&quot;B08R5B7YS4&quot;</td></tr><tr><td>&quot;AEVPPTMG43C6GWSR7I2UGRQN7WFQ&quot;</td><td>&quot;B08P8P7686&quot;</td><td>5.0</td><td>1613702112995</td><td>&quot;B08R5B7YS4 B0863MT183&quot;</td></tr><tr><td>&quot;AEVPPTMG43C6GWSR7I2UGRQN7WFQ&quot;</td><td>&quot;B0B7LV3DN2&quot;</td><td>4.0</td><td>1617641445475</td><td>&quot;B08R5B7YS4 B0863MT183 B08P8P7686&quot;</td></tr><tr><td>&quot;AEVPPTMG43C6GWSR7I2UGRQN7WFQ&quot;</td><td>&quot;B09WMQ6DXG&quot;</td><td>5.0</td><td>1620231368468</td><td>&quot;B08R5B7YS4 B0863MT183 B08P8P7686 B0B7LV3DN2&quot;</td></tr></tbody></table></div>"
      ],
      "text/plain": [
       "shape: (5, 5)\n",
       "┌──────────────────────────────┬─────────────┬────────┬───────────────┬───────────────────────┐\n",
       "│ user_id                      ┆ parent_asin ┆ rating ┆ timestamp     ┆ history               │\n",
       "│ ---                          ┆ ---         ┆ ---    ┆ ---           ┆ ---                   │\n",
       "│ str                          ┆ str         ┆ f64    ┆ i64           ┆ str                   │\n",
       "╞══════════════════════════════╪═════════════╪════════╪═══════════════╪═══════════════════════╡\n",
       "│ AEVPPTMG43C6GWSR7I2UGRQN7WFQ ┆ B08R5B7YS4  ┆ 1.0    ┆ 1611459666223 ┆ null                  │\n",
       "│ AEVPPTMG43C6GWSR7I2UGRQN7WFQ ┆ B0863MT183  ┆ 4.0    ┆ 1613701986538 ┆ B08R5B7YS4            │\n",
       "│ AEVPPTMG43C6GWSR7I2UGRQN7WFQ ┆ B08P8P7686  ┆ 5.0    ┆ 1613702112995 ┆ B08R5B7YS4 B0863MT183 │\n",
       "│ AEVPPTMG43C6GWSR7I2UGRQN7WFQ ┆ B0B7LV3DN2  ┆ 4.0    ┆ 1617641445475 ┆ B08R5B7YS4 B0863MT183 │\n",
       "│                              ┆             ┆        ┆               ┆ B08P8P7686            │\n",
       "│ AEVPPTMG43C6GWSR7I2UGRQN7WFQ ┆ B09WMQ6DXG  ┆ 5.0    ┆ 1620231368468 ┆ B08R5B7YS4 B0863MT183 │\n",
       "│                              ┆             ┆        ┆               ┆ B08P8P7686 B0B7LV3DN2 │\n",
       "└──────────────────────────────┴─────────────┴────────┴───────────────┴───────────────────────┘"
      ]
     },
     "execution_count": 16,
     "metadata": {},
     "output_type": "execute_result"
    }
   ],
   "source": [
    "# Load the gzipped CSV file\n",
    "df = pl.read_csv(f\"../data/{CATEGORY}.train.csv.gz\")\n",
    "\n",
    "# Display basic information about the dataset\n",
    "logger.info(f\"Dataset shape: {df.shape}\")\n",
    "logger.info(f\"Columns: {df.columns}\")\n",
    "\n",
    "df.head()"
   ]
  },
  {
   "cell_type": "code",
   "execution_count": 17,
   "id": "f8c089e6",
   "metadata": {
    "execution": {
     "iopub.execute_input": "2025-07-14T01:08:23.592793Z",
     "iopub.status.busy": "2025-07-14T01:08:23.592704Z",
     "iopub.status.idle": "2025-07-14T01:08:23.633302Z",
     "shell.execute_reply": "2025-07-14T01:08:23.633091Z"
    }
   },
   "outputs": [
    {
     "name": "stdout",
     "output_type": "stream",
     "text": [
      "18:08:23 - Original dataset num rows: 736,827\n"
     ]
    },
    {
     "name": "stdout",
     "output_type": "stream",
     "text": [
      "18:08:23 - Deduplicated dataset num rows: 91,562\n"
     ]
    },
    {
     "name": "stdout",
     "output_type": "stream",
     "text": [
      "18:08:23 - Number of unique users: 91,562\n"
     ]
    }
   ],
   "source": [
    "# Deduplicate by user_id, keeping the row with the longest history\n",
    "# First, calculate the length of each history\n",
    "df = df.with_columns(\n",
    "    pl.when(pl.col(\"history\").is_null())\n",
    "    .then(0)\n",
    "    .otherwise(pl.col(\"history\").str.count_matches(r\"\\S+\"))\n",
    "    .alias(\"history_length\")\n",
    ")\n",
    "\n",
    "logger.info(f\"Original dataset num rows: {df.shape[0]:,}\")\n",
    "\n",
    "# Sort by user_id and history_length (descending), then keep first row per user\n",
    "df = df.sort([\"user_id\", \"history_length\"], descending=[False, True]).group_by(\"user_id\").first().drop(\"history_length\")\n",
    "\n",
    "logger.info(f\"Deduplicated dataset num rows: {df.shape[0]:,}\")\n",
    "logger.info(f\"Number of unique users: {df.n_unique('user_id'):,}\")"
   ]
  },
  {
   "cell_type": "code",
   "execution_count": 18,
   "id": "9ab825d0",
   "metadata": {
    "execution": {
     "iopub.execute_input": "2025-07-14T01:08:23.634282Z",
     "iopub.status.busy": "2025-07-14T01:08:23.634224Z",
     "iopub.status.idle": "2025-07-14T01:08:23.664332Z",
     "shell.execute_reply": "2025-07-14T01:08:23.664117Z"
    }
   },
   "outputs": [
    {
     "data": {
      "text/html": [
       "<div><style>\n",
       ".dataframe > thead > tr,\n",
       ".dataframe > tbody > tr {\n",
       "  text-align: right;\n",
       "  white-space: pre-wrap;\n",
       "}\n",
       "</style>\n",
       "<small>shape: (5, 6)</small><table border=\"1\" class=\"dataframe\"><thead><tr><th>user_id</th><th>parent_asin</th><th>rating</th><th>timestamp</th><th>history</th><th>sequence</th></tr><tr><td>str</td><td>str</td><td>f64</td><td>i64</td><td>str</td><td>list[str]</td></tr></thead><tbody><tr><td>&quot;AE222HFZDH6BPTYFOUWGGU63YSIQ&quot;</td><td>&quot;B0BW17W9GM&quot;</td><td>5.0</td><td>1593366227132</td><td>&quot;B082R1RGZF B07SNN8GV5 B01GY35T4S B07QX99XJJ&quot;</td><td>[&quot;B082R1RGZF&quot;, &quot;B07SNN8GV5&quot;, … &quot;B0BW17W9GM&quot;]</td></tr><tr><td>&quot;AE2252DKW4XJIZP5QPFMQVJBVRTA&quot;</td><td>&quot;B07JH3LSHN&quot;</td><td>5.0</td><td>1562210954523</td><td>&quot;B0050SX4CI B002ORTCAQ B0090ECASW B004OYV7ZU B00F27JGVA B01N6N3J8D B01KV3BB0S B0C5K2TWD8&quot;</td><td>[&quot;B0050SX4CI&quot;, &quot;B002ORTCAQ&quot;, … &quot;B07JH3LSHN&quot;]</td></tr><tr><td>&quot;AE225O22SA7DLBOGOEIFL7FT5VYQ&quot;</td><td>&quot;B0053BCML6&quot;</td><td>4.0</td><td>1370812046000</td><td>&quot;B00005YTYC B00029QOQS B0006B7DXA B001LETH2Q B0009XEC02 B000NNDN1M B00136MBHA B007VTVRFA&quot;</td><td>[&quot;B00005YTYC&quot;, &quot;B00029QOQS&quot;, … &quot;B0053BCML6&quot;]</td></tr><tr><td>&quot;AE227CCN4C37WTOB3J2TZPOKLEQQ&quot;</td><td>&quot;B001QCWRWK&quot;</td><td>1.0</td><td>1442558286000</td><td>&quot;B0049U4DXM B002V8KA72 B0000NSZMM B000KQLDP0 B0032C9V7G B001EYUPHO B000WCCURW B00LZVNWIA B00AYZMZ9K B…</td><td>[&quot;B0049U4DXM&quot;, &quot;B002V8KA72&quot;, … &quot;B001QCWRWK&quot;]</td></tr><tr><td>&quot;AE22BPPZGGRTSYOHK2J3LCG5HGAQ&quot;</td><td>&quot;B0053BCML6&quot;</td><td>5.0</td><td>1418058672000</td><td>&quot;B00KVP3OY8 B07K3KHFSY B00KVP76G0 B00KVOVBGM&quot;</td><td>[&quot;B00KVP3OY8&quot;, &quot;B07K3KHFSY&quot;, … &quot;B0053BCML6&quot;]</td></tr></tbody></table></div>"
      ],
      "text/plain": [
       "shape: (5, 6)\n",
       "┌─────────────────────────┬─────────────┬────────┬───────────────┬───────────────┬─────────────────┐\n",
       "│ user_id                 ┆ parent_asin ┆ rating ┆ timestamp     ┆ history       ┆ sequence        │\n",
       "│ ---                     ┆ ---         ┆ ---    ┆ ---           ┆ ---           ┆ ---             │\n",
       "│ str                     ┆ str         ┆ f64    ┆ i64           ┆ str           ┆ list[str]       │\n",
       "╞═════════════════════════╪═════════════╪════════╪═══════════════╪═══════════════╪═════════════════╡\n",
       "│ AE222HFZDH6BPTYFOUWGGU6 ┆ B0BW17W9GM  ┆ 5.0    ┆ 1593366227132 ┆ B082R1RGZF    ┆ [\"B082R1RGZF\",  │\n",
       "│ 3YSIQ                   ┆             ┆        ┆               ┆ B07SNN8GV5    ┆ \"B07SNN8GV5\", … │\n",
       "│                         ┆             ┆        ┆               ┆ B01GY35T4S    ┆ \"B0BW17W9GM\"]   │\n",
       "│                         ┆             ┆        ┆               ┆ B07QX99XJJ    ┆                 │\n",
       "│ AE2252DKW4XJIZP5QPFMQVJ ┆ B07JH3LSHN  ┆ 5.0    ┆ 1562210954523 ┆ B0050SX4CI    ┆ [\"B0050SX4CI\",  │\n",
       "│ BVRTA                   ┆             ┆        ┆               ┆ B002ORTCAQ    ┆ \"B002ORTCAQ\", … │\n",
       "│                         ┆             ┆        ┆               ┆ B0090ECASW    ┆ \"B07JH3LSHN\"]   │\n",
       "│                         ┆             ┆        ┆               ┆ B004OYV7ZU    ┆                 │\n",
       "│                         ┆             ┆        ┆               ┆ B00F27JGVA    ┆                 │\n",
       "│                         ┆             ┆        ┆               ┆ B01N6N3J8D    ┆                 │\n",
       "│                         ┆             ┆        ┆               ┆ B01KV3BB0S    ┆                 │\n",
       "│                         ┆             ┆        ┆               ┆ B0C5K2TWD8    ┆                 │\n",
       "│ AE225O22SA7DLBOGOEIFL7F ┆ B0053BCML6  ┆ 4.0    ┆ 1370812046000 ┆ B00005YTYC    ┆ [\"B00005YTYC\",  │\n",
       "│ T5VYQ                   ┆             ┆        ┆               ┆ B00029QOQS    ┆ \"B00029QOQS\", … │\n",
       "│                         ┆             ┆        ┆               ┆ B0006B7DXA    ┆ \"B0053BCML6\"]   │\n",
       "│                         ┆             ┆        ┆               ┆ B001LETH2Q    ┆                 │\n",
       "│                         ┆             ┆        ┆               ┆ B0009XEC02    ┆                 │\n",
       "│                         ┆             ┆        ┆               ┆ B000NNDN1M    ┆                 │\n",
       "│                         ┆             ┆        ┆               ┆ B00136MBHA    ┆                 │\n",
       "│                         ┆             ┆        ┆               ┆ B007VTVRFA    ┆                 │\n",
       "│ AE227CCN4C37WTOB3J2TZPO ┆ B001QCWRWK  ┆ 1.0    ┆ 1442558286000 ┆ B0049U4DXM    ┆ [\"B0049U4DXM\",  │\n",
       "│ KLEQQ                   ┆             ┆        ┆               ┆ B002V8KA72    ┆ \"B002V8KA72\", … │\n",
       "│                         ┆             ┆        ┆               ┆ B0000NSZMM    ┆ \"B001QCWRWK\"]   │\n",
       "│                         ┆             ┆        ┆               ┆ B000KQLDP0    ┆                 │\n",
       "│                         ┆             ┆        ┆               ┆ B0032C9V7G    ┆                 │\n",
       "│                         ┆             ┆        ┆               ┆ B001EYUPHO    ┆                 │\n",
       "│                         ┆             ┆        ┆               ┆ B000WCCURW    ┆                 │\n",
       "│                         ┆             ┆        ┆               ┆ B00LZVNWIA    ┆                 │\n",
       "│                         ┆             ┆        ┆               ┆ B00AYZMZ9K B… ┆                 │\n",
       "│ AE22BPPZGGRTSYOHK2J3LCG ┆ B0053BCML6  ┆ 5.0    ┆ 1418058672000 ┆ B00KVP3OY8    ┆ [\"B00KVP3OY8\",  │\n",
       "│ 5HGAQ                   ┆             ┆        ┆               ┆ B07K3KHFSY    ┆ \"B07K3KHFSY\", … │\n",
       "│                         ┆             ┆        ┆               ┆ B00KVP76G0    ┆ \"B0053BCML6\"]   │\n",
       "│                         ┆             ┆        ┆               ┆ B00KVOVBGM    ┆                 │\n",
       "└─────────────────────────┴─────────────┴────────┴───────────────┴───────────────┴─────────────────┘"
      ]
     },
     "execution_count": 18,
     "metadata": {},
     "output_type": "execute_result"
    }
   ],
   "source": [
    "# Create sequences column by appending parent_asin to history as a list\n",
    "df = df.with_columns(pl.col(\"history\").str.split(\" \").list.concat([pl.col(\"parent_asin\")]).alias(\"sequence\"))\n",
    "\n",
    "df.head()"
   ]
  },
  {
   "cell_type": "markdown",
   "id": "9bf7bdb6",
   "metadata": {},
   "source": [
    "## Filter items without metadata\n",
    "\n",
    "We need to filter out items from the history that don't have valid metadata (both title and description). This ensures we only work with items that have sufficient information for generating semantic representations."
   ]
  },
  {
   "cell_type": "code",
   "execution_count": 19,
   "id": "l97aie1z3f",
   "metadata": {
    "execution": {
     "iopub.execute_input": "2025-07-14T01:08:23.665394Z",
     "iopub.status.busy": "2025-07-14T01:08:23.665334Z",
     "iopub.status.idle": "2025-07-14T01:08:24.101172Z",
     "shell.execute_reply": "2025-07-14T01:08:24.100949Z"
    }
   },
   "outputs": [
    {
     "name": "stdout",
     "output_type": "stream",
     "text": [
      "18:08:24 - Rows before filtering: 91,562\n"
     ]
    },
    {
     "name": "stdout",
     "output_type": "stream",
     "text": [
      "18:08:24 - Rows after filtering: 78,643\n"
     ]
    },
    {
     "name": "stdout",
     "output_type": "stream",
     "text": [
      "18:08:24 - Rows removed: 12,919 (14.1%)\n"
     ]
    }
   ],
   "source": [
    "# Function to filter sequence items based on valid metadata\n",
    "def filter_sequence_items(sequence_list, valid_items_set):\n",
    "    if sequence_list is None:\n",
    "        return None\n",
    "\n",
    "    # Filter the list to keep only items with valid metadata\n",
    "    filtered_items = [item for item in sequence_list if item in valid_items_set]\n",
    "\n",
    "    return filtered_items if filtered_items else None\n",
    "\n",
    "\n",
    "# Filter sequences where metadata is missing\n",
    "df = df.with_columns(\n",
    "    pl.col(\"sequence\")\n",
    "    .map_elements(lambda x: filter_sequence_items(x, valid_items), return_dtype=pl.List(pl.String))\n",
    "    .alias(\"sequence\")\n",
    ")\n",
    "\n",
    "# Filter out rows where:\n",
    "# 1. The target item (parent_asin) doesn't have valid metadata\n",
    "# 2. The filtered sequences is empty or null\n",
    "rows_before_filtering = df.shape[0]\n",
    "logger.info(f\"Rows before filtering: {rows_before_filtering:,}\")\n",
    "\n",
    "df = df.filter((pl.col(\"sequence\").is_not_null()) & (pl.col(\"sequence\").list.len() >= MIN_SEQUENCE_LENGTH))\n",
    "\n",
    "# Log statistics\n",
    "logger.info(f\"Rows after filtering: {df.shape[0]:,}\")\n",
    "logger.info(\n",
    "    f\"Rows removed: {rows_before_filtering - df.shape[0]:,} ({(rows_before_filtering - df.shape[0]) / rows_before_filtering * 100:.1f}%)\"\n",
    ")"
   ]
  },
  {
   "cell_type": "markdown",
   "id": "92nfmqz6nyc",
   "metadata": {},
   "source": [
    "## Truncate long sequences\n",
    "\n",
    "For users with sequences longer than a maximum length, we truncate to keep only the last n items to maintain consistent sequence lengths and focus on recent interactions."
   ]
  },
  {
   "cell_type": "code",
   "execution_count": 20,
   "id": "zv4cmr8ifhg",
   "metadata": {
    "execution": {
     "iopub.execute_input": "2025-07-14T01:08:24.102226Z",
     "iopub.status.busy": "2025-07-14T01:08:24.102167Z",
     "iopub.status.idle": "2025-07-14T01:08:24.111894Z",
     "shell.execute_reply": "2025-07-14T01:08:24.111707Z"
    }
   },
   "outputs": [
    {
     "name": "stdout",
     "output_type": "stream",
     "text": [
      "18:08:24 - Sequences truncated: 28 (0.0%)\n"
     ]
    },
    {
     "name": "stdout",
     "output_type": "stream",
     "text": [
      "18:08:24 - Sequence lengths - Min: 3, Max: 100, Mean: 6.5, Median: 5.0\n"
     ]
    }
   ],
   "source": [
    "# Calculate sequence lengths before truncation\n",
    "df = df.with_columns(pl.col(\"sequence\").list.len().alias(\"sequence_length_before\"))\n",
    "\n",
    "# Using Polars expressions for efficient truncation - take last N items\n",
    "df = df.with_columns(pl.col(\"sequence\").list.tail(MAX_SEQUENCE_LENGTH).alias(\"sequence\"))\n",
    "\n",
    "# Update sequence length for truncated sequences\n",
    "df = df.with_columns(pl.col(\"sequence\").list.len().alias(\"sequence_length\"))\n",
    "\n",
    "# Calculate truncation statistics\n",
    "sequences_truncated = (df[\"sequence_length_before\"] > MAX_SEQUENCE_LENGTH).sum()\n",
    "pct_truncated = sequences_truncated / len(df) * 100\n",
    "\n",
    "logger.info(f\"Sequences truncated: {sequences_truncated:,} ({pct_truncated:.1f}%)\")\n",
    "\n",
    "# Replace the sequences column with the truncated version\n",
    "df = df.drop([\"sequence_length_before\"])\n",
    "\n",
    "logger.info(\n",
    "    f\"Sequence lengths - Min: {df['sequence_length'].min()}, Max: {df['sequence_length'].max()}, Mean: {df['sequence_length'].mean():.1f}, Median: {df['sequence_length'].median()}\"\n",
    ")"
   ]
  },
  {
   "cell_type": "code",
   "execution_count": 21,
   "id": "854881ee",
   "metadata": {
    "execution": {
     "iopub.execute_input": "2025-07-14T01:08:24.112868Z",
     "iopub.status.busy": "2025-07-14T01:08:24.112815Z",
     "iopub.status.idle": "2025-07-14T01:08:24.115402Z",
     "shell.execute_reply": "2025-07-14T01:08:24.115214Z"
    }
   },
   "outputs": [
    {
     "data": {
      "text/html": [
       "<div><style>\n",
       ".dataframe > thead > tr,\n",
       ".dataframe > tbody > tr {\n",
       "  text-align: right;\n",
       "  white-space: pre-wrap;\n",
       "}\n",
       "</style>\n",
       "<small>shape: (10, 4)</small><table border=\"1\" class=\"dataframe\"><thead><tr><th>sequence_length</th><th>len</th><th>probability</th><th>cumulative_probability</th></tr><tr><td>u32</td><td>u32</td><td>f64</td><td>f64</td></tr></thead><tbody><tr><td>3</td><td>13154</td><td>0.167262</td><td>0.167262</td></tr><tr><td>4</td><td>17458</td><td>0.221991</td><td>0.389253</td></tr><tr><td>5</td><td>15689</td><td>0.199496</td><td>0.588749</td></tr><tr><td>6</td><td>9288</td><td>0.118103</td><td>0.706852</td></tr><tr><td>7</td><td>5876</td><td>0.074717</td><td>0.78157</td></tr><tr><td>8</td><td>4018</td><td>0.051092</td><td>0.832662</td></tr><tr><td>9</td><td>2824</td><td>0.035909</td><td>0.868571</td></tr><tr><td>10</td><td>2036</td><td>0.025889</td><td>0.89446</td></tr><tr><td>11</td><td>1508</td><td>0.019175</td><td>0.913635</td></tr><tr><td>12</td><td>1180</td><td>0.015005</td><td>0.92864</td></tr></tbody></table></div>"
      ],
      "text/plain": [
       "shape: (10, 4)\n",
       "┌─────────────────┬───────┬─────────────┬────────────────────────┐\n",
       "│ sequence_length ┆ len   ┆ probability ┆ cumulative_probability │\n",
       "│ ---             ┆ ---   ┆ ---         ┆ ---                    │\n",
       "│ u32             ┆ u32   ┆ f64         ┆ f64                    │\n",
       "╞═════════════════╪═══════╪═════════════╪════════════════════════╡\n",
       "│ 3               ┆ 13154 ┆ 0.167262    ┆ 0.167262               │\n",
       "│ 4               ┆ 17458 ┆ 0.221991    ┆ 0.389253               │\n",
       "│ 5               ┆ 15689 ┆ 0.199496    ┆ 0.588749               │\n",
       "│ 6               ┆ 9288  ┆ 0.118103    ┆ 0.706852               │\n",
       "│ 7               ┆ 5876  ┆ 0.074717    ┆ 0.78157                │\n",
       "│ 8               ┆ 4018  ┆ 0.051092    ┆ 0.832662               │\n",
       "│ 9               ┆ 2824  ┆ 0.035909    ┆ 0.868571               │\n",
       "│ 10              ┆ 2036  ┆ 0.025889    ┆ 0.89446                │\n",
       "│ 11              ┆ 1508  ┆ 0.019175    ┆ 0.913635               │\n",
       "│ 12              ┆ 1180  ┆ 0.015005    ┆ 0.92864                │\n",
       "└─────────────────┴───────┴─────────────┴────────────────────────┘"
      ]
     },
     "execution_count": 21,
     "metadata": {},
     "output_type": "execute_result"
    }
   ],
   "source": [
    "df.group_by(\"sequence_length\").len().with_columns((pl.col(\"len\") / pl.sum(\"len\")).alias(\"probability\")).sort(\n",
    "    \"sequence_length\"\n",
    ").with_columns(pl.col(\"probability\").cum_sum().alias(\"cumulative_probability\")).head(10)"
   ]
  },
  {
   "cell_type": "code",
   "execution_count": 22,
   "id": "9525411e",
   "metadata": {
    "execution": {
     "iopub.execute_input": "2025-07-14T01:08:24.116283Z",
     "iopub.status.busy": "2025-07-14T01:08:24.116230Z",
     "iopub.status.idle": "2025-07-14T01:08:24.118254Z",
     "shell.execute_reply": "2025-07-14T01:08:24.118053Z"
    }
   },
   "outputs": [
    {
     "data": {
      "text/html": [
       "<div><style>\n",
       ".dataframe > thead > tr,\n",
       ".dataframe > tbody > tr {\n",
       "  text-align: right;\n",
       "  white-space: pre-wrap;\n",
       "}\n",
       "</style>\n",
       "<small>shape: (5, 3)</small><table border=\"1\" class=\"dataframe\"><thead><tr><th>user_id</th><th>sequence</th><th>sequence_length</th></tr><tr><td>str</td><td>list[str]</td><td>u32</td></tr></thead><tbody><tr><td>&quot;AE222HFZDH6BPTYFOUWGGU63YSIQ&quot;</td><td>[&quot;B082R1RGZF&quot;, &quot;B07SNN8GV5&quot;, … &quot;B0BW17W9GM&quot;]</td><td>5</td></tr><tr><td>&quot;AE2252DKW4XJIZP5QPFMQVJBVRTA&quot;</td><td>[&quot;B002ORTCAQ&quot;, &quot;B0090ECASW&quot;, … &quot;B07JH3LSHN&quot;]</td><td>7</td></tr><tr><td>&quot;AE225O22SA7DLBOGOEIFL7FT5VYQ&quot;</td><td>[&quot;B00029QOQS&quot;, &quot;B0006B7DXA&quot;, … &quot;B0053BCML6&quot;]</td><td>7</td></tr><tr><td>&quot;AE227CCN4C37WTOB3J2TZPOKLEQQ&quot;</td><td>[&quot;B0049U4DXM&quot;, &quot;B002V8KA72&quot;, … &quot;B001QCWRWK&quot;]</td><td>9</td></tr><tr><td>&quot;AE22BPPZGGRTSYOHK2J3LCG5HGAQ&quot;</td><td>[&quot;B00KVP3OY8&quot;, &quot;B07K3KHFSY&quot;, … &quot;B0053BCML6&quot;]</td><td>4</td></tr></tbody></table></div>"
      ],
      "text/plain": [
       "shape: (5, 3)\n",
       "┌──────────────────────────────┬──────────────────────────────────────────────┬─────────────────┐\n",
       "│ user_id                      ┆ sequence                                     ┆ sequence_length │\n",
       "│ ---                          ┆ ---                                          ┆ ---             │\n",
       "│ str                          ┆ list[str]                                    ┆ u32             │\n",
       "╞══════════════════════════════╪══════════════════════════════════════════════╪═════════════════╡\n",
       "│ AE222HFZDH6BPTYFOUWGGU63YSIQ ┆ [\"B082R1RGZF\", \"B07SNN8GV5\", … \"B0BW17W9GM\"] ┆ 5               │\n",
       "│ AE2252DKW4XJIZP5QPFMQVJBVRTA ┆ [\"B002ORTCAQ\", \"B0090ECASW\", … \"B07JH3LSHN\"] ┆ 7               │\n",
       "│ AE225O22SA7DLBOGOEIFL7FT5VYQ ┆ [\"B00029QOQS\", \"B0006B7DXA\", … \"B0053BCML6\"] ┆ 7               │\n",
       "│ AE227CCN4C37WTOB3J2TZPOKLEQQ ┆ [\"B0049U4DXM\", \"B002V8KA72\", … \"B001QCWRWK\"] ┆ 9               │\n",
       "│ AE22BPPZGGRTSYOHK2J3LCG5HGAQ ┆ [\"B00KVP3OY8\", \"B07K3KHFSY\", … \"B0053BCML6\"] ┆ 4               │\n",
       "└──────────────────────────────┴──────────────────────────────────────────────┴─────────────────┘"
      ]
     },
     "execution_count": 22,
     "metadata": {},
     "output_type": "execute_result"
    }
   ],
   "source": [
    "df = df.select([\"user_id\", \"sequence\", \"sequence_length\"])\n",
    "df.head()"
   ]
  },
  {
   "cell_type": "markdown",
   "id": "efpnbohvq3f",
   "metadata": {},
   "source": [
    "## Save the processed data\n",
    "\n",
    "Now we'll save the filtered data for use in subsequent steps of the semantic ID generation pipeline."
   ]
  },
  {
   "cell_type": "code",
   "execution_count": 23,
   "id": "c4fca748",
   "metadata": {
    "execution": {
     "iopub.execute_input": "2025-07-14T01:08:24.119168Z",
     "iopub.status.busy": "2025-07-14T01:08:24.119119Z",
     "iopub.status.idle": "2025-07-14T01:08:24.120794Z",
     "shell.execute_reply": "2025-07-14T01:08:24.120606Z"
    }
   },
   "outputs": [
    {
     "data": {
      "text/html": [
       "<div><style>\n",
       ".dataframe > thead > tr,\n",
       ".dataframe > tbody > tr {\n",
       "  text-align: right;\n",
       "  white-space: pre-wrap;\n",
       "}\n",
       "</style>\n",
       "<small>shape: (5, 3)</small><table border=\"1\" class=\"dataframe\"><thead><tr><th>user_id</th><th>sequence</th><th>sequence_length</th></tr><tr><td>str</td><td>list[str]</td><td>u32</td></tr></thead><tbody><tr><td>&quot;AE222HFZDH6BPTYFOUWGGU63YSIQ&quot;</td><td>[&quot;B082R1RGZF&quot;, &quot;B07SNN8GV5&quot;, … &quot;B0BW17W9GM&quot;]</td><td>5</td></tr><tr><td>&quot;AE2252DKW4XJIZP5QPFMQVJBVRTA&quot;</td><td>[&quot;B002ORTCAQ&quot;, &quot;B0090ECASW&quot;, … &quot;B07JH3LSHN&quot;]</td><td>7</td></tr><tr><td>&quot;AE225O22SA7DLBOGOEIFL7FT5VYQ&quot;</td><td>[&quot;B00029QOQS&quot;, &quot;B0006B7DXA&quot;, … &quot;B0053BCML6&quot;]</td><td>7</td></tr><tr><td>&quot;AE227CCN4C37WTOB3J2TZPOKLEQQ&quot;</td><td>[&quot;B0049U4DXM&quot;, &quot;B002V8KA72&quot;, … &quot;B001QCWRWK&quot;]</td><td>9</td></tr><tr><td>&quot;AE22BPPZGGRTSYOHK2J3LCG5HGAQ&quot;</td><td>[&quot;B00KVP3OY8&quot;, &quot;B07K3KHFSY&quot;, … &quot;B0053BCML6&quot;]</td><td>4</td></tr></tbody></table></div>"
      ],
      "text/plain": [
       "shape: (5, 3)\n",
       "┌──────────────────────────────┬──────────────────────────────────────────────┬─────────────────┐\n",
       "│ user_id                      ┆ sequence                                     ┆ sequence_length │\n",
       "│ ---                          ┆ ---                                          ┆ ---             │\n",
       "│ str                          ┆ list[str]                                    ┆ u32             │\n",
       "╞══════════════════════════════╪══════════════════════════════════════════════╪═════════════════╡\n",
       "│ AE222HFZDH6BPTYFOUWGGU63YSIQ ┆ [\"B082R1RGZF\", \"B07SNN8GV5\", … \"B0BW17W9GM\"] ┆ 5               │\n",
       "│ AE2252DKW4XJIZP5QPFMQVJBVRTA ┆ [\"B002ORTCAQ\", \"B0090ECASW\", … \"B07JH3LSHN\"] ┆ 7               │\n",
       "│ AE225O22SA7DLBOGOEIFL7FT5VYQ ┆ [\"B00029QOQS\", \"B0006B7DXA\", … \"B0053BCML6\"] ┆ 7               │\n",
       "│ AE227CCN4C37WTOB3J2TZPOKLEQQ ┆ [\"B0049U4DXM\", \"B002V8KA72\", … \"B001QCWRWK\"] ┆ 9               │\n",
       "│ AE22BPPZGGRTSYOHK2J3LCG5HGAQ ┆ [\"B00KVP3OY8\", \"B07K3KHFSY\", … \"B0053BCML6\"] ┆ 4               │\n",
       "└──────────────────────────────┴──────────────────────────────────────────────┴─────────────────┘"
      ]
     },
     "execution_count": 23,
     "metadata": {},
     "output_type": "execute_result"
    }
   ],
   "source": [
    "df.head()"
   ]
  },
  {
   "cell_type": "code",
   "execution_count": 24,
   "id": "015661e5",
   "metadata": {
    "execution": {
     "iopub.execute_input": "2025-07-14T01:08:24.121646Z",
     "iopub.status.busy": "2025-07-14T01:08:24.121598Z",
     "iopub.status.idle": "2025-07-14T01:08:24.123842Z",
     "shell.execute_reply": "2025-07-14T01:08:24.123589Z"
    }
   },
   "outputs": [
    {
     "data": {
      "text/html": [
       "<div><style>\n",
       ".dataframe > thead > tr,\n",
       ".dataframe > tbody > tr {\n",
       "  text-align: right;\n",
       "  white-space: pre-wrap;\n",
       "}\n",
       "</style>\n",
       "<small>shape: (5, 11)</small><table border=\"1\" class=\"dataframe\"><thead><tr><th>parent_asin</th><th>title</th><th>description_text</th><th>features_text</th><th>main_category</th><th>categories_text</th><th>store</th><th>average_rating</th><th>rating_number</th><th>price</th><th>item_context</th></tr><tr><td>str</td><td>str</td><td>str</td><td>str</td><td>str</td><td>str</td><td>str</td><td>str</td><td>i64</td><td>str</td><td>str</td></tr></thead><tbody><tr><td>&quot;B000FH0MHO&quot;</td><td>&quot;Dash 8-300 Professional Add-On&quot;</td><td>&quot;The Dash 8-300 Professional Add-On lets you pilot a real commuter special. Fly two versions of the p…</td><td>&quot;Features Dash 8-300 and 8-Q300 (&#x27;Q&#x27; rollout livery) Airlines - US Airways, South African Express, Ba…</td><td>&quot;Video Games&quot;</td><td>&quot;Video Games &gt; PC &gt; Games&quot;</td><td>&quot;Aerosoft&quot;</td><td>&quot;5.0&quot;</td><td>1</td><td>&quot;&quot;</td><td>&quot;Product: Dash 8-300 Professional Add-On\n",
       "\n",
       "Description: The Dash 8-300 Professional Add-On lets you pi…</td></tr><tr><td>&quot;B00Z9TLVK0&quot;</td><td>&quot;NBA 2K17 - Early Tip Off Edition - PlayStation 4&quot;</td><td>&quot;Following the record-breaking launch of NBA 2K16, the NBA 2K franchise continues to stake its claim …</td><td>&quot;The #1 rated NBA video game simulation series for the last 15 years (Metacritic). The #1 selling NBA…</td><td>&quot;Video Games&quot;</td><td>&quot;Video Games &gt; PlayStation 4 &gt; Games&quot;</td><td>&quot;2K&quot;</td><td>&quot;4.3&quot;</td><td>223</td><td>&quot;58.0&quot;</td><td>&quot;Product: NBA 2K17 - Early Tip Off Edition - PlayStation 4\n",
       "\n",
       "Description: Following the record-breakin…</td></tr><tr><td>&quot;B002WH4ZJG&quot;</td><td>&quot;Thrustmaster Elite Fitness Pack for Nintendo Wii&quot;</td><td>&quot;The Thrustmaster Motion Plus Elite Fitness Pack for Wii is Ideal for Nintendo Wii Fit &amp; Wii Fit Plus…</td><td>&quot;Includes (9) Total Accessories Pedometer Wii Fit Balance Board Stepper Floor Mat made from high dens…</td><td>&quot;Video Games&quot;</td><td>&quot;Video Games &gt; Legacy Systems &gt; Nintendo Systems &gt; Wii &gt; Accessories &gt; Fitness Accessories&quot;</td><td>&quot;THRUSTMASTER&quot;</td><td>&quot;3.0&quot;</td><td>3</td><td>&quot;&quot;</td><td>&quot;Product: Thrustmaster Elite Fitness Pack for Nintendo Wii\n",
       "\n",
       "Description: The Thrustmaster Motion Plus…</td></tr><tr><td>&quot;B0001ZNU56&quot;</td><td>&quot;Spongebob Squarepants, Vol. 1&quot;</td><td>&quot;Now you can watch the wild underwater antics of SpongeBob SquarePants on your Game Boy Advance, with…</td><td>&quot;Bubblestand: SpongeBob shows Patrick and Squidward his unique talent for blowing bubbles. Squidward …</td><td>&quot;Video Games&quot;</td><td>&quot;Video Games &gt; Legacy Systems &gt; Nintendo Systems &gt; Game Boy Systems &gt; Game Boy Advance &gt; Games&quot;</td><td>&quot;Majesco&quot;</td><td>&quot;4.4&quot;</td><td>32</td><td>&quot;33.98&quot;</td><td>&quot;Product: Spongebob Squarepants, Vol. 1\n",
       "\n",
       "Description: Now you can watch the wild underwater antics of…</td></tr><tr><td>&quot;B009C9E8JY&quot;</td><td>&quot;Set of 4 Bullet Buttons Nickel+Brass for Playstation PS3 PS2 controllers&quot;</td><td>&quot;A set of 4 bullet button to replace all the 4 buttons (Cross, Square, Triangle, Circle) of your PS3 …</td><td>&quot;Case Color: Silver Case Material: Nickel Primer Color: Bronze Primer Material: Brass Brand of ammo s…</td><td>&quot;Computers&quot;</td><td>&quot;Video Games &gt; PlayStation 4 &gt; Accessories &gt; Controllers&quot;</td><td>&quot;NEXiLUX&quot;</td><td>&quot;4.8&quot;</td><td>4</td><td>&quot;&quot;</td><td>&quot;Product: Set of 4 Bullet Buttons Nickel+Brass for Playstation PS3 PS2 controllers\n",
       "\n",
       "Description: A se…</td></tr></tbody></table></div>"
      ],
      "text/plain": [
       "shape: (5, 11)\n",
       "┌────────────┬────────────┬────────────┬───────────┬───┬───────────┬───────────┬───────┬───────────┐\n",
       "│ parent_asi ┆ title      ┆ descriptio ┆ features_ ┆ … ┆ average_r ┆ rating_nu ┆ price ┆ item_cont │\n",
       "│ n          ┆ ---        ┆ n_text     ┆ text      ┆   ┆ ating     ┆ mber      ┆ ---   ┆ ext       │\n",
       "│ ---        ┆ str        ┆ ---        ┆ ---       ┆   ┆ ---       ┆ ---       ┆ str   ┆ ---       │\n",
       "│ str        ┆            ┆ str        ┆ str       ┆   ┆ str       ┆ i64       ┆       ┆ str       │\n",
       "╞════════════╪════════════╪════════════╪═══════════╪═══╪═══════════╪═══════════╪═══════╪═══════════╡\n",
       "│ B000FH0MHO ┆ Dash 8-300 ┆ The Dash   ┆ Features  ┆ … ┆ 5.0       ┆ 1         ┆       ┆ Product:  │\n",
       "│            ┆ Profession ┆ 8-300 Prof ┆ Dash      ┆   ┆           ┆           ┆       ┆ Dash      │\n",
       "│            ┆ al Add-On  ┆ essional   ┆ 8-300 and ┆   ┆           ┆           ┆       ┆ 8-300 Pro │\n",
       "│            ┆            ┆ Add-On     ┆ 8-Q300    ┆   ┆           ┆           ┆       ┆ fessional │\n",
       "│            ┆            ┆ lets you   ┆ ('Q'      ┆   ┆           ┆           ┆       ┆ Add-On    │\n",
       "│            ┆            ┆ pilot a    ┆ rollout   ┆   ┆           ┆           ┆       ┆           │\n",
       "│            ┆            ┆ real       ┆ livery)   ┆   ┆           ┆           ┆       ┆ Descripti │\n",
       "│            ┆            ┆ commuter   ┆ Airlines  ┆   ┆           ┆           ┆       ┆ on: The   │\n",
       "│            ┆            ┆ special.   ┆ - US      ┆   ┆           ┆           ┆       ┆ Dash      │\n",
       "│            ┆            ┆ Fly two    ┆ Airways,  ┆   ┆           ┆           ┆       ┆ 8-300 Pro │\n",
       "│            ┆            ┆ versions   ┆ South     ┆   ┆           ┆           ┆       ┆ fessional │\n",
       "│            ┆            ┆ of the p…  ┆ African   ┆   ┆           ┆           ┆       ┆ Add-On    │\n",
       "│            ┆            ┆            ┆ Express,  ┆   ┆           ┆           ┆       ┆ lets you  │\n",
       "│            ┆            ┆            ┆ Ba…       ┆   ┆           ┆           ┆       ┆ pi…       │\n",
       "│ B00Z9TLVK0 ┆ NBA 2K17 - ┆ Following  ┆ The #1    ┆ … ┆ 4.3       ┆ 223       ┆ 58.0  ┆ Product:  │\n",
       "│            ┆ Early Tip  ┆ the record ┆ rated NBA ┆   ┆           ┆           ┆       ┆ NBA 2K17  │\n",
       "│            ┆ Off        ┆ -breaking  ┆ video     ┆   ┆           ┆           ┆       ┆ - Early   │\n",
       "│            ┆ Edition -  ┆ launch of  ┆ game simu ┆   ┆           ┆           ┆       ┆ Tip Off   │\n",
       "│            ┆ PlayStatio ┆ NBA 2K16,  ┆ lation    ┆   ┆           ┆           ┆       ┆ Edition - │\n",
       "│            ┆ n 4        ┆ the NBA 2K ┆ series    ┆   ┆           ┆           ┆       ┆ PlayStati │\n",
       "│            ┆            ┆ franchise  ┆ for the   ┆   ┆           ┆           ┆       ┆ on 4      │\n",
       "│            ┆            ┆ continues  ┆ last 15   ┆   ┆           ┆           ┆       ┆           │\n",
       "│            ┆            ┆ to stake   ┆ years (Me ┆   ┆           ┆           ┆       ┆ Descripti │\n",
       "│            ┆            ┆ its claim  ┆ tacritic) ┆   ┆           ┆           ┆       ┆ on:       │\n",
       "│            ┆            ┆ …          ┆ . The #1  ┆   ┆           ┆           ┆       ┆ Following │\n",
       "│            ┆            ┆            ┆ selling   ┆   ┆           ┆           ┆       ┆ the recor │\n",
       "│            ┆            ┆            ┆ NBA…      ┆   ┆           ┆           ┆       ┆ d-breakin │\n",
       "│            ┆            ┆            ┆           ┆   ┆           ┆           ┆       ┆ …         │\n",
       "│ B002WH4ZJG ┆ Thrustmast ┆ The Thrust ┆ Includes  ┆ … ┆ 3.0       ┆ 3         ┆       ┆ Product:  │\n",
       "│            ┆ er Elite   ┆ master     ┆ (9) Total ┆   ┆           ┆           ┆       ┆ Thrustmas │\n",
       "│            ┆ Fitness    ┆ Motion     ┆ Accessori ┆   ┆           ┆           ┆       ┆ ter Elite │\n",
       "│            ┆ Pack for   ┆ Plus Elite ┆ es        ┆   ┆           ┆           ┆       ┆ Fitness   │\n",
       "│            ┆ Nintendo   ┆ Fitness    ┆ Pedometer ┆   ┆           ┆           ┆       ┆ Pack for  │\n",
       "│            ┆ Wii        ┆ Pack for   ┆ Wii Fit   ┆   ┆           ┆           ┆       ┆ Nintendo  │\n",
       "│            ┆            ┆ Wii is     ┆ Balance   ┆   ┆           ┆           ┆       ┆ Wii       │\n",
       "│            ┆            ┆ Ideal for  ┆ Board     ┆   ┆           ┆           ┆       ┆           │\n",
       "│            ┆            ┆ Nintendo   ┆ Stepper   ┆   ┆           ┆           ┆       ┆ Descripti │\n",
       "│            ┆            ┆ Wii Fit &  ┆ Floor Mat ┆   ┆           ┆           ┆       ┆ on: The   │\n",
       "│            ┆            ┆ Wii Fit    ┆ made from ┆   ┆           ┆           ┆       ┆ Thrustmas │\n",
       "│            ┆            ┆ Plus…      ┆ high      ┆   ┆           ┆           ┆       ┆ ter       │\n",
       "│            ┆            ┆            ┆ dens…     ┆   ┆           ┆           ┆       ┆ Motion    │\n",
       "│            ┆            ┆            ┆           ┆   ┆           ┆           ┆       ┆ Plus…     │\n",
       "│ B0001ZNU56 ┆ Spongebob  ┆ Now you    ┆ Bubblesta ┆ … ┆ 4.4       ┆ 32        ┆ 33.98 ┆ Product:  │\n",
       "│            ┆ Squarepant ┆ can watch  ┆ nd:       ┆   ┆           ┆           ┆       ┆ Spongebob │\n",
       "│            ┆ s, Vol. 1  ┆ the wild   ┆ SpongeBob ┆   ┆           ┆           ┆       ┆ Squarepan │\n",
       "│            ┆            ┆ underwater ┆ shows     ┆   ┆           ┆           ┆       ┆ ts, Vol.  │\n",
       "│            ┆            ┆ antics of  ┆ Patrick   ┆   ┆           ┆           ┆       ┆ 1         │\n",
       "│            ┆            ┆ SpongeBob  ┆ and       ┆   ┆           ┆           ┆       ┆           │\n",
       "│            ┆            ┆ SquarePant ┆ Squidward ┆   ┆           ┆           ┆       ┆ Descripti │\n",
       "│            ┆            ┆ s on your  ┆ his       ┆   ┆           ┆           ┆       ┆ on: Now   │\n",
       "│            ┆            ┆ Game Boy   ┆ unique    ┆   ┆           ┆           ┆       ┆ you can   │\n",
       "│            ┆            ┆ Advance,   ┆ talent    ┆   ┆           ┆           ┆       ┆ watch the │\n",
       "│            ┆            ┆ with…      ┆ for       ┆   ┆           ┆           ┆       ┆ wild unde │\n",
       "│            ┆            ┆            ┆ blowing   ┆   ┆           ┆           ┆       ┆ rwater    │\n",
       "│            ┆            ┆            ┆ bubbles.  ┆   ┆           ┆           ┆       ┆ antics    │\n",
       "│            ┆            ┆            ┆ Squidward ┆   ┆           ┆           ┆       ┆ of…       │\n",
       "│            ┆            ┆            ┆ …         ┆   ┆           ┆           ┆       ┆           │\n",
       "│ B009C9E8JY ┆ Set of 4   ┆ A set of 4 ┆ Case      ┆ … ┆ 4.8       ┆ 4         ┆       ┆ Product:  │\n",
       "│            ┆ Bullet     ┆ bullet     ┆ Color:    ┆   ┆           ┆           ┆       ┆ Set of 4  │\n",
       "│            ┆ Buttons    ┆ button to  ┆ Silver    ┆   ┆           ┆           ┆       ┆ Bullet    │\n",
       "│            ┆ Nickel+Bra ┆ replace    ┆ Case      ┆   ┆           ┆           ┆       ┆ Buttons   │\n",
       "│            ┆ ss for Pla ┆ all the 4  ┆ Material: ┆   ┆           ┆           ┆       ┆ Nickel+Br │\n",
       "│            ┆ ystation   ┆ buttons    ┆ Nickel    ┆   ┆           ┆           ┆       ┆ ass for   │\n",
       "│            ┆ PS3 PS2    ┆ (Cross,    ┆ Primer    ┆   ┆           ┆           ┆       ┆ Playstati │\n",
       "│            ┆ controller ┆ Square,    ┆ Color:    ┆   ┆           ┆           ┆       ┆ on PS3    │\n",
       "│            ┆ s          ┆ Triangle,  ┆ Bronze    ┆   ┆           ┆           ┆       ┆ PS2 contr │\n",
       "│            ┆            ┆ Circle) of ┆ Primer    ┆   ┆           ┆           ┆       ┆ ollers    │\n",
       "│            ┆            ┆ your PS3 … ┆ Material: ┆   ┆           ┆           ┆       ┆           │\n",
       "│            ┆            ┆            ┆ Brass     ┆   ┆           ┆           ┆       ┆ Descripti │\n",
       "│            ┆            ┆            ┆ Brand of  ┆   ┆           ┆           ┆       ┆ on: A se… │\n",
       "│            ┆            ┆            ┆ ammo s…   ┆   ┆           ┆           ┆       ┆           │\n",
       "└────────────┴────────────┴────────────┴───────────┴───┴───────────┴───────────┴───────┴───────────┘"
      ]
     },
     "execution_count": 24,
     "metadata": {},
     "output_type": "execute_result"
    }
   ],
   "source": [
    "item_df.head()"
   ]
  },
  {
   "cell_type": "code",
   "execution_count": 25,
   "id": "4xk08l53mcs",
   "metadata": {
    "execution": {
     "iopub.execute_input": "2025-07-14T01:08:24.124761Z",
     "iopub.status.busy": "2025-07-14T01:08:24.124712Z",
     "iopub.status.idle": "2025-07-14T01:08:24.811641Z",
     "shell.execute_reply": "2025-07-14T01:08:24.811424Z"
    }
   },
   "outputs": [
    {
     "name": "stdout",
     "output_type": "stream",
     "text": [
      "18:08:24 - Saved filtered sequences to: /Users/eugeneyan/projects/semantic-id/data/output/Video_Games_sequences.parquet (rows = 78,643)\n"
     ]
    },
    {
     "name": "stdout",
     "output_type": "stream",
     "text": [
      "18:08:24 - Saved valid item metadata to: /Users/eugeneyan/projects/semantic-id/data/output/Video_Games_items.parquet (rows = 66,133)\n"
     ]
    }
   ],
   "source": [
    "# Save the filtered sequences with full history\n",
    "output_path = DATA_DIR / \"output\" / f\"{CATEGORY}_sequences.parquet\"\n",
    "df.write_parquet(output_path)\n",
    "logger.info(f\"Saved filtered sequences to: {output_path} (rows = {df.shape[0]:,})\")\n",
    "\n",
    "# Save the valid items metadata\n",
    "metadata_output_path = DATA_DIR / \"output\" / f\"{CATEGORY}_items.parquet\"\n",
    "item_df.write_parquet(metadata_output_path)\n",
    "logger.info(f\"Saved valid item metadata to: {metadata_output_path} (rows = {len(item_df):,})\")"
   ]
  }
 ],
 "metadata": {
  "kernelspec": {
   "display_name": ".venv",
   "language": "python",
   "name": "python3"
  },
  "language_info": {
   "codemirror_mode": {
    "name": "ipython",
    "version": 3
   },
   "file_extension": ".py",
   "mimetype": "text/x-python",
   "name": "python",
   "nbconvert_exporter": "python",
   "pygments_lexer": "ipython3",
   "version": "3.12.7"
  }
 },
 "nbformat": 4,
 "nbformat_minor": 5
}
