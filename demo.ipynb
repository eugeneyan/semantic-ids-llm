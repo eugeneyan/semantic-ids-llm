{
 "cells": [
  {
   "cell_type": "markdown",
   "metadata": {},
   "source": [
    "# Chat with LLM-Recommender Hybrid\n",
    "- Also see writeup here: https://eugeneyan.com/writing/semantic-ids/"
   ]
  },
  {
   "cell_type": "code",
   "execution_count": 1,
   "metadata": {},
   "outputs": [],
   "source": [
    "CATEGORY = \"Video_Games\""
   ]
  },
  {
   "cell_type": "code",
   "execution_count": 4,
   "metadata": {},
   "outputs": [],
   "source": [
    "import logging\n",
    "import re\n",
    "import sys\n",
    "from typing import List\n",
    "\n",
    "import pandas as pd\n",
    "import torch\n",
    "from datasets import load_dataset\n",
    "from transformers import AutoModelForCausalLM, AutoTokenizer, TextStreamer"
   ]
  },
  {
   "cell_type": "code",
   "execution_count": 5,
   "metadata": {},
   "outputs": [],
   "source": [
    "# Create logger with the same format as src/logger.py\n",
    "logger = logging.getLogger(\"hf-chat\")\n",
    "logger.setLevel(logging.INFO)\n",
    "handler = logging.StreamHandler(sys.stdout)\n",
    "handler.setFormatter(logging.Formatter(\"%(asctime)s - %(message)s\", datefmt=\"%H:%M:%S\"))\n",
    "logger.addHandler(handler)\n",
    "logger.propagate = False  # Prevent duplicate messages"
   ]
  },
  {
   "cell_type": "code",
   "execution_count": 6,
   "metadata": {},
   "outputs": [
    {
     "name": "stdout",
     "output_type": "stream",
     "text": [
      "09:07:56 - Using device: mps\n"
     ]
    }
   ],
   "source": [
    "# Device selection\n",
    "device = \"cpu\"\n",
    "if torch.cuda.is_available():\n",
    "    device = \"cuda\"\n",
    "elif hasattr(torch.backends, \"mps\") and torch.backends.mps.is_available():\n",
    "    device = \"mps\"\n",
    "logger.info(f\"Using device: {device}\")"
   ]
  },
  {
   "cell_type": "markdown",
   "metadata": {},
   "source": [
    "## Load Model and Dataset from Hugging Face Hub"
   ]
  },
  {
   "cell_type": "code",
   "execution_count": 7,
   "metadata": {},
   "outputs": [
    {
     "name": "stdout",
     "output_type": "stream",
     "text": [
      "09:08:01 - Loading from repositories:\n",
      "09:08:01 -   Dataset: eugeneyan/video-games-semantic-ids-mapping\n",
      "09:08:01 -   Model: eugeneyan/semantic-id-qwen3-8b-video-games\n"
     ]
    }
   ],
   "source": [
    "# Define repository names based on category\n",
    "category_lower = CATEGORY.lower().replace(\"_\", \"-\")\n",
    "\n",
    "# Repository names\n",
    "MAPPING_REPO = f\"eugeneyan/{category_lower}-semantic-ids-mapping\"\n",
    "MODEL_REPO = f\"eugeneyan/semantic-id-qwen3-8b-{category_lower}\"\n",
    "\n",
    "logger.info(\"Loading from repositories:\")\n",
    "logger.info(f\"  Dataset: {MAPPING_REPO}\")\n",
    "logger.info(f\"  Model: {MODEL_REPO}\")"
   ]
  },
  {
   "cell_type": "code",
   "execution_count": 8,
   "metadata": {},
   "outputs": [
    {
     "name": "stdout",
     "output_type": "stream",
     "text": [
      "09:08:10 - ✓ Loaded 66,097 products with semantic IDs and titles\n",
      "09:08:10 - Columns: ['parent_asin', 'semantic_id', 'title']\n"
     ]
    },
    {
     "data": {
      "text/html": [
       "<div>\n",
       "<style scoped>\n",
       "    .dataframe tbody tr th:only-of-type {\n",
       "        vertical-align: middle;\n",
       "    }\n",
       "\n",
       "    .dataframe tbody tr th {\n",
       "        vertical-align: top;\n",
       "    }\n",
       "\n",
       "    .dataframe thead th {\n",
       "        text-align: right;\n",
       "    }\n",
       "</style>\n",
       "<table border=\"1\" class=\"dataframe\">\n",
       "  <thead>\n",
       "    <tr style=\"text-align: right;\">\n",
       "      <th></th>\n",
       "      <th>parent_asin</th>\n",
       "      <th>semantic_id</th>\n",
       "      <th>title</th>\n",
       "    </tr>\n",
       "  </thead>\n",
       "  <tbody>\n",
       "    <tr>\n",
       "      <th>0</th>\n",
       "      <td>B000FH0MHO</td>\n",
       "      <td>&lt;|sid_start|&gt;&lt;|sid_32|&gt;&lt;|sid_486|&gt;&lt;|sid_636|&gt;&lt;...</td>\n",
       "      <td>Dash 8-300 Professional Add-On</td>\n",
       "    </tr>\n",
       "    <tr>\n",
       "      <th>1</th>\n",
       "      <td>B00Z9TLVK0</td>\n",
       "      <td>&lt;|sid_start|&gt;&lt;|sid_188|&gt;&lt;|sid_400|&gt;&lt;|sid_518|&gt;...</td>\n",
       "      <td>NBA 2K17 - Early Tip Off Edition - PlayStation 4</td>\n",
       "    </tr>\n",
       "    <tr>\n",
       "      <th>2</th>\n",
       "      <td>B002WH4ZJG</td>\n",
       "      <td>&lt;|sid_start|&gt;&lt;|sid_198|&gt;&lt;|sid_262|&gt;&lt;|sid_684|&gt;...</td>\n",
       "      <td>Thrustmaster Elite Fitness Pack for Nintendo Wii</td>\n",
       "    </tr>\n",
       "    <tr>\n",
       "      <th>3</th>\n",
       "      <td>B0001ZNU56</td>\n",
       "      <td>&lt;|sid_start|&gt;&lt;|sid_65|&gt;&lt;|sid_483|&gt;&lt;|sid_757|&gt;&lt;...</td>\n",
       "      <td>Spongebob Squarepants, Vol. 1</td>\n",
       "    </tr>\n",
       "    <tr>\n",
       "      <th>4</th>\n",
       "      <td>B009C9E8JY</td>\n",
       "      <td>&lt;|sid_start|&gt;&lt;|sid_154|&gt;&lt;|sid_414|&gt;&lt;|sid_585|&gt;...</td>\n",
       "      <td>Set of 4 Bullet Buttons Nickel+Brass for Plays...</td>\n",
       "    </tr>\n",
       "  </tbody>\n",
       "</table>\n",
       "</div>"
      ],
      "text/plain": [
       "  parent_asin                                        semantic_id  \\\n",
       "0  B000FH0MHO  <|sid_start|><|sid_32|><|sid_486|><|sid_636|><...   \n",
       "1  B00Z9TLVK0  <|sid_start|><|sid_188|><|sid_400|><|sid_518|>...   \n",
       "2  B002WH4ZJG  <|sid_start|><|sid_198|><|sid_262|><|sid_684|>...   \n",
       "3  B0001ZNU56  <|sid_start|><|sid_65|><|sid_483|><|sid_757|><...   \n",
       "4  B009C9E8JY  <|sid_start|><|sid_154|><|sid_414|><|sid_585|>...   \n",
       "\n",
       "                                               title  \n",
       "0                     Dash 8-300 Professional Add-On  \n",
       "1   NBA 2K17 - Early Tip Off Edition - PlayStation 4  \n",
       "2   Thrustmaster Elite Fitness Pack for Nintendo Wii  \n",
       "3                      Spongebob Squarepants, Vol. 1  \n",
       "4  Set of 4 Bullet Buttons Nickel+Brass for Plays...  "
      ]
     },
     "execution_count": 8,
     "metadata": {},
     "output_type": "execute_result"
    }
   ],
   "source": [
    "# Load the dataset from Hugging Face Hub\n",
    "dataset = load_dataset(MAPPING_REPO, split=\"train\")\n",
    "mapping_df = dataset.to_pandas()\n",
    "\n",
    "logger.info(f\"✓ Loaded {len(mapping_df):,} products with semantic IDs and titles\")\n",
    "logger.info(f\"Columns: {list(mapping_df.columns)}\")\n",
    "mapping_df.head()"
   ]
  },
  {
   "cell_type": "code",
   "execution_count": 9,
   "metadata": {},
   "outputs": [
    {
     "name": "stdout",
     "output_type": "stream",
     "text": [
      "09:08:11 - Loading model from eugeneyan/semantic-id-qwen3-8b-video-games...\n",
      "09:08:11 - This may take a few minutes for the initial download (~16GB)\n"
     ]
    },
    {
     "data": {
      "application/vnd.jupyter.widget-view+json": {
       "model_id": "3e3713cfc836471e98d95c70179acbee",
       "version_major": 2,
       "version_minor": 0
      },
      "text/plain": [
       "Loading checkpoint shards:   0%|          | 0/4 [00:00<?, ?it/s]"
      ]
     },
     "metadata": {},
     "output_type": "display_data"
    },
    {
     "name": "stdout",
     "output_type": "stream",
     "text": [
      "09:08:14 - ✓ Model loaded successfully\n",
      "09:08:14 - Model device: mps:0\n"
     ]
    }
   ],
   "source": [
    "# Load model and tokenizer from Hugging Face Hub\n",
    "logger.info(f\"Loading model from {MODEL_REPO}...\")\n",
    "logger.info(\"This may take a few minutes for the initial download (~16GB)\")\n",
    "\n",
    "model = AutoModelForCausalLM.from_pretrained(\n",
    "    MODEL_REPO, torch_dtype=torch.bfloat16, device_map=device, trust_remote_code=True\n",
    ")\n",
    "\n",
    "tokenizer = AutoTokenizer.from_pretrained(\n",
    "    MODEL_REPO,\n",
    "    trust_remote_code=True,\n",
    "    padding_side=\"left\",  # Important for generation\n",
    ")\n",
    "\n",
    "# Ensure tokenizer has pad token\n",
    "if tokenizer.pad_token is None:\n",
    "    tokenizer.pad_token = tokenizer.eos_token\n",
    "\n",
    "logger.info(\"✓ Model loaded successfully\")\n",
    "logger.info(f\"Model device: {next(model.parameters()).device}\")"
   ]
  },
  {
   "cell_type": "markdown",
   "metadata": {},
   "source": [
    "## Helper Functions"
   ]
  },
  {
   "cell_type": "code",
   "execution_count": 10,
   "metadata": {},
   "outputs": [],
   "source": [
    "def parse_semantic_id(semantic_id: str) -> List[str]:\n",
    "    \"\"\"\n",
    "    Parse a semantic ID string into its component levels.\n",
    "\n",
    "    Example input: '<|sid_start|><|sid_127|><|sid_45|><|sid_89|><|sid_12|><|sid_end|>'\n",
    "    Returns: ['<|sid_127|>', '<|sid_45|>', '<|sid_89|>', '<|sid_12|>']\n",
    "    \"\"\"\n",
    "    # Remove start and end tokens\n",
    "    sid = semantic_id.replace(\"<|sid_start|>\", \"\").replace(\"<|sid_end|>\", \"\")\n",
    "\n",
    "    # Extract all sid tokens\n",
    "    pattern = r\"<\\|sid_\\d+\\|>\"\n",
    "    levels = re.findall(pattern, sid)\n",
    "\n",
    "    return levels\n",
    "\n",
    "\n",
    "def map_semantic_id_to_titles(semantic_id_str: str, mapping_df: pd.DataFrame) -> dict:\n",
    "    \"\"\"\n",
    "    Map a semantic ID to titles with 4-token exact match and 3-token fallback.\n",
    "\n",
    "    Returns:\n",
    "        dict with 'match_level', 'titles', and 'count' keys\n",
    "    \"\"\"\n",
    "    # Parse the input semantic ID\n",
    "    levels = parse_semantic_id(semantic_id_str)\n",
    "\n",
    "    if not levels:\n",
    "        return {\"match_level\": 0, \"titles\": [], \"count\": 0}\n",
    "\n",
    "    # First try exact match (all 4 tokens)\n",
    "    exact_matches = mapping_df[mapping_df[\"semantic_id\"] == semantic_id_str]\n",
    "    if len(exact_matches) > 0:\n",
    "        titles = exact_matches[\"title\"].tolist()\n",
    "        return {\"match_level\": 4, \"titles\": titles, \"count\": len(titles), \"match_type\": \"exact\"}\n",
    "\n",
    "    # Fallback to prefix matching (3 tokens, then 2, then 1)\n",
    "    for depth in range(min(3, len(levels)), 0, -1):\n",
    "        # Build the prefix for this depth\n",
    "        prefix = \"<|sid_start|>\" + \"\".join(levels[:depth])\n",
    "\n",
    "        # Find matches\n",
    "        matches = mapping_df[mapping_df[\"semantic_id\"].str.startswith(prefix)]\n",
    "\n",
    "        if len(matches) > 0:\n",
    "            # Found matches at this level\n",
    "            titles = matches[\"title\"].tolist()\n",
    "            return {\n",
    "                \"match_level\": depth,\n",
    "                \"titles\": titles[:5],  # Limit to 5 for display\n",
    "                \"count\": len(titles),\n",
    "                \"match_type\": \"prefix\",\n",
    "                \"prefix_used\": prefix,\n",
    "            }\n",
    "\n",
    "    # No matches found at any level\n",
    "    return {\"match_level\": 0, \"titles\": [], \"count\": 0, \"match_type\": \"none\"}"
   ]
  },
  {
   "cell_type": "code",
   "execution_count": 11,
   "metadata": {},
   "outputs": [],
   "source": [
    "def extract_semantic_ids_from_text(text: str) -> List[str]:\n",
    "    \"\"\"\n",
    "    Extract all semantic IDs from a text string.\n",
    "\n",
    "    Returns list of full semantic IDs found in the text.\n",
    "    \"\"\"\n",
    "    # Pattern to match complete semantic IDs\n",
    "    pattern = r\"<\\|sid_start\\|>(?:<\\|sid_\\d+\\|>)+<\\|sid_end\\|>\"\n",
    "    semantic_ids = re.findall(pattern, text)\n",
    "    return semantic_ids\n",
    "\n",
    "\n",
    "def replace_semantic_ids_with_titles(text: str, mapping_df: pd.DataFrame = None, show_match_level: bool = True) -> str:\n",
    "    \"\"\"\n",
    "    Replace all semantic IDs in text with their corresponding titles.\n",
    "\n",
    "    Args:\n",
    "        text: Input text containing semantic IDs\n",
    "        mapping_df: DataFrame with semantic_id to title mapping\n",
    "        show_match_level: Whether to append match info after the title\n",
    "\n",
    "    Returns:\n",
    "        Text with semantic IDs replaced by titles\n",
    "    \"\"\"\n",
    "    if mapping_df is None:\n",
    "        mapping_df = globals().get(\"mapping_df\")\n",
    "        if mapping_df is None:\n",
    "            raise ValueError(\"No mapping_df provided or found in global scope\")\n",
    "\n",
    "    # Find all semantic IDs in the text\n",
    "    semantic_ids = extract_semantic_ids_from_text(text)\n",
    "\n",
    "    # Create a copy of the text to modify\n",
    "    result_text = text\n",
    "\n",
    "    # Replace each semantic ID with its title(s)\n",
    "    for sid in semantic_ids:\n",
    "        # Get matching titles\n",
    "        match_result = map_semantic_id_to_titles(sid, mapping_df)\n",
    "\n",
    "        if match_result[\"count\"] > 0:\n",
    "            # Use the first title if multiple matches\n",
    "            title = match_result[\"titles\"][0]\n",
    "\n",
    "            # Add match level if requested\n",
    "            if show_match_level:\n",
    "                if match_result[\"match_type\"] == \"exact\":\n",
    "                    replacement = f'\"{title}\"'\n",
    "                else:\n",
    "                    replacement = f'\"{title}\" (L{match_result[\"match_level\"]} match)'\n",
    "            else:\n",
    "                replacement = f'\"{title}\"'\n",
    "\n",
    "            # If multiple matches, indicate this\n",
    "            if match_result[\"count\"] > 1:\n",
    "                replacement += f\" [+{match_result['count'] - 1} similar]\"\n",
    "        else:\n",
    "            # No match found\n",
    "            replacement = \"[Unknown Item]\"\n",
    "\n",
    "        # Replace the semantic ID with the title\n",
    "        result_text = result_text.replace(sid, replacement)\n",
    "\n",
    "    return result_text"
   ]
  },
  {
   "cell_type": "markdown",
   "metadata": {},
   "source": [
    "## How a Semantic ID looks like"
   ]
  },
  {
   "cell_type": "code",
   "execution_count": 24,
   "metadata": {},
   "outputs": [
    {
     "name": "stdout",
     "output_type": "stream",
     "text": [
      "09:08:39 - Item Name: LEGO Marvel's Avengers - Xbox 360 Digital Code\n",
      "09:08:39 - Regular ID: B01AYMN0DM\n",
      "09:08:39 - Semantic ID: <|sid_start|><|sid_220|><|sid_277|><|sid_739|><|sid_768|><|sid_end|>\n",
      "09:08:39 - Semantic ID as tokens: [151670, 151892, 151949, 152411, 152440, 151671]\n"
     ]
    }
   ],
   "source": [
    "item = mapping_df.sample(1)\n",
    "title = item['title'].item()\n",
    "logger.info(f\"Item Name: {title if len(title) < 80 else title[:80] + '...'}\")\n",
    "logger.info(f\"Regular ID: {item['parent_asin'].item()}\")\n",
    "semantic_id_tokens = tokenizer.encode(item['semantic_id'].item())\n",
    "logger.info(f\"Semantic ID: {item['semantic_id'].item()}\")\n",
    "logger.info(f\"Semantic ID as tokens: {semantic_id_tokens}\")"
   ]
  },
  {
   "cell_type": "markdown",
   "metadata": {},
   "source": [
    "## Chat with Model"
   ]
  },
  {
   "cell_type": "code",
   "execution_count": 25,
   "metadata": {},
   "outputs": [],
   "source": [
    "GLOBAL_MESSAGES = []\n",
    "SYSTEM_PROMPT = \"\"\"\n",
    "Qwen, you are a helpful AI assistant that understands and works with semantic IDs for product recommendations.\n",
    "\n",
    "Semantic IDs are hierarchical identifiers in the format <|sid_start|><|sid_0|><|sid_256|><|sid_512|><|sid_768|><|sid_end|> that encode product information and relationships.\n",
    "\"\"\".strip()"
   ]
  },
  {
   "cell_type": "code",
   "execution_count": 26,
   "metadata": {},
   "outputs": [],
   "source": [
    "def clean_output(text: str) -> str:\n",
    "    \"\"\"Remove known special tokens from output.\"\"\"\n",
    "    special_tokens = [\"<think>\", \"</think>\", \"<|im_end|>\", \"<|im_start|>\", \"<|endoftext|>\"]\n",
    "    for token in special_tokens:\n",
    "        text = text.replace(token, \"\")\n",
    "    return text.strip()\n",
    "\n",
    "\n",
    "def chat(\n",
    "    text_input: str,\n",
    "    new_convo: bool = True,\n",
    "    temperature: float = 0.3,\n",
    "    max_new_tokens: int = 512,\n",
    "    stream: bool = True,\n",
    "    mapping_df: pd.DataFrame = None,\n",
    ") -> str:\n",
    "    \"\"\"\n",
    "    Chat with the model, maintaining conversation history in GLOBAL_MESSAGES.\n",
    "\n",
    "    Args:\n",
    "        text_input: User input text\n",
    "        new_convo: If True, clear global message history for a fresh start\n",
    "        temperature: Generation temperature\n",
    "        max_new_tokens: Maximum tokens to generate\n",
    "        stream: Whether to stream output\n",
    "        mapping_df: DataFrame for semantic ID mapping\n",
    "\n",
    "    Returns:\n",
    "        Generated response text\n",
    "    \"\"\"\n",
    "    global GLOBAL_MESSAGES\n",
    "\n",
    "    if mapping_df is None:\n",
    "        mapping_df = globals().get(\"mapping_df\")\n",
    "\n",
    "    # Handle conversation history\n",
    "    if new_convo:\n",
    "        GLOBAL_MESSAGES = []\n",
    "    else:\n",
    "        # Display previous conversation turns if continuing\n",
    "        if GLOBAL_MESSAGES:\n",
    "            logger.info(f\"{'=' * 41} Conversation History {'=' * 41}\")\n",
    "            for i, msg in enumerate(GLOBAL_MESSAGES, 1):\n",
    "                role = msg[\"role\"].upper()\n",
    "                content = replace_semantic_ids_with_titles(msg[\"content\"], mapping_df)\n",
    "                logger.info(f\"[Turn {(i+1)//2}] {role}: {content}\")\n",
    "            logger.info(f\"{'=' * 35} Current Turn {'=' * 35}\")\n",
    "\n",
    "    GLOBAL_MESSAGES.append({\"role\": \"user\", \"content\": text_input})\n",
    "\n",
    "    # Build messages with system prompt\n",
    "    messages = [{\"role\": \"system\", \"content\": SYSTEM_PROMPT}] + GLOBAL_MESSAGES\n",
    "\n",
    "    # Log input with readable semantic IDs\n",
    "    readable_input = replace_semantic_ids_with_titles(text_input, mapping_df)\n",
    "    logger.info(f\"USER: {readable_input}\")\n",
    "    logger.info(f\"{'=' * 20} START RAW MODEL OUTPUT (WITH SEMANTIC IDS) {'=' * 20}\")\n",
    "\n",
    "    # Prepare input for model\n",
    "    text = tokenizer.apply_chat_template(messages, tokenize=False, add_generation_prompt=True)\n",
    "    inputs = tokenizer(text, return_tensors=\"pt\").to(model.device)\n",
    "\n",
    "    # Generate response\n",
    "    streamer = TextStreamer(tokenizer, skip_prompt=True) if stream else None\n",
    "\n",
    "    with torch.no_grad():\n",
    "        output = model.generate(\n",
    "            **inputs,\n",
    "            max_new_tokens=max_new_tokens,\n",
    "            temperature=temperature,\n",
    "            top_p=0.7,\n",
    "            top_k=20,\n",
    "            do_sample=True,\n",
    "            pad_token_id=tokenizer.pad_token_id,\n",
    "            eos_token_id=tokenizer.eos_token_id,\n",
    "            streamer=streamer,\n",
    "        )\n",
    "\n",
    "    # Decode only the newly generated tokens\n",
    "    input_length = inputs[\"input_ids\"].shape[1]\n",
    "    generated_tokens = output[:, input_length:]\n",
    "    generated_text = tokenizer.decode(generated_tokens[0], skip_special_tokens=True)\n",
    "\n",
    "    # Clean output\n",
    "    generated_text = clean_output(generated_text)\n",
    "\n",
    "    # Add to conversation history\n",
    "    GLOBAL_MESSAGES.append({\"role\": \"assistant\", \"content\": generated_text})\n",
    "\n",
    "    # Log output with readable semantic IDs\n",
    "    logger.info(f\"{'=' * 21} END RAW MODEL OUTPUT (WITH SEMANTIC IDS) {'=' * 21}\")\n",
    "    readable_output = replace_semantic_ids_with_titles(generated_text, mapping_df)\n",
    "    logger.info(f\"ASSISTANT: {readable_output}\")\n",
    "\n",
    "    return generated_text"
   ]
  },
  {
   "cell_type": "markdown",
   "metadata": {},
   "source": [
    "## Single-Turn Conversations"
   ]
  },
  {
   "cell_type": "code",
   "execution_count": 27,
   "metadata": {},
   "outputs": [
    {
     "name": "stdout",
     "output_type": "stream",
     "text": [
      "09:10:23 - USER: User: \"Halo 3 Limited Edition -Xbox 360\", \"Lost Planet: Extreme Condition - Xbox 360\", \"Lost Planet: Extreme Condition Collector's Edition (Amazon.com Exclusive Cell Included) -Xbox 360\"\n",
      "<|rec|>\n",
      "09:10:23 - ==================== START RAW MODEL OUTPUT (WITH SEMANTIC IDS) ====================\n",
      "<|sid_start|><|sid_64|><|sid_351|><|sid_733|><|sid_768|><|sid_end|><|im_end|>\n",
      "09:10:24 - ===================== END RAW MODEL OUTPUT (WITH SEMANTIC IDS) =====================\n",
      "09:10:24 - ASSISTANT: \"Mass Effect - Xbox 360\"\n"
     ]
    }
   ],
   "source": [
    "# Provide input of user past interactions and get recommendation\n",
    "INPUT = \"\"\"User: <|sid_start|><|sid_64|><|sid_313|><|sid_637|><|sid_768|><|sid_end|>, <|sid_start|><|sid_64|><|sid_447|><|sid_706|><|sid_768|><|sid_end|>, <|sid_start|><|sid_64|><|sid_355|><|sid_734|><|sid_768|><|sid_end|>\\n<|rec|>\"\"\".strip()\n",
    "response = chat(INPUT)"
   ]
  },
  {
   "cell_type": "code",
   "execution_count": 28,
   "metadata": {},
   "outputs": [
    {
     "name": "stdout",
     "output_type": "stream",
     "text": [
      "09:10:40 - USER: Customers who bought \"New Super Mario Bros. 2\" also bought:\n",
      "<|rec|>\n",
      "09:10:40 - ==================== START RAW MODEL OUTPUT (WITH SEMANTIC IDS) ====================\n",
      "<|sid_start|><|sid_201|><|sid_396|><|sid_608|><|sid_769|><|sid_end|><|im_end|>\n",
      "09:10:41 - ===================== END RAW MODEL OUTPUT (WITH SEMANTIC IDS) =====================\n",
      "09:10:41 - ASSISTANT: \"The Legend of Zelda: Ocarina of Time 3D\"\n"
     ]
    }
   ],
   "source": [
    "# Provide input of single past item and get similar item\n",
    "INPUT = \"\"\"Customers who bought <|sid_start|><|sid_201|><|sid_311|><|sid_758|><|sid_768|><|sid_end|> also bought:\\n<|rec|>\"\"\".strip()\n",
    "response = chat(INPUT)"
   ]
  },
  {
   "cell_type": "code",
   "execution_count": 29,
   "metadata": {},
   "outputs": [
    {
     "name": "stdout",
     "output_type": "stream",
     "text": [
      "09:10:58 - USER: Recommend Xbox games similar to \"The Legend of Zelda: Ocarina of Time 3D\":\n",
      "<|rec|>\n",
      "09:10:58 - ==================== START RAW MODEL OUTPUT (WITH SEMANTIC IDS) ====================\n",
      "<think>\n",
      "\n",
      "</think>\n",
      "\n",
      "<|sid_start|><|sid_64|><|sid_271|><|sid_576|><|sid_768|><|sid_end|>, <|sid_start|><|sid_64|><|sid_271|><|sid_576|><|sid_768|><|sid_end|>, <|sid_start|><|sid_64|><|sid_435|><|sid_615|><|sid_768|><|sid_end|><|im_end|>\n",
      "09:11:00 - ===================== END RAW MODEL OUTPUT (WITH SEMANTIC IDS) =====================\n",
      "09:11:00 - ASSISTANT: \"Fallout: New Vegas - Xbox 360 Ultimate Edition\", \"Fallout: New Vegas - Xbox 360 Ultimate Edition\", \"Halo 4 - Xbox 360 (Standard Game)\"\n"
     ]
    }
   ],
   "source": [
    "# Steering recommendations given an item and attribute (Xbox)\n",
    "INPUT = \"\"\"Recommend Xbox games similar to <|sid_start|><|sid_201|><|sid_396|><|sid_608|><|sid_769|><|sid_end|>:\\n<|rec|>\"\"\".strip()\n",
    "response = chat(INPUT)"
   ]
  },
  {
   "cell_type": "code",
   "execution_count": 30,
   "metadata": {},
   "outputs": [
    {
     "name": "stdout",
     "output_type": "stream",
     "text": [
      "09:11:21 - USER: Recommend PS4 games similar to \"The Legend of Zelda: Ocarina of Time 3D\":\n",
      "<|rec|>\n",
      "09:11:21 - ==================== START RAW MODEL OUTPUT (WITH SEMANTIC IDS) ====================\n",
      "<think>\n",
      "\n",
      "</think>\n",
      "\n",
      "<|sid_start|><|sid_139|><|sid_356|><|sid_594|><|sid_768|><|sid_end|>, <|sid_start|><|sid_139|><|sid_425|><|sid_652|><|sid_768|><|sid_end|>, <|sid_start|><|sid_139|><|sid_499|><|sid_524|><|sid_768|><|sid_end|><|im_end|>\n",
      "09:11:23 - ===================== END RAW MODEL OUTPUT (WITH SEMANTIC IDS) =====================\n",
      "09:11:23 - ASSISTANT: \"Final Fantasy XV Deluxe Edition - PlayStation 4\", \"Bloodborne Collectors Edition - PlayStation 4\", \"UNCHARTED: The Nathan Drake Collection - PlayStation 4\"\n"
     ]
    }
   ],
   "source": [
    "# Steering recommendations given an item and attribute (Playstation)\n",
    "INPUT = \"\"\"Recommend PS4 games similar to <|sid_start|><|sid_201|><|sid_396|><|sid_608|><|sid_769|><|sid_end|>:\\n<|rec|>\"\"\".strip()\n",
    "response = chat(INPUT)"
   ]
  },
  {
   "cell_type": "code",
   "execution_count": 31,
   "metadata": {},
   "outputs": [
    {
     "name": "stdout",
     "output_type": "stream",
     "text": [
      "09:11:35 - USER: I like scifi and action games.\n",
      "<|rec|>\n",
      "09:11:35 - ==================== START RAW MODEL OUTPUT (WITH SEMANTIC IDS) ====================\n",
      "<think>\n",
      "\n",
      "</think>\n",
      "\n",
      "<|sid_start|><|sid_64|><|sid_313|><|sid_637|><|sid_768|><|sid_end|>, <|sid_start|><|sid_219|><|sid_274|><|sid_534|><|sid_768|><|sid_end|>, <|sid_start|><|sid_64|><|sid_447|><|sid_706|><|sid_768|><|sid_end|><|im_end|>\n",
      "09:11:37 - ===================== END RAW MODEL OUTPUT (WITH SEMANTIC IDS) =====================\n",
      "09:11:37 - ASSISTANT: \"Halo 3 Limited Edition -Xbox 360\", \"Borderlands Ultimate Edition - PS3 [Digital Code]\", \"Lost Planet: Extreme Condition - Xbox 360\"\n"
     ]
    }
   ],
   "source": [
    "# Provide natural language chat input and get item recommendations\n",
    "INPUT = \"\"\"I like scifi and action games.\\n<|rec|>\"\"\".strip()\n",
    "response = chat(INPUT)"
   ]
  },
  {
   "cell_type": "code",
   "execution_count": 32,
   "metadata": {},
   "outputs": [
    {
     "name": "stdout",
     "output_type": "stream",
     "text": [
      "09:11:51 - USER: I like animal and cute games.\n",
      "<|rec|>\n",
      "09:11:51 - ==================== START RAW MODEL OUTPUT (WITH SEMANTIC IDS) ====================\n",
      "<think>\n",
      "\n",
      "</think>\n",
      "\n",
      "<|sid_start|><|sid_173|><|sid_324|><|sid_764|><|sid_768|><|sid_end|>, <|sid_start|><|sid_201|><|sid_397|><|sid_738|><|sid_769|><|sid_end|>, <|sid_start|><|sid_173|><|sid_305|><|sid_670|><|sid_768|><|sid_end|><|im_end|>\n",
      "09:11:53 - ===================== END RAW MODEL OUTPUT (WITH SEMANTIC IDS) =====================\n",
      "09:11:53 - ASSISTANT: \"Animal Crossing: New Leaf\", \"Disney Magical World - Nintendo 3DS\", \"Nintendogs + Cats: Golden Retriever and New Friends\"\n"
     ]
    }
   ],
   "source": [
    "# Provide natural language chat input and get item recommendations\n",
    "INPUT = \"\"\"I like animal and cute games.\\n<|rec|>\"\"\".strip()\n",
    "response = chat(INPUT)"
   ]
  },
  {
   "cell_type": "code",
   "execution_count": 33,
   "metadata": {},
   "outputs": [
    {
     "name": "stdout",
     "output_type": "stream",
     "text": [
      "09:12:16 - USER: I just finished \"Dragon Quest Heroes II Explorer's Edition - PlayStation 4\". Suggest another <|rec|> and explain why:\n",
      "09:12:16 - ==================== START RAW MODEL OUTPUT (WITH SEMANTIC IDS) ====================\n",
      "<think>\n",
      "\n",
      "</think>\n",
      "\n",
      "<|sid_start|><|sid_139|><|sid_289|><|sid_534|><|sid_768|><|sid_end|>\n",
      "\n",
      "If you liked Dragon Quest Heroes II, you might like Nights of Azure because both are action RPGs for the PlayStation 4 with a focus on combat and character progression. Both games offer a fantasy setting with a strong narrative, appealing to players who enjoy immersive storytelling and engaging gameplay mechanics within the same console ecosystem.<|im_end|>\n",
      "09:12:22 - ===================== END RAW MODEL OUTPUT (WITH SEMANTIC IDS) =====================\n",
      "09:12:22 - ASSISTANT: \"Nights of Azure - PlayStation 4\"\n",
      "\n",
      "If you liked Dragon Quest Heroes II, you might like Nights of Azure because both are action RPGs for the PlayStation 4 with a focus on combat and character progression. Both games offer a fantasy setting with a strong narrative, appealing to players who enjoy immersive storytelling and engaging gameplay mechanics within the same console ecosystem.\n"
     ]
    }
   ],
   "source": [
    "# Provide item to get recommendation and explanation\n",
    "INPUT = \"\"\"I just finished <|sid_start|><|sid_125|><|sid_417|><|sid_656|><|sid_768|><|sid_end|>. Suggest another <|rec|> and explain why:\"\"\".strip()\n",
    "response = chat(INPUT)"
   ]
  },
  {
   "cell_type": "code",
   "execution_count": 34,
   "metadata": {},
   "outputs": [
    {
     "name": "stdout",
     "output_type": "stream",
     "text": [
      "09:12:45 - USER: Suggest a name and description for a bundle of \"Resistance 2 Collector's Edition - Playstation 3\", \"PS3 Killzone Trilogy Collection - 2 Disc\", \"The Last of Us - PlayStation 3\"\n",
      "09:12:45 - ==================== START RAW MODEL OUTPUT (WITH SEMANTIC IDS) ====================\n",
      "<think>\n",
      "\n",
      "</think>\n",
      "\n",
      "PS3 Action & Survival Shooter Essentials: Experience intense first-person and third-person shooter action with these critically acclaimed PS3 titles, offering immersive storytelling and thrilling combat.<|im_end|>\n",
      "09:12:48 - ===================== END RAW MODEL OUTPUT (WITH SEMANTIC IDS) =====================\n",
      "09:12:48 - ASSISTANT: PS3 Action & Survival Shooter Essentials: Experience intense first-person and third-person shooter action with these critically acclaimed PS3 titles, offering immersive storytelling and thrilling combat.\n"
     ]
    }
   ],
   "source": [
    "# Provide list of items and get suggested bundle title and description\n",
    "INPUT = \"\"\"Suggest a name and description for a bundle of <|sid_start|><|sid_8|><|sid_454|><|sid_630|><|sid_768|><|sid_end|>, <|sid_start|><|sid_219|><|sid_453|><|sid_620|><|sid_768|><|sid_end|>, <|sid_start|><|sid_219|><|sid_469|><|sid_585|><|sid_768|><|sid_end|>\"\"\".strip()\n",
    "response = chat(INPUT)"
   ]
  },
  {
   "cell_type": "markdown",
   "metadata": {},
   "source": [
    "## Multi-Turn Conversations"
   ]
  },
  {
   "cell_type": "code",
   "execution_count": 35,
   "metadata": {},
   "outputs": [
    {
     "name": "stdout",
     "output_type": "stream",
     "text": [
      "09:13:17 - USER: I'm looking for games similar to Mario Kart. <|rec|>\n",
      "09:13:17 - ==================== START RAW MODEL OUTPUT (WITH SEMANTIC IDS) ====================\n",
      "<think>\n",
      "\n",
      "</think>\n",
      "\n",
      "<|sid_start|><|sid_131|><|sid_503|><|sid_738|><|sid_768|><|sid_end|>, <|sid_start|><|sid_131|><|sid_260|><|sid_577|><|sid_768|><|sid_end|>, <|sid_start|><|sid_145|><|sid_416|><|sid_671|><|sid_768|><|sid_end|><|im_end|>\n",
      "09:13:19 - ===================== END RAW MODEL OUTPUT (WITH SEMANTIC IDS) =====================\n",
      "09:13:19 - ASSISTANT: \"Need for Speed Most Wanted - Sony PSP\", \"Need for Speed Hot Pursuit 2 - PlayStation 2\", \"Burnout Legends - Nintendo DS\"\n"
     ]
    }
   ],
   "source": [
    "# 1st turn: Ask for games similar to Mario Kart\n",
    "INPUT = \"I'm looking for games similar to Mario Kart. <|rec|>\"\n",
    "response1 = chat(INPUT)"
   ]
  },
  {
   "cell_type": "code",
   "execution_count": 36,
   "metadata": {},
   "outputs": [
    {
     "name": "stdout",
     "output_type": "stream",
     "text": [
      "09:13:34 - ========================================= Conversation History =========================================\n",
      "09:13:34 - [Turn 1] USER: I'm looking for games similar to Mario Kart. <|rec|>\n",
      "09:13:34 - [Turn 1] ASSISTANT: \"Need for Speed Most Wanted - Sony PSP\", \"Need for Speed Hot Pursuit 2 - PlayStation 2\", \"Burnout Legends - Nintendo DS\"\n",
      "09:13:34 - =================================== Current Turn ===================================\n",
      "09:13:34 - USER: How about something similar but for Xbox? <|rec|>\n",
      "09:13:34 - ==================== START RAW MODEL OUTPUT (WITH SEMANTIC IDS) ====================\n",
      "<think>\n",
      "\n",
      "</think>\n",
      "\n",
      "<|sid_start|><|sid_183|><|sid_461|><|sid_517|><|sid_768|><|sid_end|>, <|sid_start|><|sid_183|><|sid_461|><|sid_562|><|sid_768|><|sid_end|>, <|sid_start|><|sid_183|><|sid_461|><|sid_616|><|sid_768|><|sid_end|><|im_end|>\n",
      "09:13:36 - ===================== END RAW MODEL OUTPUT (WITH SEMANTIC IDS) =====================\n",
      "09:13:36 - ASSISTANT: \"Need for Speed Carbon - Xbox 360\", \"Project Gotham Racing 3 - Xbox 360\", \"Forza Motorsport 4 - Xbox 360\"\n"
     ]
    }
   ],
   "source": [
    "# 2nd turn: Tweak it for Xbox\n",
    "INPUT = \"How about something similar but for Xbox? <|rec|>\"\n",
    "response2 = chat(INPUT, new_convo=False)"
   ]
  },
  {
   "cell_type": "code",
   "execution_count": 37,
   "metadata": {},
   "outputs": [
    {
     "name": "stdout",
     "output_type": "stream",
     "text": [
      "09:13:51 - ========================================= Conversation History =========================================\n",
      "09:13:51 - [Turn 1] USER: I'm looking for games similar to Mario Kart. <|rec|>\n",
      "09:13:51 - [Turn 1] ASSISTANT: \"Need for Speed Most Wanted - Sony PSP\", \"Need for Speed Hot Pursuit 2 - PlayStation 2\", \"Burnout Legends - Nintendo DS\"\n",
      "09:13:51 - [Turn 2] USER: How about something similar but for Xbox? <|rec|>\n",
      "09:13:51 - [Turn 2] ASSISTANT: \"Need for Speed Carbon - Xbox 360\", \"Project Gotham Racing 3 - Xbox 360\", \"Forza Motorsport 4 - Xbox 360\"\n",
      "09:13:51 - =================================== Current Turn ===================================\n",
      "09:13:51 - USER: Suggest a name and description for the bundle\n",
      "09:13:51 - ==================== START RAW MODEL OUTPUT (WITH SEMANTIC IDS) ====================\n",
      "<think>\n",
      "\n",
      "</think>\n",
      "\n",
      "Xbox Racing Legends: Speed & Style Pack<|im_end|>\n",
      "09:13:52 - ===================== END RAW MODEL OUTPUT (WITH SEMANTIC IDS) =====================\n",
      "09:13:52 - ASSISTANT: Xbox Racing Legends: Speed & Style Pack\n"
     ]
    }
   ],
   "source": [
    "# 3rd turn: Ask for bundle name\n",
    "INPUT = \"Suggest a name and description for the bundle\"\n",
    "response3 = chat(INPUT, new_convo=False)"
   ]
  },
  {
   "cell_type": "markdown",
   "metadata": {},
   "source": [
    "## More multi-turn conversation"
   ]
  },
  {
   "cell_type": "code",
   "execution_count": 38,
   "metadata": {},
   "outputs": [
    {
     "name": "stdout",
     "output_type": "stream",
     "text": [
      "09:14:07 - USER: Recommend Xbox games similar to \"The Legend of Zelda: Ocarina of Time 3D\"\n",
      "<|rec|>\n",
      "09:14:07 - ==================== START RAW MODEL OUTPUT (WITH SEMANTIC IDS) ====================\n",
      "<think>\n",
      "\n",
      "</think>\n",
      "\n",
      "<|sid_start|><|sid_64|><|sid_271|><|sid_576|><|sid_768|><|sid_end|>, <|sid_start|><|sid_167|><|sid_279|><|sid_746|><|sid_768|><|sid_end|>, <|sid_start|><|sid_167|><|sid_453|><|sid_548|><|sid_768|><|sid_end|><|im_end|>\n",
      "09:14:09 - ===================== END RAW MODEL OUTPUT (WITH SEMANTIC IDS) =====================\n",
      "09:14:09 - ASSISTANT: \"Fallout: New Vegas - Xbox 360 Ultimate Edition\", \"Lightning Returns: Final Fantasy XIII - Xbox 360\", \"Doom 3 - Xbox 360 BFG Edition\"\n"
     ]
    }
   ],
   "source": [
    "# 1st turn: Xbox games similar to Zelda\n",
    "INPUT = \"\"\"Recommend Xbox games similar to <|sid_start|><|sid_201|><|sid_396|><|sid_608|><|sid_769|><|sid_end|>\\n<|rec|>\"\"\".strip()\n",
    "response = chat(INPUT)"
   ]
  },
  {
   "cell_type": "code",
   "execution_count": 39,
   "metadata": {},
   "outputs": [
    {
     "name": "stdout",
     "output_type": "stream",
     "text": [
      "09:14:20 - ========================================= Conversation History =========================================\n",
      "09:14:20 - [Turn 1] USER: Recommend Xbox games similar to \"The Legend of Zelda: Ocarina of Time 3D\"\n",
      "<|rec|>\n",
      "09:14:20 - [Turn 1] ASSISTANT: \"Fallout: New Vegas - Xbox 360 Ultimate Edition\", \"Lightning Returns: Final Fantasy XIII - Xbox 360\", \"Doom 3 - Xbox 360 BFG Edition\"\n",
      "09:14:20 - =================================== Current Turn ===================================\n",
      "09:14:20 - USER: What about something similar but for multiplayer on Wii?\n",
      "<|rec|>\n",
      "09:14:20 - ==================== START RAW MODEL OUTPUT (WITH SEMANTIC IDS) ====================\n",
      "<think>\n",
      "\n",
      "</think>\n",
      "\n",
      "<|sid_start|><|sid_91|><|sid_431|><|sid_741|><|sid_768|><|sid_end|>, <|sid_start|><|sid_91|><|sid_435|><|sid_669|><|sid_768|><|sid_end|>, <|sid_start|><|sid_91|><|sid_435|><|sid_669|><|sid_768|><|sid_end|><|im_end|>\n",
      "09:14:22 - ===================== END RAW MODEL OUTPUT (WITH SEMANTIC IDS) =====================\n",
      "09:14:22 - ASSISTANT: \"Pictionary - Udraw - Nintendo Wii\", \"Angry Birds Trilogy - Nintendo Wii\", \"Angry Birds Trilogy - Nintendo Wii\"\n"
     ]
    }
   ],
   "source": [
    "# 2nd turn: Making it multiplayer\n",
    "INPUT = \"What about something similar but for multiplayer on Wii?\\n<|rec|>\"\n",
    "response = chat(INPUT, new_convo=False)"
   ]
  },
  {
   "cell_type": "code",
   "execution_count": 40,
   "metadata": {},
   "outputs": [
    {
     "name": "stdout",
     "output_type": "stream",
     "text": [
      "09:14:43 - ========================================= Conversation History =========================================\n",
      "09:14:43 - [Turn 1] USER: Recommend Xbox games similar to \"The Legend of Zelda: Ocarina of Time 3D\"\n",
      "<|rec|>\n",
      "09:14:43 - [Turn 1] ASSISTANT: \"Fallout: New Vegas - Xbox 360 Ultimate Edition\", \"Lightning Returns: Final Fantasy XIII - Xbox 360\", \"Doom 3 - Xbox 360 BFG Edition\"\n",
      "09:14:43 - [Turn 2] USER: What about something similar but for multiplayer on Wii?\n",
      "<|rec|>\n",
      "09:14:43 - [Turn 2] ASSISTANT: \"Pictionary - Udraw - Nintendo Wii\", \"Angry Birds Trilogy - Nintendo Wii\", \"Angry Birds Trilogy - Nintendo Wii\"\n",
      "09:14:43 - =================================== Current Turn ===================================\n",
      "09:14:43 - USER: Suggest similar games but for racing\n",
      "<|rec|>\n",
      "09:14:43 - ==================== START RAW MODEL OUTPUT (WITH SEMANTIC IDS) ====================\n",
      "<think>\n",
      "\n",
      "</think>\n",
      "\n",
      "<|sid_start|><|sid_183|><|sid_461|><|sid_616|><|sid_768|><|sid_end|>, <|sid_start|><|sid_183|><|sid_461|><|sid_517|><|sid_768|><|sid_end|>, <|sid_start|><|sid_106|><|sid_492|><|sid_722|><|sid_768|><|sid_end|><|im_end|>\n",
      "09:14:46 - ===================== END RAW MODEL OUTPUT (WITH SEMANTIC IDS) =====================\n",
      "09:14:46 - ASSISTANT: \"Forza Motorsport 4 - Xbox 360\", \"Need for Speed Carbon - Xbox 360\", \"Sonic & All-Stars Racing Transformed (Nintendo Selects) - Nintendo Wii U\"\n"
     ]
    }
   ],
   "source": [
    "# 2nd turn: Making it multiplayer\n",
    "INPUT = \"Suggest similar games but for racing\\n<|rec|>\"\n",
    "response = chat(INPUT, new_convo=False)"
   ]
  },
  {
   "cell_type": "code",
   "execution_count": null,
   "metadata": {},
   "outputs": [],
   "source": []
  }
 ],
 "metadata": {
  "kernelspec": {
   "display_name": ".venv",
   "language": "python",
   "name": "python3"
  },
  "language_info": {
   "codemirror_mode": {
    "name": "ipython",
    "version": 3
   },
   "file_extension": ".py",
   "mimetype": "text/x-python",
   "name": "python",
   "nbconvert_exporter": "python",
   "pygments_lexer": "ipython3",
   "version": "3.12.7"
  }
 },
 "nbformat": 4,
 "nbformat_minor": 4
}
